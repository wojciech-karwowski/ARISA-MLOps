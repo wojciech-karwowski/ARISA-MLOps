{
 "cells": [
  {
   "cell_type": "markdown",
   "id": "b0e9291a-2cb2-4c21-ba31-f362de7f300c",
   "metadata": {
    "editable": false,
    "slideshow": {
     "slide_type": "slide"
    },
    "tags": []
   },
   "source": [
    "## Version 2 - Boss/client feedback\n",
    "Oh no, the client has taken a look at our work and they are not happy.  \n",
    "They spend a lot of money on that data and we have thrown away two whole columns without good reason.  \n",
    "We need to update our feature engineering to include features based on the cabin and name columns,  \n",
    "which should also hopefully improve the performance since they feel 74% is a little too low to put into production.  \n",
    "Also the client doesn't know what to do with a .cbm file, they just want to be able to get new predictions whenever they get new data coming in.  \n",
    "Let's first implement the new features so that we use the dropped columns and then we can think about getting the predictions to the client somehow."
   ]
  },
  {
   "cell_type": "code",
   "execution_count": 1,
   "id": "5c50cb63-103b-4d57-aef5-493a43d5f200",
   "metadata": {
    "editable": true,
    "slideshow": {
     "slide_type": "subslide"
    },
    "tags": []
   },
   "outputs": [
    {
     "name": "stdout",
     "output_type": "stream",
     "text": [
      "Requirement already satisfied: catboost in c:\\users\\wojciech\\documents\\ml-ops-repo\\arisa-mlops\\.venv\\lib\\site-packages (1.2.7)\n",
      "Requirement already satisfied: matplotlib in c:\\users\\wojciech\\documents\\ml-ops-repo\\arisa-mlops\\.venv\\lib\\site-packages (3.10.1)\n",
      "Requirement already satisfied: pandas in c:\\users\\wojciech\\documents\\ml-ops-repo\\arisa-mlops\\.venv\\lib\\site-packages (2.2.3)\n",
      "Requirement already satisfied: scikit-learn in c:\\users\\wojciech\\documents\\ml-ops-repo\\arisa-mlops\\.venv\\lib\\site-packages (1.6.1)\n",
      "Requirement already satisfied: kaggle in c:\\users\\wojciech\\documents\\ml-ops-repo\\arisa-mlops\\.venv\\lib\\site-packages (1.6.17)\n",
      "Requirement already satisfied: optuna in c:\\users\\wojciech\\documents\\ml-ops-repo\\arisa-mlops\\.venv\\lib\\site-packages (4.2.1)\n",
      "Requirement already satisfied: ipywidgets in c:\\users\\wojciech\\documents\\ml-ops-repo\\arisa-mlops\\.venv\\lib\\site-packages (8.1.5)\n",
      "Requirement already satisfied: kaleido in c:\\users\\wojciech\\documents\\ml-ops-repo\\arisa-mlops\\.venv\\lib\\site-packages (0.2.1)\n",
      "Requirement already satisfied: shap in c:\\users\\wojciech\\documents\\ml-ops-repo\\arisa-mlops\\.venv\\lib\\site-packages (0.46.0)\n",
      "Requirement already satisfied: graphviz in c:\\users\\wojciech\\documents\\ml-ops-repo\\arisa-mlops\\.venv\\lib\\site-packages (from catboost) (0.20.3)\n",
      "Requirement already satisfied: numpy<2.0,>=1.16.0 in c:\\users\\wojciech\\documents\\ml-ops-repo\\arisa-mlops\\.venv\\lib\\site-packages (from catboost) (1.26.4)\n",
      "Requirement already satisfied: scipy in c:\\users\\wojciech\\documents\\ml-ops-repo\\arisa-mlops\\.venv\\lib\\site-packages (from catboost) (1.15.2)\n",
      "Requirement already satisfied: plotly in c:\\users\\wojciech\\documents\\ml-ops-repo\\arisa-mlops\\.venv\\lib\\site-packages (from catboost) (6.0.0)\n",
      "Requirement already satisfied: six in c:\\users\\wojciech\\documents\\ml-ops-repo\\arisa-mlops\\.venv\\lib\\site-packages (from catboost) (1.17.0)\n",
      "Requirement already satisfied: contourpy>=1.0.1 in c:\\users\\wojciech\\documents\\ml-ops-repo\\arisa-mlops\\.venv\\lib\\site-packages (from matplotlib) (1.3.1)\n",
      "Requirement already satisfied: cycler>=0.10 in c:\\users\\wojciech\\documents\\ml-ops-repo\\arisa-mlops\\.venv\\lib\\site-packages (from matplotlib) (0.12.1)\n",
      "Requirement already satisfied: fonttools>=4.22.0 in c:\\users\\wojciech\\documents\\ml-ops-repo\\arisa-mlops\\.venv\\lib\\site-packages (from matplotlib) (4.56.0)\n",
      "Requirement already satisfied: kiwisolver>=1.3.1 in c:\\users\\wojciech\\documents\\ml-ops-repo\\arisa-mlops\\.venv\\lib\\site-packages (from matplotlib) (1.4.8)\n",
      "Requirement already satisfied: packaging>=20.0 in c:\\users\\wojciech\\documents\\ml-ops-repo\\arisa-mlops\\.venv\\lib\\site-packages (from matplotlib) (24.2)\n",
      "Requirement already satisfied: pillow>=8 in c:\\users\\wojciech\\documents\\ml-ops-repo\\arisa-mlops\\.venv\\lib\\site-packages (from matplotlib) (11.1.0)\n",
      "Requirement already satisfied: pyparsing>=2.3.1 in c:\\users\\wojciech\\documents\\ml-ops-repo\\arisa-mlops\\.venv\\lib\\site-packages (from matplotlib) (3.2.1)\n",
      "Requirement already satisfied: python-dateutil>=2.7 in c:\\users\\wojciech\\documents\\ml-ops-repo\\arisa-mlops\\.venv\\lib\\site-packages (from matplotlib) (2.9.0.post0)\n",
      "Requirement already satisfied: pytz>=2020.1 in c:\\users\\wojciech\\documents\\ml-ops-repo\\arisa-mlops\\.venv\\lib\\site-packages (from pandas) (2025.1)\n",
      "Requirement already satisfied: tzdata>=2022.7 in c:\\users\\wojciech\\documents\\ml-ops-repo\\arisa-mlops\\.venv\\lib\\site-packages (from pandas) (2025.1)\n",
      "Requirement already satisfied: joblib>=1.2.0 in c:\\users\\wojciech\\documents\\ml-ops-repo\\arisa-mlops\\.venv\\lib\\site-packages (from scikit-learn) (1.4.2)\n",
      "Requirement already satisfied: threadpoolctl>=3.1.0 in c:\\users\\wojciech\\documents\\ml-ops-repo\\arisa-mlops\\.venv\\lib\\site-packages (from scikit-learn) (3.5.0)\n",
      "Requirement already satisfied: certifi>=2023.7.22 in c:\\users\\wojciech\\documents\\ml-ops-repo\\arisa-mlops\\.venv\\lib\\site-packages (from kaggle) (2025.1.31)\n",
      "Requirement already satisfied: requests in c:\\users\\wojciech\\documents\\ml-ops-repo\\arisa-mlops\\.venv\\lib\\site-packages (from kaggle) (2.32.3)\n",
      "Requirement already satisfied: tqdm in c:\\users\\wojciech\\documents\\ml-ops-repo\\arisa-mlops\\.venv\\lib\\site-packages (from kaggle) (4.67.1)\n",
      "Requirement already satisfied: python-slugify in c:\\users\\wojciech\\documents\\ml-ops-repo\\arisa-mlops\\.venv\\lib\\site-packages (from kaggle) (8.0.4)\n",
      "Requirement already satisfied: urllib3 in c:\\users\\wojciech\\documents\\ml-ops-repo\\arisa-mlops\\.venv\\lib\\site-packages (from kaggle) (2.3.0)\n",
      "Requirement already satisfied: bleach in c:\\users\\wojciech\\documents\\ml-ops-repo\\arisa-mlops\\.venv\\lib\\site-packages (from kaggle) (6.2.0)\n",
      "Requirement already satisfied: alembic>=1.5.0 in c:\\users\\wojciech\\documents\\ml-ops-repo\\arisa-mlops\\.venv\\lib\\site-packages (from optuna) (1.14.1)\n",
      "Requirement already satisfied: colorlog in c:\\users\\wojciech\\documents\\ml-ops-repo\\arisa-mlops\\.venv\\lib\\site-packages (from optuna) (6.9.0)\n",
      "Requirement already satisfied: sqlalchemy>=1.4.2 in c:\\users\\wojciech\\documents\\ml-ops-repo\\arisa-mlops\\.venv\\lib\\site-packages (from optuna) (2.0.38)\n",
      "Requirement already satisfied: PyYAML in c:\\users\\wojciech\\documents\\ml-ops-repo\\arisa-mlops\\.venv\\lib\\site-packages (from optuna) (6.0.2)\n",
      "Requirement already satisfied: comm>=0.1.3 in c:\\users\\wojciech\\documents\\ml-ops-repo\\arisa-mlops\\.venv\\lib\\site-packages (from ipywidgets) (0.2.2)\n",
      "Requirement already satisfied: ipython>=6.1.0 in c:\\users\\wojciech\\documents\\ml-ops-repo\\arisa-mlops\\.venv\\lib\\site-packages (from ipywidgets) (9.0.0)\n",
      "Requirement already satisfied: traitlets>=4.3.1 in c:\\users\\wojciech\\documents\\ml-ops-repo\\arisa-mlops\\.venv\\lib\\site-packages (from ipywidgets) (5.14.3)\n",
      "Requirement already satisfied: widgetsnbextension~=4.0.12 in c:\\users\\wojciech\\documents\\ml-ops-repo\\arisa-mlops\\.venv\\lib\\site-packages (from ipywidgets) (4.0.13)\n",
      "Requirement already satisfied: jupyterlab-widgets~=3.0.12 in c:\\users\\wojciech\\documents\\ml-ops-repo\\arisa-mlops\\.venv\\lib\\site-packages (from ipywidgets) (3.0.13)\n",
      "Requirement already satisfied: slicer==0.0.8 in c:\\users\\wojciech\\documents\\ml-ops-repo\\arisa-mlops\\.venv\\lib\\site-packages (from shap) (0.0.8)\n",
      "Requirement already satisfied: numba in c:\\users\\wojciech\\documents\\ml-ops-repo\\arisa-mlops\\.venv\\lib\\site-packages (from shap) (0.61.0)\n",
      "Requirement already satisfied: cloudpickle in c:\\users\\wojciech\\documents\\ml-ops-repo\\arisa-mlops\\.venv\\lib\\site-packages (from shap) (3.1.1)\n",
      "Requirement already satisfied: Mako in c:\\users\\wojciech\\documents\\ml-ops-repo\\arisa-mlops\\.venv\\lib\\site-packages (from alembic>=1.5.0->optuna) (1.3.9)\n",
      "Requirement already satisfied: typing-extensions>=4 in c:\\users\\wojciech\\documents\\ml-ops-repo\\arisa-mlops\\.venv\\lib\\site-packages (from alembic>=1.5.0->optuna) (4.12.2)\n",
      "Requirement already satisfied: colorama in c:\\users\\wojciech\\documents\\ml-ops-repo\\arisa-mlops\\.venv\\lib\\site-packages (from ipython>=6.1.0->ipywidgets) (0.4.6)\n",
      "Requirement already satisfied: decorator in c:\\users\\wojciech\\documents\\ml-ops-repo\\arisa-mlops\\.venv\\lib\\site-packages (from ipython>=6.1.0->ipywidgets) (5.2.1)\n",
      "Requirement already satisfied: ipython-pygments-lexers in c:\\users\\wojciech\\documents\\ml-ops-repo\\arisa-mlops\\.venv\\lib\\site-packages (from ipython>=6.1.0->ipywidgets) (1.1.1)\n",
      "Requirement already satisfied: jedi>=0.16 in c:\\users\\wojciech\\documents\\ml-ops-repo\\arisa-mlops\\.venv\\lib\\site-packages (from ipython>=6.1.0->ipywidgets) (0.19.2)\n",
      "Requirement already satisfied: matplotlib-inline in c:\\users\\wojciech\\documents\\ml-ops-repo\\arisa-mlops\\.venv\\lib\\site-packages (from ipython>=6.1.0->ipywidgets) (0.1.7)\n",
      "Requirement already satisfied: prompt_toolkit<3.1.0,>=3.0.41 in c:\\users\\wojciech\\documents\\ml-ops-repo\\arisa-mlops\\.venv\\lib\\site-packages (from ipython>=6.1.0->ipywidgets) (3.0.50)\n",
      "Requirement already satisfied: pygments>=2.4.0 in c:\\users\\wojciech\\documents\\ml-ops-repo\\arisa-mlops\\.venv\\lib\\site-packages (from ipython>=6.1.0->ipywidgets) (2.19.1)\n",
      "Requirement already satisfied: stack_data in c:\\users\\wojciech\\documents\\ml-ops-repo\\arisa-mlops\\.venv\\lib\\site-packages (from ipython>=6.1.0->ipywidgets) (0.6.3)\n",
      "Requirement already satisfied: greenlet!=0.4.17 in c:\\users\\wojciech\\documents\\ml-ops-repo\\arisa-mlops\\.venv\\lib\\site-packages (from sqlalchemy>=1.4.2->optuna) (3.1.1)\n",
      "Requirement already satisfied: webencodings in c:\\users\\wojciech\\documents\\ml-ops-repo\\arisa-mlops\\.venv\\lib\\site-packages (from bleach->kaggle) (0.5.1)\n",
      "Requirement already satisfied: llvmlite<0.45,>=0.44.0dev0 in c:\\users\\wojciech\\documents\\ml-ops-repo\\arisa-mlops\\.venv\\lib\\site-packages (from numba->shap) (0.44.0)\n",
      "Requirement already satisfied: narwhals>=1.15.1 in c:\\users\\wojciech\\documents\\ml-ops-repo\\arisa-mlops\\.venv\\lib\\site-packages (from plotly->catboost) (1.28.0)\n",
      "Requirement already satisfied: text-unidecode>=1.3 in c:\\users\\wojciech\\documents\\ml-ops-repo\\arisa-mlops\\.venv\\lib\\site-packages (from python-slugify->kaggle) (1.3)\n",
      "Requirement already satisfied: charset-normalizer<4,>=2 in c:\\users\\wojciech\\documents\\ml-ops-repo\\arisa-mlops\\.venv\\lib\\site-packages (from requests->kaggle) (3.4.1)\n",
      "Requirement already satisfied: idna<4,>=2.5 in c:\\users\\wojciech\\documents\\ml-ops-repo\\arisa-mlops\\.venv\\lib\\site-packages (from requests->kaggle) (3.10)\n",
      "Requirement already satisfied: parso<0.9.0,>=0.8.4 in c:\\users\\wojciech\\documents\\ml-ops-repo\\arisa-mlops\\.venv\\lib\\site-packages (from jedi>=0.16->ipython>=6.1.0->ipywidgets) (0.8.4)\n",
      "Requirement already satisfied: wcwidth in c:\\users\\wojciech\\documents\\ml-ops-repo\\arisa-mlops\\.venv\\lib\\site-packages (from prompt_toolkit<3.1.0,>=3.0.41->ipython>=6.1.0->ipywidgets) (0.2.13)\n",
      "Requirement already satisfied: MarkupSafe>=0.9.2 in c:\\users\\wojciech\\documents\\ml-ops-repo\\arisa-mlops\\.venv\\lib\\site-packages (from Mako->alembic>=1.5.0->optuna) (3.0.2)\n",
      "Requirement already satisfied: executing>=1.2.0 in c:\\users\\wojciech\\documents\\ml-ops-repo\\arisa-mlops\\.venv\\lib\\site-packages (from stack_data->ipython>=6.1.0->ipywidgets) (2.2.0)\n",
      "Requirement already satisfied: asttokens>=2.1.0 in c:\\users\\wojciech\\documents\\ml-ops-repo\\arisa-mlops\\.venv\\lib\\site-packages (from stack_data->ipython>=6.1.0->ipywidgets) (3.0.0)\n",
      "Requirement already satisfied: pure-eval in c:\\users\\wojciech\\documents\\ml-ops-repo\\arisa-mlops\\.venv\\lib\\site-packages (from stack_data->ipython>=6.1.0->ipywidgets) (0.2.3)\n"
     ]
    },
    {
     "name": "stderr",
     "output_type": "stream",
     "text": [
      "\n",
      "[notice] A new release of pip is available: 24.0 -> 25.0.1\n",
      "[notice] To update, run: python.exe -m pip install --upgrade pip\n"
     ]
    }
   ],
   "source": [
    "!pip install catboost matplotlib pandas scikit-learn kaggle optuna ipywidgets kaleido shap"
   ]
  },
  {
   "cell_type": "markdown",
   "id": "9e74b72a-4dd5-4a2d-8b23-58443dd4c862",
   "metadata": {
    "editable": false,
    "slideshow": {
     "slide_type": "slide"
    },
    "tags": []
   },
   "source": [
    "Getting the data again."
   ]
  },
  {
   "cell_type": "code",
   "execution_count": 2,
   "id": "33798031-5b84-404d-8934-ff0e9d243db4",
   "metadata": {
    "editable": true,
    "slideshow": {
     "slide_type": "subslide"
    },
    "tags": []
   },
   "outputs": [
    {
     "name": "stdout",
     "output_type": "stream",
     "text": [
      "Dataset URL: https://www.kaggle.com/datasets/wesleyhowe/titanic-labelled-test-set\n"
     ]
    }
   ],
   "source": [
    "import os\n",
    "import zipfile\n",
    "from pathlib import Path\n",
    "from kaggle.api.kaggle_api_extended import KaggleApi\n",
    "\n",
    "api = KaggleApi()\n",
    "api.authenticate()\n",
    "\n",
    "dataset = \"titanic\"  # original competition dataset\n",
    "dataset_test = \"wesleyhowe/titanic-labelled-test-set\"  # test set augmented with target labels\n",
    "download_folder = Path(\"data/titanic\")\n",
    "zip_path = download_folder / \"titanic.zip\"\n",
    "download_folder.mkdir(parents=True, exist_ok=True)\n",
    "\n",
    "api.competition_download_files(dataset, path=str(download_folder))\n",
    "api.dataset_download_files(dataset_test, path=str(download_folder), unzip=True)\n",
    "\n",
    "with zipfile.ZipFile(zip_path, \"r\") as zip_ref:\n",
    "    zip_ref.extractall(str(download_folder))\n",
    "\n",
    "os.remove(zip_path)"
   ]
  },
  {
   "cell_type": "code",
   "execution_count": 1,
   "id": "0a42389d-e7af-4a9c-bf0d-58017bf9688b",
   "metadata": {
    "editable": true,
    "slideshow": {
     "slide_type": "subslide"
    },
    "tags": []
   },
   "outputs": [
    {
     "name": "stdout",
     "output_type": "stream",
     "text": [
      " Volume in drive C has no label.\n",
      " Volume Serial Number is D0EF-588E\n",
      "\n",
      " Directory of c:\\Users\\Wojciech\\Documents\\ML-Ops-repo\\ARISA-MLOps\\notebooks\\data\n",
      "\n"
     ]
    },
    {
     "name": "stderr",
     "output_type": "stream",
     "text": [
      "File Not Found\n"
     ]
    }
   ],
   "source": [
    "!dir \"./data/titanic\""
   ]
  },
  {
   "cell_type": "markdown",
   "id": "890bca88-b545-4226-ae7f-64b1388190fd",
   "metadata": {
    "editable": false,
    "slideshow": {
     "slide_type": "slide"
    },
    "tags": []
   },
   "source": [
    "Read in the data again and dropping passengerId, and now only ticket, since we will be using Name and Cabin."
   ]
  },
  {
   "cell_type": "code",
   "execution_count": 4,
   "id": "349a653a-37fe-480f-9e4d-3dd377e6a012",
   "metadata": {
    "editable": true,
    "slideshow": {
     "slide_type": "subslide"
    },
    "tags": []
   },
   "outputs": [
    {
     "data": {
      "text/html": [
       "<div>\n",
       "<style scoped>\n",
       "    .dataframe tbody tr th:only-of-type {\n",
       "        vertical-align: middle;\n",
       "    }\n",
       "\n",
       "    .dataframe tbody tr th {\n",
       "        vertical-align: top;\n",
       "    }\n",
       "\n",
       "    .dataframe thead th {\n",
       "        text-align: right;\n",
       "    }\n",
       "</style>\n",
       "<table border=\"1\" class=\"dataframe\">\n",
       "  <thead>\n",
       "    <tr style=\"text-align: right;\">\n",
       "      <th></th>\n",
       "      <th>Survived</th>\n",
       "      <th>Pclass</th>\n",
       "      <th>Name</th>\n",
       "      <th>Sex</th>\n",
       "      <th>Age</th>\n",
       "      <th>SibSp</th>\n",
       "      <th>Parch</th>\n",
       "      <th>Fare</th>\n",
       "      <th>Cabin</th>\n",
       "      <th>Embarked</th>\n",
       "    </tr>\n",
       "  </thead>\n",
       "  <tbody>\n",
       "    <tr>\n",
       "      <th>0</th>\n",
       "      <td>0</td>\n",
       "      <td>3</td>\n",
       "      <td>Braund, Mr. Owen Harris</td>\n",
       "      <td>male</td>\n",
       "      <td>22.0</td>\n",
       "      <td>1</td>\n",
       "      <td>0</td>\n",
       "      <td>7.2500</td>\n",
       "      <td>NaN</td>\n",
       "      <td>S</td>\n",
       "    </tr>\n",
       "    <tr>\n",
       "      <th>1</th>\n",
       "      <td>1</td>\n",
       "      <td>1</td>\n",
       "      <td>Cumings, Mrs. John Bradley (Florence Briggs Th...</td>\n",
       "      <td>female</td>\n",
       "      <td>38.0</td>\n",
       "      <td>1</td>\n",
       "      <td>0</td>\n",
       "      <td>71.2833</td>\n",
       "      <td>C85</td>\n",
       "      <td>C</td>\n",
       "    </tr>\n",
       "    <tr>\n",
       "      <th>2</th>\n",
       "      <td>1</td>\n",
       "      <td>3</td>\n",
       "      <td>Heikkinen, Miss. Laina</td>\n",
       "      <td>female</td>\n",
       "      <td>26.0</td>\n",
       "      <td>0</td>\n",
       "      <td>0</td>\n",
       "      <td>7.9250</td>\n",
       "      <td>NaN</td>\n",
       "      <td>S</td>\n",
       "    </tr>\n",
       "    <tr>\n",
       "      <th>3</th>\n",
       "      <td>1</td>\n",
       "      <td>1</td>\n",
       "      <td>Futrelle, Mrs. Jacques Heath (Lily May Peel)</td>\n",
       "      <td>female</td>\n",
       "      <td>35.0</td>\n",
       "      <td>1</td>\n",
       "      <td>0</td>\n",
       "      <td>53.1000</td>\n",
       "      <td>C123</td>\n",
       "      <td>S</td>\n",
       "    </tr>\n",
       "    <tr>\n",
       "      <th>4</th>\n",
       "      <td>0</td>\n",
       "      <td>3</td>\n",
       "      <td>Allen, Mr. William Henry</td>\n",
       "      <td>male</td>\n",
       "      <td>35.0</td>\n",
       "      <td>0</td>\n",
       "      <td>0</td>\n",
       "      <td>8.0500</td>\n",
       "      <td>NaN</td>\n",
       "      <td>S</td>\n",
       "    </tr>\n",
       "  </tbody>\n",
       "</table>\n",
       "</div>"
      ],
      "text/plain": [
       "   Survived  Pclass                                               Name  \\\n",
       "0         0       3                            Braund, Mr. Owen Harris   \n",
       "1         1       1  Cumings, Mrs. John Bradley (Florence Briggs Th...   \n",
       "2         1       3                             Heikkinen, Miss. Laina   \n",
       "3         1       1       Futrelle, Mrs. Jacques Heath (Lily May Peel)   \n",
       "4         0       3                           Allen, Mr. William Henry   \n",
       "\n",
       "      Sex   Age  SibSp  Parch     Fare Cabin Embarked  \n",
       "0    male  22.0      1      0   7.2500   NaN        S  \n",
       "1  female  38.0      1      0  71.2833   C85        C  \n",
       "2  female  26.0      0      0   7.9250   NaN        S  \n",
       "3  female  35.0      1      0  53.1000  C123        S  \n",
       "4    male  35.0      0      0   8.0500   NaN        S  "
      ]
     },
     "execution_count": 4,
     "metadata": {},
     "output_type": "execute_result"
    }
   ],
   "source": [
    "import pandas as pd\n",
    "\n",
    "df_train = pd.read_csv(download_folder / \"train.csv\")\n",
    "df_ids = df_train.pop(\"PassengerId\")  # set aside PassengerId\n",
    "\n",
    "df_train.sample(10)\n",
    "\n",
    "df_train = df_train.drop(columns=[\"Ticket\"])\n",
    "df_train.head()"
   ]
  },
  {
   "cell_type": "markdown",
   "id": "799355dc-ec05-4c0f-84c0-b4e46b390d45",
   "metadata": {
    "editable": false,
    "slideshow": {
     "slide_type": "slide"
    },
    "tags": []
   },
   "source": [
    "Quick regex match on the titles"
   ]
  },
  {
   "cell_type": "code",
   "execution_count": 5,
   "id": "98cde473-4115-4b1c-8f56-f5d2a3d66997",
   "metadata": {
    "editable": true,
    "slideshow": {
     "slide_type": "subslide"
    },
    "tags": []
   },
   "outputs": [
    {
     "data": {
      "text/html": [
       "<div>\n",
       "<style scoped>\n",
       "    .dataframe tbody tr th:only-of-type {\n",
       "        vertical-align: middle;\n",
       "    }\n",
       "\n",
       "    .dataframe tbody tr th {\n",
       "        vertical-align: top;\n",
       "    }\n",
       "\n",
       "    .dataframe thead th {\n",
       "        text-align: right;\n",
       "    }\n",
       "</style>\n",
       "<table border=\"1\" class=\"dataframe\">\n",
       "  <thead>\n",
       "    <tr style=\"text-align: right;\">\n",
       "      <th></th>\n",
       "      <th>Survived</th>\n",
       "      <th>Pclass</th>\n",
       "      <th>Name</th>\n",
       "      <th>Sex</th>\n",
       "      <th>Age</th>\n",
       "      <th>SibSp</th>\n",
       "      <th>Parch</th>\n",
       "      <th>Fare</th>\n",
       "      <th>Cabin</th>\n",
       "      <th>Embarked</th>\n",
       "      <th>Title</th>\n",
       "    </tr>\n",
       "  </thead>\n",
       "  <tbody>\n",
       "    <tr>\n",
       "      <th>151</th>\n",
       "      <td>1</td>\n",
       "      <td>1</td>\n",
       "      <td>Pears, Mrs. Thomas (Edith Wearne)</td>\n",
       "      <td>female</td>\n",
       "      <td>22.0</td>\n",
       "      <td>1</td>\n",
       "      <td>0</td>\n",
       "      <td>66.6000</td>\n",
       "      <td>C2</td>\n",
       "      <td>S</td>\n",
       "      <td>Mrs</td>\n",
       "    </tr>\n",
       "    <tr>\n",
       "      <th>335</th>\n",
       "      <td>0</td>\n",
       "      <td>3</td>\n",
       "      <td>Denkoff, Mr. Mitto</td>\n",
       "      <td>male</td>\n",
       "      <td>NaN</td>\n",
       "      <td>0</td>\n",
       "      <td>0</td>\n",
       "      <td>7.8958</td>\n",
       "      <td>NaN</td>\n",
       "      <td>S</td>\n",
       "      <td>Mr</td>\n",
       "    </tr>\n",
       "    <tr>\n",
       "      <th>748</th>\n",
       "      <td>0</td>\n",
       "      <td>1</td>\n",
       "      <td>Marvin, Mr. Daniel Warner</td>\n",
       "      <td>male</td>\n",
       "      <td>19.0</td>\n",
       "      <td>1</td>\n",
       "      <td>0</td>\n",
       "      <td>53.1000</td>\n",
       "      <td>D30</td>\n",
       "      <td>S</td>\n",
       "      <td>Mr</td>\n",
       "    </tr>\n",
       "    <tr>\n",
       "      <th>16</th>\n",
       "      <td>0</td>\n",
       "      <td>3</td>\n",
       "      <td>Rice, Master. Eugene</td>\n",
       "      <td>male</td>\n",
       "      <td>2.0</td>\n",
       "      <td>4</td>\n",
       "      <td>1</td>\n",
       "      <td>29.1250</td>\n",
       "      <td>NaN</td>\n",
       "      <td>Q</td>\n",
       "      <td>Master</td>\n",
       "    </tr>\n",
       "    <tr>\n",
       "      <th>354</th>\n",
       "      <td>0</td>\n",
       "      <td>3</td>\n",
       "      <td>Yousif, Mr. Wazli</td>\n",
       "      <td>male</td>\n",
       "      <td>NaN</td>\n",
       "      <td>0</td>\n",
       "      <td>0</td>\n",
       "      <td>7.2250</td>\n",
       "      <td>NaN</td>\n",
       "      <td>C</td>\n",
       "      <td>Mr</td>\n",
       "    </tr>\n",
       "  </tbody>\n",
       "</table>\n",
       "</div>"
      ],
      "text/plain": [
       "     Survived  Pclass                               Name     Sex   Age  SibSp  \\\n",
       "151         1       1  Pears, Mrs. Thomas (Edith Wearne)  female  22.0      1   \n",
       "335         0       3                 Denkoff, Mr. Mitto    male   NaN      0   \n",
       "748         0       1          Marvin, Mr. Daniel Warner    male  19.0      1   \n",
       "16          0       3               Rice, Master. Eugene    male   2.0      4   \n",
       "354         0       3                  Yousif, Mr. Wazli    male   NaN      0   \n",
       "\n",
       "     Parch     Fare Cabin Embarked   Title  \n",
       "151      0  66.6000    C2        S     Mrs  \n",
       "335      0   7.8958   NaN        S      Mr  \n",
       "748      0  53.1000   D30        S      Mr  \n",
       "16       1  29.1250   NaN        Q  Master  \n",
       "354      0   7.2250   NaN        C      Mr  "
      ]
     },
     "execution_count": 5,
     "metadata": {},
     "output_type": "execute_result"
    }
   ],
   "source": [
    "import re\n",
    "def extract_title(name):\n",
    "    match = re.search(r',\\s*([\\w\\s]+)\\.', name)\n",
    "    return match.group(1) if match else None\n",
    "df_train[\"Title\"] = df_train[\"Name\"].apply(extract_title)\n",
    "df_train.sample(5)"
   ]
  },
  {
   "cell_type": "markdown",
   "id": "9117e6a6-9751-401d-ae68-ef89f68b5597",
   "metadata": {
    "editable": false,
    "slideshow": {
     "slide_type": "subslide"
    },
    "tags": []
   },
   "source": [
    "Looks about right:"
   ]
  },
  {
   "cell_type": "code",
   "execution_count": 6,
   "id": "9fdfb560-31d7-42e8-8f6a-8a1f206bad56",
   "metadata": {
    "editable": true,
    "slideshow": {
     "slide_type": "subslide"
    },
    "tags": []
   },
   "outputs": [
    {
     "data": {
      "text/plain": [
       "array(['Mr', 'Mrs', 'Miss', 'Master', 'Don', 'Rev', 'Dr', 'Mme', 'Ms',\n",
       "       'Major', 'Lady', 'Sir', 'Mlle', 'Col', 'Capt', 'the Countess',\n",
       "       'Jonkheer'], dtype=object)"
      ]
     },
     "execution_count": 6,
     "metadata": {},
     "output_type": "execute_result"
    }
   ],
   "source": [
    "df_train[\"Title\"].unique()"
   ]
  },
  {
   "cell_type": "markdown",
   "id": "5363fac1-5136-47f3-9a55-f8163812f8da",
   "metadata": {
    "editable": false,
    "slideshow": {
     "slide_type": "slide"
    },
    "tags": []
   },
   "source": [
    "And for the Cabin we split into deck and cabin number:"
   ]
  },
  {
   "cell_type": "code",
   "execution_count": 7,
   "id": "71d69c1b-7f67-4ff6-bef1-b3314fcff2e1",
   "metadata": {
    "editable": true,
    "slideshow": {
     "slide_type": "subslide"
    },
    "tags": []
   },
   "outputs": [],
   "source": [
    "# pattern to match a letter followed by a number\n",
    "pattern = r'([A-Za-z]+)(\\d+)'\n",
    "\n",
    "# run pattern on Cabin to extract all matches\n",
    "matches = df_train['Cabin'].str.extractall(pattern)\n",
    "matches.reset_index(inplace=True)\n",
    "\n",
    "# create a new column for each letter and number matched\n",
    "result = matches.pivot(index='level_0', columns='match', values=[0, 1])\n",
    "result.columns = [f\"{col[0]}_{col[1]}\" for col in result.columns]\n",
    "\n",
    "# join to original train dataframe\n",
    "df_train = df_train.join(result[[\"0_0\", \"1_0\"]])\n",
    "\n",
    "# fill nans\n",
    "df_train[\"1_0\"] = df_train[\"1_0\"].astype(float)\n",
    "df_train = df_train.fillna({\"0_0\": \"N\", \"1_0\": df_train[\"1_0\"].mean()})\n",
    "df_train[\"1_0\"] = df_train[\"1_0\"].astype(int)\n",
    "\n",
    "# rename new columns and drop old ones\n",
    "df_train = df_train.rename(columns={\"0_0\": \"Deck\", \"1_0\": \"CabinNumber\"})\n",
    "df_train.drop(columns=[\"Cabin\", \"Name\"], axis=1, inplace=True)"
   ]
  },
  {
   "cell_type": "markdown",
   "id": "65b14cc6-b333-497f-922c-a321f50dfb44",
   "metadata": {
    "editable": false,
    "slideshow": {
     "slide_type": "slide"
    },
    "tags": []
   },
   "source": [
    "Fill remaining nans:"
   ]
  },
  {
   "cell_type": "code",
   "execution_count": 8,
   "id": "ff0bf760-97b2-4e78-8eb3-d4e8c118f1fd",
   "metadata": {
    "editable": true,
    "slideshow": {
     "slide_type": "subslide"
    },
    "tags": []
   },
   "outputs": [
    {
     "name": "stdout",
     "output_type": "stream",
     "text": [
      "<class 'pandas.core.frame.DataFrame'>\n",
      "RangeIndex: 891 entries, 0 to 890\n",
      "Data columns (total 11 columns):\n",
      " #   Column       Non-Null Count  Dtype  \n",
      "---  ------       --------------  -----  \n",
      " 0   Survived     891 non-null    int64  \n",
      " 1   Pclass       891 non-null    int64  \n",
      " 2   Sex          891 non-null    object \n",
      " 3   Age          891 non-null    float64\n",
      " 4   SibSp        891 non-null    int64  \n",
      " 5   Parch        891 non-null    int64  \n",
      " 6   Fare         891 non-null    float64\n",
      " 7   Embarked     891 non-null    object \n",
      " 8   Title        891 non-null    object \n",
      " 9   Deck         891 non-null    object \n",
      " 10  CabinNumber  891 non-null    int32  \n",
      "dtypes: float64(2), int32(1), int64(4), object(4)\n",
      "memory usage: 73.2+ KB\n"
     ]
    }
   ],
   "source": [
    "df_train = df_train.fillna({\"Embarked\": \"N\", \"Age\": df_train[\"Age\"].mean()})\n",
    "df_train.info()"
   ]
  },
  {
   "cell_type": "markdown",
   "id": "565124f5-e8ae-4890-856c-bf9368730d7c",
   "metadata": {
    "editable": false,
    "slideshow": {
     "slide_type": "slide"
    },
    "tags": []
   },
   "source": [
    "Get indices for categorical columns now including Title and Deck (CabinNumber is numerical):"
   ]
  },
  {
   "cell_type": "code",
   "execution_count": 9,
   "id": "25939d38-d8f1-409d-99a5-5422918d46b6",
   "metadata": {
    "editable": true,
    "slideshow": {
     "slide_type": "subslide"
    },
    "tags": []
   },
   "outputs": [
    {
     "data": {
      "text/plain": [
       "[0, 1, 6, 8, 7]"
      ]
     },
     "execution_count": 9,
     "metadata": {},
     "output_type": "execute_result"
    }
   ],
   "source": [
    "categorical = [\n",
    "    \"Pclass\", \n",
    "    \"Sex\", \n",
    "    \"Embarked\",\n",
    "    \"Deck\",\n",
    "    \"Title\"\n",
    "]\n",
    "\n",
    "y_train = df_train.pop(\"Survived\")\n",
    "X_train = df_train\n",
    "\n",
    "categorical_indices = [X_train.columns.get_loc(col) for col in categorical if col in X_train.columns]\n",
    "categorical_indices"
   ]
  },
  {
   "cell_type": "markdown",
   "id": "37229885-44d0-479e-81d0-0dcae5bfd507",
   "metadata": {
    "editable": false,
    "slideshow": {
     "slide_type": "slide"
    },
    "tags": []
   },
   "source": [
    "And run the hyperparameter optimization:"
   ]
  },
  {
   "cell_type": "code",
   "execution_count": 10,
   "id": "4891bf8c-64b0-4735-8d2f-03425d886925",
   "metadata": {
    "editable": true,
    "slideshow": {
     "slide_type": "subslide"
    },
    "tags": []
   },
   "outputs": [
    {
     "name": "stdout",
     "output_type": "stream",
     "text": [
      "Best Parameters: {'depth': 4, 'learning_rate': 0.22006324169065175, 'iterations': 163, 'l2_leaf_reg': 0.031900004970318356, 'bagging_temperature': 0.5964381011651683, 'random_strength': 0.0013931822006011051}\n"
     ]
    }
   ],
   "source": [
    "import joblib\n",
    "import optuna\n",
    "from sklearn.model_selection import train_test_split\n",
    "from catboost import CatBoostClassifier, Pool, cv\n",
    "\n",
    "outfolder = Path(\"results\")\n",
    "outfolder.mkdir(parents=True, exist_ok=True)\n",
    "\n",
    "best_params_path = outfolder / \"best_params_v2.pkl\"\n",
    "\n",
    "if not best_params_path.is_file():\n",
    "    X_train_opt, X_val_opt, y_train_opt, y_val_opt = train_test_split(X_train, y_train, test_size=0.25, random_state=42)\n",
    "    \n",
    "    def objective(trial):\n",
    "        params = {\n",
    "            \"depth\": trial.suggest_int(\"depth\", 2, 10),\n",
    "            \"learning_rate\": trial.suggest_float(\"learning_rate\", 1e-4, 0.3),\n",
    "            \"iterations\": trial.suggest_int(\"iterations\", 50, 300),\n",
    "            \"l2_leaf_reg\": trial.suggest_float(\"l2_leaf_reg\", 1e-5, 100.0, log=True),\n",
    "            \"bagging_temperature\": trial.suggest_float(\"bagging_temperature\", 0.01, 1),\n",
    "            \"random_strength\": trial.suggest_float(\"random_strength\", 1e-5, 100.0, log=True)\n",
    "        }\n",
    "        model = CatBoostClassifier(**params, verbose=0)\n",
    "        model.fit(X_train_opt, y_train_opt, eval_set=(X_val_opt, y_val_opt), cat_features=categorical_indices, early_stopping_rounds=50)\n",
    "        return model.get_best_score()[\"validation\"][\"Logloss\"]\n",
    "    study = optuna.create_study(direction=\"minimize\")\n",
    "    study.optimize(objective, n_trials=50)\n",
    "    \n",
    "    joblib.dump(study.best_params, best_params_path)\n",
    "    params = study.best_params\n",
    "else:\n",
    "    params = joblib.load(best_params_path)\n",
    "print(\"Best Parameters:\", params)"
   ]
  },
  {
   "cell_type": "markdown",
   "id": "8af73d1c-bb53-47e5-bc84-293972e6837c",
   "metadata": {
    "editable": false,
    "slideshow": {
     "slide_type": "slide"
    },
    "tags": []
   },
   "source": [
    "Do cross validation again:"
   ]
  },
  {
   "cell_type": "code",
   "execution_count": 11,
   "id": "f54fd995-ebc1-4adc-86c9-595fe90243cc",
   "metadata": {
    "editable": true,
    "scrolled": true,
    "slideshow": {
     "slide_type": "subslide"
    },
    "tags": []
   },
   "outputs": [
    {
     "name": "stdout",
     "output_type": "stream",
     "text": [
      "Training on fold [0/5]\n",
      "0:\tlearn: 0.7471264\ttest: 0.7692308\tbest: 0.7692308 (0)\ttotal: 173ms\tremaining: 28.1s\n",
      "1:\tlearn: 0.7533461\ttest: 0.7938931\tbest: 0.7938931 (1)\ttotal: 187ms\tremaining: 15.1s\n",
      "2:\tlearn: 0.7557252\ttest: 0.7938931\tbest: 0.7938931 (1)\ttotal: 201ms\tremaining: 10.7s\n",
      "3:\tlearn: 0.7600768\ttest: 0.7938931\tbest: 0.7938931 (1)\ttotal: 215ms\tremaining: 8.54s\n",
      "4:\tlearn: 0.7600768\ttest: 0.7938931\tbest: 0.7938931 (1)\ttotal: 229ms\tremaining: 7.25s\n",
      "5:\tlearn: 0.7600768\ttest: 0.7938931\tbest: 0.7938931 (1)\ttotal: 244ms\tremaining: 6.38s\n",
      "6:\tlearn: 0.7635659\ttest: 0.8000000\tbest: 0.8000000 (6)\ttotal: 257ms\tremaining: 5.74s\n",
      "7:\tlearn: 0.7659574\ttest: 0.8000000\tbest: 0.8000000 (6)\ttotal: 272ms\tremaining: 5.28s\n",
      "8:\tlearn: 0.7730769\ttest: 0.7938931\tbest: 0.8000000 (6)\ttotal: 288ms\tremaining: 4.92s\n",
      "9:\tlearn: 0.7760618\ttest: 0.7938931\tbest: 0.8000000 (6)\ttotal: 302ms\tremaining: 4.61s\n",
      "10:\tlearn: 0.7775629\ttest: 0.7938931\tbest: 0.8000000 (6)\ttotal: 316ms\tremaining: 4.36s\n",
      "11:\tlearn: 0.7755906\ttest: 0.7906977\tbest: 0.8000000 (6)\ttotal: 330ms\tremaining: 4.15s\n",
      "12:\tlearn: 0.7898833\ttest: 0.7906977\tbest: 0.8000000 (6)\ttotal: 343ms\tremaining: 3.96s\n",
      "13:\tlearn: 0.7945736\ttest: 0.7906977\tbest: 0.8000000 (6)\ttotal: 359ms\tremaining: 3.82s\n",
      "14:\tlearn: 0.8084291\ttest: 0.7906977\tbest: 0.8000000 (6)\ttotal: 375ms\tremaining: 3.7s\n",
      "15:\tlearn: 0.8160920\ttest: 0.7968750\tbest: 0.8000000 (6)\ttotal: 389ms\tremaining: 3.57s\n",
      "16:\tlearn: 0.8062622\ttest: 0.7840000\tbest: 0.8000000 (6)\ttotal: 406ms\tremaining: 3.48s\n",
      "17:\tlearn: 0.8201161\ttest: 0.8031496\tbest: 0.8031496 (17)\ttotal: 422ms\tremaining: 3.4s\n",
      "18:\tlearn: 0.8217054\ttest: 0.8031496\tbest: 0.8031496 (17)\ttotal: 437ms\tremaining: 3.31s\n",
      "19:\tlearn: 0.8171206\ttest: 0.8031496\tbest: 0.8031496 (17)\ttotal: 453ms\tremaining: 3.24s\n",
      "20:\tlearn: 0.8171206\ttest: 0.8031496\tbest: 0.8031496 (17)\ttotal: 469ms\tremaining: 3.17s\n",
      "21:\tlearn: 0.8194175\ttest: 0.8125000\tbest: 0.8125000 (21)\ttotal: 483ms\tremaining: 3.09s\n",
      "22:\tlearn: 0.8156863\ttest: 0.7840000\tbest: 0.8125000 (21)\ttotal: 497ms\tremaining: 3.03s\n",
      "23:\tlearn: 0.8156863\ttest: 0.7903226\tbest: 0.8125000 (21)\ttotal: 511ms\tremaining: 2.96s\n",
      "24:\tlearn: 0.8149606\ttest: 0.7840000\tbest: 0.8125000 (21)\ttotal: 524ms\tremaining: 2.89s\n",
      "25:\tlearn: 0.8251473\ttest: 0.8095238\tbest: 0.8125000 (21)\ttotal: 536ms\tremaining: 2.83s\n",
      "26:\tlearn: 0.8219178\ttest: 0.8095238\tbest: 0.8125000 (21)\ttotal: 550ms\tremaining: 2.77s\n",
      "27:\tlearn: 0.8219178\ttest: 0.8095238\tbest: 0.8125000 (21)\ttotal: 562ms\tremaining: 2.71s\n",
      "28:\tlearn: 0.8219178\ttest: 0.8095238\tbest: 0.8125000 (21)\ttotal: 576ms\tremaining: 2.66s\n",
      "29:\tlearn: 0.8260870\ttest: 0.8372093\tbest: 0.8372093 (29)\ttotal: 590ms\tremaining: 2.62s\n",
      "30:\tlearn: 0.8274510\ttest: 0.8372093\tbest: 0.8372093 (29)\ttotal: 603ms\tremaining: 2.57s\n",
      "31:\tlearn: 0.8290766\ttest: 0.8372093\tbest: 0.8372093 (29)\ttotal: 616ms\tremaining: 2.52s\n",
      "32:\tlearn: 0.8258317\ttest: 0.8281250\tbest: 0.8372093 (29)\ttotal: 629ms\tremaining: 2.48s\n",
      "33:\tlearn: 0.8290766\ttest: 0.8461538\tbest: 0.8461538 (33)\ttotal: 642ms\tremaining: 2.43s\n",
      "34:\tlearn: 0.8330059\ttest: 0.8461538\tbest: 0.8461538 (33)\ttotal: 654ms\tremaining: 2.39s\n",
      "35:\tlearn: 0.8414873\ttest: 0.8461538\tbest: 0.8461538 (33)\ttotal: 667ms\tremaining: 2.35s\n",
      "36:\tlearn: 0.8414873\ttest: 0.8461538\tbest: 0.8461538 (33)\ttotal: 679ms\tremaining: 2.31s\n",
      "37:\tlearn: 0.8385827\ttest: 0.8461538\tbest: 0.8461538 (33)\ttotal: 693ms\tremaining: 2.28s\n",
      "38:\tlearn: 0.8425197\ttest: 0.8396947\tbest: 0.8461538 (33)\ttotal: 706ms\tremaining: 2.25s\n",
      "39:\tlearn: 0.8454012\ttest: 0.8396947\tbest: 0.8461538 (33)\ttotal: 720ms\tremaining: 2.21s\n",
      "40:\tlearn: 0.8454012\ttest: 0.8307692\tbest: 0.8461538 (33)\ttotal: 733ms\tremaining: 2.18s\n",
      "41:\tlearn: 0.8476562\ttest: 0.8307692\tbest: 0.8461538 (33)\ttotal: 745ms\tremaining: 2.15s\n",
      "42:\tlearn: 0.8476562\ttest: 0.8372093\tbest: 0.8461538 (33)\ttotal: 758ms\tremaining: 2.12s\n",
      "43:\tlearn: 0.8538012\ttest: 0.8372093\tbest: 0.8461538 (33)\ttotal: 772ms\tremaining: 2.09s\n",
      "44:\tlearn: 0.8593750\ttest: 0.8372093\tbest: 0.8461538 (33)\ttotal: 785ms\tremaining: 2.06s\n",
      "45:\tlearn: 0.8610568\ttest: 0.8372093\tbest: 0.8461538 (33)\ttotal: 799ms\tremaining: 2.03s\n",
      "46:\tlearn: 0.8610568\ttest: 0.8281250\tbest: 0.8461538 (33)\ttotal: 812ms\tremaining: 2s\n",
      "47:\tlearn: 0.8610568\ttest: 0.8188976\tbest: 0.8461538 (33)\ttotal: 825ms\tremaining: 1.98s\n",
      "48:\tlearn: 0.8582677\ttest: 0.8281250\tbest: 0.8461538 (33)\ttotal: 838ms\tremaining: 1.95s\n",
      "49:\tlearn: 0.8605108\ttest: 0.8000000\tbest: 0.8461538 (33)\ttotal: 852ms\tremaining: 1.93s\n",
      "50:\tlearn: 0.8610568\ttest: 0.7936508\tbest: 0.8461538 (33)\ttotal: 865ms\tremaining: 1.9s\n",
      "51:\tlearn: 0.8593750\ttest: 0.8031496\tbest: 0.8461538 (33)\ttotal: 878ms\tremaining: 1.87s\n",
      "52:\tlearn: 0.8632813\ttest: 0.8125000\tbest: 0.8461538 (33)\ttotal: 891ms\tremaining: 1.85s\n",
      "53:\tlearn: 0.8615984\ttest: 0.8125000\tbest: 0.8461538 (33)\ttotal: 904ms\tremaining: 1.82s\n",
      "54:\tlearn: 0.8638132\ttest: 0.8125000\tbest: 0.8461538 (33)\ttotal: 917ms\tremaining: 1.8s\n",
      "55:\tlearn: 0.8671875\ttest: 0.8031496\tbest: 0.8461538 (33)\ttotal: 933ms\tremaining: 1.78s\n",
      "56:\tlearn: 0.8715953\ttest: 0.8031496\tbest: 0.8461538 (33)\ttotal: 948ms\tremaining: 1.76s\n",
      "57:\tlearn: 0.8693957\ttest: 0.8031496\tbest: 0.8461538 (33)\ttotal: 962ms\tremaining: 1.74s\n",
      "58:\tlearn: 0.8759690\ttest: 0.8125000\tbest: 0.8461538 (33)\ttotal: 975ms\tremaining: 1.72s\n",
      "59:\tlearn: 0.8759690\ttest: 0.8031496\tbest: 0.8461538 (33)\ttotal: 990ms\tremaining: 1.7s\n",
      "60:\tlearn: 0.8759690\ttest: 0.7968750\tbest: 0.8461538 (33)\ttotal: 1s\tremaining: 1.68s\n",
      "61:\tlearn: 0.8759690\ttest: 0.8031496\tbest: 0.8461538 (33)\ttotal: 1.02s\tremaining: 1.66s\n",
      "62:\tlearn: 0.8781431\ttest: 0.8031496\tbest: 0.8461538 (33)\ttotal: 1.03s\tremaining: 1.64s\n",
      "63:\tlearn: 0.8781431\ttest: 0.8031496\tbest: 0.8461538 (33)\ttotal: 1.04s\tremaining: 1.62s\n",
      "64:\tlearn: 0.8798450\ttest: 0.8031496\tbest: 0.8461538 (33)\ttotal: 1.06s\tremaining: 1.59s\n",
      "65:\tlearn: 0.8798450\ttest: 0.8031496\tbest: 0.8461538 (33)\ttotal: 1.07s\tremaining: 1.57s\n",
      "66:\tlearn: 0.8798450\ttest: 0.8031496\tbest: 0.8461538 (33)\ttotal: 1.08s\tremaining: 1.55s\n",
      "67:\tlearn: 0.8820116\ttest: 0.8031496\tbest: 0.8461538 (33)\ttotal: 1.1s\tremaining: 1.53s\n",
      "68:\tlearn: 0.8820116\ttest: 0.8031496\tbest: 0.8461538 (33)\ttotal: 1.11s\tremaining: 1.51s\n",
      "69:\tlearn: 0.8841699\ttest: 0.8031496\tbest: 0.8461538 (33)\ttotal: 1.12s\tremaining: 1.49s\n",
      "70:\tlearn: 0.8837209\ttest: 0.8031496\tbest: 0.8461538 (33)\ttotal: 1.14s\tremaining: 1.47s\n",
      "71:\tlearn: 0.8880309\ttest: 0.8031496\tbest: 0.8461538 (33)\ttotal: 1.15s\tremaining: 1.45s\n",
      "72:\tlearn: 0.8880309\ttest: 0.8031496\tbest: 0.8461538 (33)\ttotal: 1.16s\tremaining: 1.43s\n",
      "73:\tlearn: 0.8880309\ttest: 0.8031496\tbest: 0.8461538 (33)\ttotal: 1.18s\tremaining: 1.42s\n",
      "74:\tlearn: 0.8932039\ttest: 0.8000000\tbest: 0.8461538 (33)\ttotal: 1.19s\tremaining: 1.4s\n",
      "75:\tlearn: 0.8953488\ttest: 0.8031496\tbest: 0.8461538 (33)\ttotal: 1.2s\tremaining: 1.38s\n",
      "76:\tlearn: 0.8932039\ttest: 0.8031496\tbest: 0.8461538 (33)\ttotal: 1.22s\tremaining: 1.36s\n",
      "77:\tlearn: 0.8932039\ttest: 0.8031496\tbest: 0.8461538 (33)\ttotal: 1.23s\tremaining: 1.34s\n",
      "78:\tlearn: 0.8953488\ttest: 0.8031496\tbest: 0.8461538 (33)\ttotal: 1.25s\tremaining: 1.33s\n",
      "79:\tlearn: 0.8953488\ttest: 0.8031496\tbest: 0.8461538 (33)\ttotal: 1.26s\tremaining: 1.31s\n",
      "80:\tlearn: 0.8974855\ttest: 0.7936508\tbest: 0.8461538 (33)\ttotal: 1.28s\tremaining: 1.29s\n",
      "81:\tlearn: 0.8974855\ttest: 0.8031496\tbest: 0.8461538 (33)\ttotal: 1.29s\tremaining: 1.28s\n",
      "82:\tlearn: 0.8932039\ttest: 0.8031496\tbest: 0.8461538 (33)\ttotal: 1.31s\tremaining: 1.26s\n",
      "83:\tlearn: 0.8953488\ttest: 0.7936508\tbest: 0.8461538 (33)\ttotal: 1.32s\tremaining: 1.24s\n",
      "84:\tlearn: 0.8974855\ttest: 0.7936508\tbest: 0.8461538 (33)\ttotal: 1.33s\tremaining: 1.22s\n",
      "85:\tlearn: 0.8974855\ttest: 0.7936508\tbest: 0.8461538 (33)\ttotal: 1.35s\tremaining: 1.21s\n",
      "86:\tlearn: 0.8974855\ttest: 0.7936508\tbest: 0.8461538 (33)\ttotal: 1.36s\tremaining: 1.19s\n",
      "87:\tlearn: 0.9034749\ttest: 0.7874016\tbest: 0.8461538 (33)\ttotal: 1.37s\tremaining: 1.17s\n",
      "88:\tlearn: 0.9034749\ttest: 0.7874016\tbest: 0.8461538 (33)\ttotal: 1.39s\tremaining: 1.15s\n",
      "89:\tlearn: 0.9034749\ttest: 0.7874016\tbest: 0.8461538 (33)\ttotal: 1.4s\tremaining: 1.13s\n",
      "90:\tlearn: 0.9076923\ttest: 0.7968750\tbest: 0.8461538 (33)\ttotal: 1.41s\tremaining: 1.12s\n",
      "91:\tlearn: 0.9076923\ttest: 0.7968750\tbest: 0.8461538 (33)\ttotal: 1.42s\tremaining: 1.1s\n",
      "92:\tlearn: 0.9076923\ttest: 0.7968750\tbest: 0.8461538 (33)\ttotal: 1.44s\tremaining: 1.08s\n",
      "93:\tlearn: 0.9076923\ttest: 0.7968750\tbest: 0.8461538 (33)\ttotal: 1.45s\tremaining: 1.06s\n",
      "94:\tlearn: 0.9076923\ttest: 0.7968750\tbest: 0.8461538 (33)\ttotal: 1.47s\tremaining: 1.05s\n",
      "95:\tlearn: 0.9076923\ttest: 0.7906977\tbest: 0.8461538 (33)\ttotal: 1.48s\tremaining: 1.03s\n",
      "96:\tlearn: 0.9097889\ttest: 0.7968750\tbest: 0.8461538 (33)\ttotal: 1.49s\tremaining: 1.01s\n",
      "97:\tlearn: 0.9097889\ttest: 0.8062016\tbest: 0.8461538 (33)\ttotal: 1.5s\tremaining: 998ms\n",
      "98:\tlearn: 0.9097889\ttest: 0.8000000\tbest: 0.8461538 (33)\ttotal: 1.52s\tremaining: 981ms\n",
      "99:\tlearn: 0.9097889\ttest: 0.7906977\tbest: 0.8461538 (33)\ttotal: 1.53s\tremaining: 964ms\n",
      "100:\tlearn: 0.9118774\ttest: 0.7906977\tbest: 0.8461538 (33)\ttotal: 1.54s\tremaining: 948ms\n",
      "101:\tlearn: 0.9139579\ttest: 0.7906977\tbest: 0.8461538 (33)\ttotal: 1.56s\tremaining: 931ms\n",
      "102:\tlearn: 0.9139579\ttest: 0.7906977\tbest: 0.8461538 (33)\ttotal: 1.57s\tremaining: 915ms\n",
      "103:\tlearn: 0.9160305\ttest: 0.7906977\tbest: 0.8461538 (33)\ttotal: 1.58s\tremaining: 898ms\n",
      "104:\tlearn: 0.9198473\ttest: 0.7906977\tbest: 0.8461538 (33)\ttotal: 1.6s\tremaining: 882ms\n",
      "105:\tlearn: 0.9216061\ttest: 0.8000000\tbest: 0.8461538 (33)\ttotal: 1.61s\tremaining: 866ms\n",
      "106:\tlearn: 0.9216061\ttest: 0.8000000\tbest: 0.8461538 (33)\ttotal: 1.62s\tremaining: 849ms\n",
      "107:\tlearn: 0.9216061\ttest: 0.8062016\tbest: 0.8461538 (33)\ttotal: 1.64s\tremaining: 833ms\n",
      "108:\tlearn: 0.9216061\ttest: 0.8062016\tbest: 0.8461538 (33)\ttotal: 1.65s\tremaining: 817ms\n",
      "109:\tlearn: 0.9236641\ttest: 0.8062016\tbest: 0.8461538 (33)\ttotal: 1.66s\tremaining: 802ms\n",
      "110:\tlearn: 0.9195402\ttest: 0.8062016\tbest: 0.8461538 (33)\ttotal: 1.68s\tremaining: 786ms\n",
      "111:\tlearn: 0.9236641\ttest: 0.8062016\tbest: 0.8461538 (33)\ttotal: 1.69s\tremaining: 769ms\n",
      "112:\tlearn: 0.9236641\ttest: 0.8062016\tbest: 0.8461538 (33)\ttotal: 1.7s\tremaining: 753ms\n",
      "113:\tlearn: 0.9236641\ttest: 0.8062016\tbest: 0.8461538 (33)\ttotal: 1.72s\tremaining: 737ms\n",
      "114:\tlearn: 0.9257143\ttest: 0.8062016\tbest: 0.8461538 (33)\ttotal: 1.73s\tremaining: 721ms\n",
      "115:\tlearn: 0.9257143\ttest: 0.8062016\tbest: 0.8461538 (33)\ttotal: 1.74s\tremaining: 705ms\n",
      "116:\tlearn: 0.9257143\ttest: 0.8062016\tbest: 0.8461538 (33)\ttotal: 1.75s\tremaining: 689ms\n",
      "117:\tlearn: 0.9257143\ttest: 0.8062016\tbest: 0.8461538 (33)\ttotal: 1.77s\tremaining: 674ms\n",
      "118:\tlearn: 0.9318182\ttest: 0.8062016\tbest: 0.8461538 (33)\ttotal: 1.78s\tremaining: 660ms\n",
      "119:\tlearn: 0.9318182\ttest: 0.8062016\tbest: 0.8461538 (33)\ttotal: 1.8s\tremaining: 645ms\n",
      "120:\tlearn: 0.9335863\ttest: 0.7968750\tbest: 0.8461538 (33)\ttotal: 1.81s\tremaining: 630ms\n",
      "121:\tlearn: 0.9353612\ttest: 0.8062016\tbest: 0.8461538 (33)\ttotal: 1.83s\tremaining: 615ms\n",
      "122:\tlearn: 0.9335863\ttest: 0.8062016\tbest: 0.8461538 (33)\ttotal: 1.84s\tremaining: 600ms\n",
      "123:\tlearn: 0.9353612\ttest: 0.8153846\tbest: 0.8461538 (33)\ttotal: 1.86s\tremaining: 585ms\n",
      "124:\tlearn: 0.9353612\ttest: 0.8153846\tbest: 0.8461538 (33)\ttotal: 1.87s\tremaining: 569ms\n",
      "125:\tlearn: 0.9353612\ttest: 0.8062016\tbest: 0.8461538 (33)\ttotal: 1.89s\tremaining: 554ms\n",
      "126:\tlearn: 0.9373814\ttest: 0.8153846\tbest: 0.8461538 (33)\ttotal: 1.9s\tremaining: 538ms\n",
      "127:\tlearn: 0.9393939\ttest: 0.8153846\tbest: 0.8461538 (33)\ttotal: 1.91s\tremaining: 523ms\n",
      "128:\tlearn: 0.9431818\ttest: 0.8244275\tbest: 0.8461538 (33)\ttotal: 1.93s\tremaining: 508ms\n",
      "129:\tlearn: 0.9431818\ttest: 0.8244275\tbest: 0.8461538 (33)\ttotal: 1.94s\tremaining: 492ms\n",
      "130:\tlearn: 0.9471698\ttest: 0.8244275\tbest: 0.8461538 (33)\ttotal: 1.95s\tremaining: 477ms\n",
      "131:\tlearn: 0.9491525\ttest: 0.8244275\tbest: 0.8461538 (33)\ttotal: 1.96s\tremaining: 461ms\n",
      "132:\tlearn: 0.9491525\ttest: 0.8244275\tbest: 0.8461538 (33)\ttotal: 1.98s\tremaining: 446ms\n",
      "133:\tlearn: 0.9509434\ttest: 0.8244275\tbest: 0.8461538 (33)\ttotal: 1.99s\tremaining: 431ms\n",
      "134:\tlearn: 0.9529190\ttest: 0.8244275\tbest: 0.8461538 (33)\ttotal: 2s\tremaining: 416ms\n",
      "135:\tlearn: 0.9547170\ttest: 0.8244275\tbest: 0.8461538 (33)\ttotal: 2.02s\tremaining: 401ms\n",
      "136:\tlearn: 0.9527410\ttest: 0.8244275\tbest: 0.8461538 (33)\ttotal: 2.03s\tremaining: 385ms\n",
      "137:\tlearn: 0.9547170\ttest: 0.8244275\tbest: 0.8461538 (33)\ttotal: 2.04s\tremaining: 370ms\n",
      "138:\tlearn: 0.9566855\ttest: 0.8091603\tbest: 0.8461538 (33)\ttotal: 2.06s\tremaining: 355ms\n",
      "139:\tlearn: 0.9566855\ttest: 0.8091603\tbest: 0.8461538 (33)\ttotal: 2.07s\tremaining: 340ms\n",
      "140:\tlearn: 0.9489603\ttest: 0.8091603\tbest: 0.8461538 (33)\ttotal: 2.08s\tremaining: 325ms\n",
      "141:\tlearn: 0.9586466\ttest: 0.8091603\tbest: 0.8461538 (33)\ttotal: 2.1s\tremaining: 310ms\n",
      "142:\tlearn: 0.9566855\ttest: 0.8091603\tbest: 0.8461538 (33)\ttotal: 2.11s\tremaining: 295ms\n",
      "143:\tlearn: 0.9547170\ttest: 0.8091603\tbest: 0.8461538 (33)\ttotal: 2.12s\tremaining: 280ms\n",
      "144:\tlearn: 0.9547170\ttest: 0.8091603\tbest: 0.8461538 (33)\ttotal: 2.13s\tremaining: 265ms\n",
      "145:\tlearn: 0.9547170\ttest: 0.8153846\tbest: 0.8461538 (33)\ttotal: 2.15s\tremaining: 250ms\n",
      "146:\tlearn: 0.9547170\ttest: 0.8091603\tbest: 0.8461538 (33)\ttotal: 2.16s\tremaining: 235ms\n",
      "147:\tlearn: 0.9566855\ttest: 0.8091603\tbest: 0.8461538 (33)\ttotal: 2.17s\tremaining: 221ms\n",
      "148:\tlearn: 0.9586466\ttest: 0.8091603\tbest: 0.8461538 (33)\ttotal: 2.19s\tremaining: 206ms\n",
      "149:\tlearn: 0.9586466\ttest: 0.8091603\tbest: 0.8461538 (33)\ttotal: 2.2s\tremaining: 191ms\n",
      "150:\tlearn: 0.9566855\ttest: 0.8091603\tbest: 0.8461538 (33)\ttotal: 2.21s\tremaining: 176ms\n",
      "151:\tlearn: 0.9566855\ttest: 0.8091603\tbest: 0.8461538 (33)\ttotal: 2.23s\tremaining: 161ms\n",
      "152:\tlearn: 0.9566855\ttest: 0.8091603\tbest: 0.8461538 (33)\ttotal: 2.24s\tremaining: 146ms\n",
      "153:\tlearn: 0.9604520\ttest: 0.8091603\tbest: 0.8461538 (33)\ttotal: 2.25s\tremaining: 132ms\n",
      "154:\tlearn: 0.9662921\ttest: 0.8000000\tbest: 0.8461538 (33)\ttotal: 2.27s\tremaining: 117ms\n",
      "155:\tlearn: 0.9662921\ttest: 0.8091603\tbest: 0.8461538 (33)\ttotal: 2.28s\tremaining: 102ms\n",
      "156:\tlearn: 0.9662921\ttest: 0.8000000\tbest: 0.8461538 (33)\ttotal: 2.29s\tremaining: 87.6ms\n",
      "157:\tlearn: 0.9662921\ttest: 0.8091603\tbest: 0.8461538 (33)\ttotal: 2.31s\tremaining: 73ms\n",
      "158:\tlearn: 0.9662921\ttest: 0.8091603\tbest: 0.8461538 (33)\ttotal: 2.32s\tremaining: 58.3ms\n",
      "159:\tlearn: 0.9662921\ttest: 0.8091603\tbest: 0.8461538 (33)\ttotal: 2.33s\tremaining: 43.7ms\n",
      "160:\tlearn: 0.9662921\ttest: 0.8091603\tbest: 0.8461538 (33)\ttotal: 2.34s\tremaining: 29.1ms\n",
      "161:\tlearn: 0.9662921\ttest: 0.8091603\tbest: 0.8461538 (33)\ttotal: 2.36s\tremaining: 14.6ms\n",
      "162:\tlearn: 0.9662921\ttest: 0.8091603\tbest: 0.8461538 (33)\ttotal: 2.37s\tremaining: 0us\n",
      "\n",
      "bestTest = 0.8461538462\n",
      "bestIteration = 33\n",
      "\n",
      "Training on fold [1/5]\n",
      "0:\tlearn: 0.7653846\ttest: 0.7022901\tbest: 0.7022901 (0)\ttotal: 10.7ms\tremaining: 1.73s\n",
      "1:\tlearn: 0.7868217\ttest: 0.6821705\tbest: 0.7022901 (0)\ttotal: 23.8ms\tremaining: 1.91s\n",
      "2:\tlearn: 0.7929688\ttest: 0.6929134\tbest: 0.7022901 (0)\ttotal: 37.1ms\tremaining: 1.98s\n",
      "3:\tlearn: 0.7969052\ttest: 0.6821705\tbest: 0.7022901 (0)\ttotal: 50.7ms\tremaining: 2.02s\n",
      "4:\tlearn: 0.8167939\ttest: 0.6717557\tbest: 0.7022901 (0)\ttotal: 64.9ms\tremaining: 2.05s\n",
      "5:\tlearn: 0.8190476\ttest: 0.6716418\tbest: 0.7022901 (0)\ttotal: 78.6ms\tremaining: 2.06s\n",
      "6:\tlearn: 0.8167939\ttest: 0.6716418\tbest: 0.7022901 (0)\ttotal: 92.1ms\tremaining: 2.05s\n",
      "7:\tlearn: 0.8129771\ttest: 0.6716418\tbest: 0.7022901 (0)\ttotal: 106ms\tremaining: 2.06s\n",
      "8:\tlearn: 0.8129771\ttest: 0.6716418\tbest: 0.7022901 (0)\ttotal: 120ms\tremaining: 2.06s\n",
      "9:\tlearn: 0.8122605\ttest: 0.6716418\tbest: 0.7022901 (0)\ttotal: 134ms\tremaining: 2.05s\n",
      "10:\tlearn: 0.8174905\ttest: 0.6716418\tbest: 0.7022901 (0)\ttotal: 148ms\tremaining: 2.05s\n",
      "11:\tlearn: 0.8212928\ttest: 0.7014925\tbest: 0.7022901 (0)\ttotal: 165ms\tremaining: 2.08s\n",
      "12:\tlearn: 0.8250951\ttest: 0.7014925\tbest: 0.7022901 (0)\ttotal: 180ms\tremaining: 2.08s\n",
      "13:\tlearn: 0.8320611\ttest: 0.6917293\tbest: 0.7022901 (0)\ttotal: 195ms\tremaining: 2.07s\n",
      "14:\tlearn: 0.8352490\ttest: 0.6969697\tbest: 0.7022901 (0)\ttotal: 208ms\tremaining: 2.05s\n",
      "15:\tlearn: 0.8421053\ttest: 0.6923077\tbest: 0.7022901 (0)\ttotal: 222ms\tremaining: 2.04s\n",
      "16:\tlearn: 0.8476562\ttest: 0.6771654\tbest: 0.7022901 (0)\ttotal: 235ms\tremaining: 2.02s\n",
      "17:\tlearn: 0.8437500\ttest: 0.6720000\tbest: 0.7022901 (0)\ttotal: 248ms\tremaining: 2s\n",
      "18:\tlearn: 0.8515625\ttest: 0.6720000\tbest: 0.7022901 (0)\ttotal: 261ms\tremaining: 1.98s\n",
      "19:\tlearn: 0.8521401\ttest: 0.6771654\tbest: 0.7022901 (0)\ttotal: 274ms\tremaining: 1.96s\n",
      "20:\tlearn: 0.8532290\ttest: 0.6875000\tbest: 0.7022901 (0)\ttotal: 287ms\tremaining: 1.94s\n",
      "21:\tlearn: 0.8554688\ttest: 0.6875000\tbest: 0.7022901 (0)\ttotal: 299ms\tremaining: 1.92s\n",
      "22:\tlearn: 0.8554688\ttest: 0.6875000\tbest: 0.7022901 (0)\ttotal: 312ms\tremaining: 1.9s\n",
      "23:\tlearn: 0.8554688\ttest: 0.6875000\tbest: 0.7022901 (0)\ttotal: 326ms\tremaining: 1.89s\n",
      "24:\tlearn: 0.8554688\ttest: 0.6875000\tbest: 0.7022901 (0)\ttotal: 339ms\tremaining: 1.87s\n",
      "25:\tlearn: 0.8554688\ttest: 0.6875000\tbest: 0.7022901 (0)\ttotal: 352ms\tremaining: 1.85s\n",
      "26:\tlearn: 0.8554688\ttest: 0.6875000\tbest: 0.7022901 (0)\ttotal: 364ms\tremaining: 1.83s\n",
      "27:\tlearn: 0.8554688\ttest: 0.6875000\tbest: 0.7022901 (0)\ttotal: 377ms\tremaining: 1.82s\n",
      "28:\tlearn: 0.8682171\ttest: 0.6821705\tbest: 0.7022901 (0)\ttotal: 392ms\tremaining: 1.81s\n",
      "29:\tlearn: 0.8682171\ttest: 0.6821705\tbest: 0.7022901 (0)\ttotal: 407ms\tremaining: 1.8s\n",
      "30:\tlearn: 0.8682171\ttest: 0.6821705\tbest: 0.7022901 (0)\ttotal: 420ms\tremaining: 1.79s\n",
      "31:\tlearn: 0.8682171\ttest: 0.6875000\tbest: 0.7022901 (0)\ttotal: 434ms\tremaining: 1.77s\n",
      "32:\tlearn: 0.8682171\ttest: 0.6821705\tbest: 0.7022901 (0)\ttotal: 448ms\tremaining: 1.76s\n",
      "33:\tlearn: 0.8704062\ttest: 0.6875000\tbest: 0.7022901 (0)\ttotal: 461ms\tremaining: 1.75s\n",
      "34:\tlearn: 0.8742747\ttest: 0.6771654\tbest: 0.7022901 (0)\ttotal: 474ms\tremaining: 1.73s\n",
      "35:\tlearn: 0.8742747\ttest: 0.6771654\tbest: 0.7022901 (0)\ttotal: 487ms\tremaining: 1.72s\n",
      "36:\tlearn: 0.8742747\ttest: 0.6771654\tbest: 0.7022901 (0)\ttotal: 500ms\tremaining: 1.7s\n",
      "37:\tlearn: 0.8786127\ttest: 0.6771654\tbest: 0.7022901 (0)\ttotal: 512ms\tremaining: 1.69s\n",
      "38:\tlearn: 0.8769231\ttest: 0.6825397\tbest: 0.7022901 (0)\ttotal: 525ms\tremaining: 1.67s\n",
      "39:\tlearn: 0.8769231\ttest: 0.6825397\tbest: 0.7022901 (0)\ttotal: 538ms\tremaining: 1.66s\n",
      "40:\tlearn: 0.8790787\ttest: 0.6825397\tbest: 0.7022901 (0)\ttotal: 551ms\tremaining: 1.64s\n",
      "41:\tlearn: 0.8769231\ttest: 0.6825397\tbest: 0.7022901 (0)\ttotal: 564ms\tremaining: 1.62s\n",
      "42:\tlearn: 0.8884615\ttest: 0.6720000\tbest: 0.7022901 (0)\ttotal: 576ms\tremaining: 1.61s\n",
      "43:\tlearn: 0.8923077\ttest: 0.6771654\tbest: 0.7022901 (0)\ttotal: 590ms\tremaining: 1.59s\n",
      "44:\tlearn: 0.8940270\ttest: 0.6771654\tbest: 0.7022901 (0)\ttotal: 602ms\tremaining: 1.58s\n",
      "45:\tlearn: 0.9034749\ttest: 0.6771654\tbest: 0.7022901 (0)\ttotal: 616ms\tremaining: 1.57s\n",
      "46:\tlearn: 0.8996139\ttest: 0.6771654\tbest: 0.7022901 (0)\ttotal: 629ms\tremaining: 1.55s\n",
      "47:\tlearn: 0.9013540\ttest: 0.6666667\tbest: 0.7022901 (0)\ttotal: 642ms\tremaining: 1.54s\n",
      "48:\tlearn: 0.9069767\ttest: 0.6771654\tbest: 0.7022901 (0)\ttotal: 655ms\tremaining: 1.52s\n",
      "49:\tlearn: 0.9031008\ttest: 0.6666667\tbest: 0.7022901 (0)\ttotal: 668ms\tremaining: 1.51s\n",
      "50:\tlearn: 0.9031008\ttest: 0.6666667\tbest: 0.7022901 (0)\ttotal: 681ms\tremaining: 1.5s\n",
      "51:\tlearn: 0.9031008\ttest: 0.6666667\tbest: 0.7022901 (0)\ttotal: 694ms\tremaining: 1.48s\n",
      "52:\tlearn: 0.9013540\ttest: 0.6666667\tbest: 0.7022901 (0)\ttotal: 707ms\tremaining: 1.47s\n",
      "53:\tlearn: 0.9052224\ttest: 0.6771654\tbest: 0.7022901 (0)\ttotal: 721ms\tremaining: 1.45s\n",
      "54:\tlearn: 0.9090909\ttest: 0.6771654\tbest: 0.7022901 (0)\ttotal: 734ms\tremaining: 1.44s\n",
      "55:\tlearn: 0.9090909\ttest: 0.6771654\tbest: 0.7022901 (0)\ttotal: 747ms\tremaining: 1.43s\n",
      "56:\tlearn: 0.9111969\ttest: 0.6771654\tbest: 0.7022901 (0)\ttotal: 761ms\tremaining: 1.41s\n",
      "57:\tlearn: 0.9153846\ttest: 0.6718750\tbest: 0.7022901 (0)\ttotal: 774ms\tremaining: 1.4s\n",
      "58:\tlearn: 0.9153846\ttest: 0.6771654\tbest: 0.7022901 (0)\ttotal: 790ms\tremaining: 1.39s\n",
      "59:\tlearn: 0.9174664\ttest: 0.6771654\tbest: 0.7022901 (0)\ttotal: 804ms\tremaining: 1.38s\n",
      "60:\tlearn: 0.9174664\ttest: 0.6718750\tbest: 0.7022901 (0)\ttotal: 817ms\tremaining: 1.37s\n",
      "61:\tlearn: 0.9174664\ttest: 0.6718750\tbest: 0.7022901 (0)\ttotal: 829ms\tremaining: 1.35s\n",
      "62:\tlearn: 0.9174664\ttest: 0.6718750\tbest: 0.7022901 (0)\ttotal: 842ms\tremaining: 1.34s\n",
      "63:\tlearn: 0.9174664\ttest: 0.6718750\tbest: 0.7022901 (0)\ttotal: 867ms\tremaining: 1.34s\n",
      "64:\tlearn: 0.9174664\ttest: 0.6666667\tbest: 0.7022901 (0)\ttotal: 881ms\tremaining: 1.33s\n",
      "65:\tlearn: 0.9192308\ttest: 0.6718750\tbest: 0.7022901 (0)\ttotal: 894ms\tremaining: 1.31s\n",
      "66:\tlearn: 0.9210019\ttest: 0.6666667\tbest: 0.7022901 (0)\ttotal: 908ms\tremaining: 1.3s\n",
      "67:\tlearn: 0.9210019\ttest: 0.6666667\tbest: 0.7022901 (0)\ttotal: 921ms\tremaining: 1.29s\n",
      "68:\tlearn: 0.9210019\ttest: 0.6718750\tbest: 0.7022901 (0)\ttotal: 936ms\tremaining: 1.27s\n",
      "69:\tlearn: 0.9227799\ttest: 0.6718750\tbest: 0.7022901 (0)\ttotal: 950ms\tremaining: 1.26s\n",
      "70:\tlearn: 0.9227799\ttest: 0.6666667\tbest: 0.7022901 (0)\ttotal: 963ms\tremaining: 1.25s\n",
      "71:\tlearn: 0.9269231\ttest: 0.6666667\tbest: 0.7022901 (0)\ttotal: 977ms\tremaining: 1.24s\n",
      "72:\tlearn: 0.9269231\ttest: 0.6718750\tbest: 0.7022901 (0)\ttotal: 990ms\tremaining: 1.22s\n",
      "73:\tlearn: 0.9269231\ttest: 0.6718750\tbest: 0.7022901 (0)\ttotal: 1s\tremaining: 1.21s\n",
      "74:\tlearn: 0.9289827\ttest: 0.6718750\tbest: 0.7022901 (0)\ttotal: 1.02s\tremaining: 1.19s\n",
      "75:\tlearn: 0.9310345\ttest: 0.6718750\tbest: 0.7022901 (0)\ttotal: 1.03s\tremaining: 1.18s\n",
      "76:\tlearn: 0.9330784\ttest: 0.6821705\tbest: 0.7022901 (0)\ttotal: 1.05s\tremaining: 1.17s\n",
      "77:\tlearn: 0.9289827\ttest: 0.6718750\tbest: 0.7022901 (0)\ttotal: 1.06s\tremaining: 1.15s\n",
      "78:\tlearn: 0.9348659\ttest: 0.6614173\tbest: 0.7022901 (0)\ttotal: 1.07s\tremaining: 1.14s\n",
      "79:\tlearn: 0.9348659\ttest: 0.6718750\tbest: 0.7022901 (0)\ttotal: 1.09s\tremaining: 1.13s\n",
      "80:\tlearn: 0.9348659\ttest: 0.6718750\tbest: 0.7022901 (0)\ttotal: 1.1s\tremaining: 1.11s\n",
      "81:\tlearn: 0.9348659\ttest: 0.6666667\tbest: 0.7022901 (0)\ttotal: 1.11s\tremaining: 1.1s\n",
      "82:\tlearn: 0.9369025\ttest: 0.6666667\tbest: 0.7022901 (0)\ttotal: 1.13s\tremaining: 1.08s\n",
      "83:\tlearn: 0.9389313\ttest: 0.6666667\tbest: 0.7022901 (0)\ttotal: 1.14s\tremaining: 1.07s\n",
      "84:\tlearn: 0.9407266\ttest: 0.6666667\tbest: 0.7022901 (0)\ttotal: 1.15s\tremaining: 1.06s\n",
      "85:\tlearn: 0.9389313\ttest: 0.6564885\tbest: 0.7022901 (0)\ttotal: 1.17s\tremaining: 1.04s\n",
      "86:\tlearn: 0.9389313\ttest: 0.6564885\tbest: 0.7022901 (0)\ttotal: 1.18s\tremaining: 1.03s\n",
      "87:\tlearn: 0.9389313\ttest: 0.6564885\tbest: 0.7022901 (0)\ttotal: 1.19s\tremaining: 1.02s\n",
      "88:\tlearn: 0.9389313\ttest: 0.6564885\tbest: 0.7022901 (0)\ttotal: 1.21s\tremaining: 1s\n",
      "89:\tlearn: 0.9427481\ttest: 0.6615385\tbest: 0.7022901 (0)\ttotal: 1.22s\tremaining: 988ms\n",
      "90:\tlearn: 0.9389313\ttest: 0.6666667\tbest: 0.7022901 (0)\ttotal: 1.23s\tremaining: 975ms\n",
      "91:\tlearn: 0.9407266\ttest: 0.6562500\tbest: 0.7022901 (0)\ttotal: 1.25s\tremaining: 961ms\n",
      "92:\tlearn: 0.9427481\ttest: 0.6562500\tbest: 0.7022901 (0)\ttotal: 1.26s\tremaining: 947ms\n",
      "93:\tlearn: 0.9467681\ttest: 0.6511628\tbest: 0.7022901 (0)\ttotal: 1.27s\tremaining: 933ms\n",
      "94:\tlearn: 0.9467681\ttest: 0.6614173\tbest: 0.7022901 (0)\ttotal: 1.28s\tremaining: 919ms\n",
      "95:\tlearn: 0.9487666\ttest: 0.6614173\tbest: 0.7022901 (0)\ttotal: 1.3s\tremaining: 905ms\n",
      "96:\tlearn: 0.9487666\ttest: 0.6562500\tbest: 0.7022901 (0)\ttotal: 1.31s\tremaining: 891ms\n",
      "97:\tlearn: 0.9487666\ttest: 0.6511628\tbest: 0.7022901 (0)\ttotal: 1.32s\tremaining: 877ms\n",
      "98:\tlearn: 0.9487666\ttest: 0.6511628\tbest: 0.7022901 (0)\ttotal: 1.33s\tremaining: 863ms\n",
      "99:\tlearn: 0.9487666\ttest: 0.6511628\tbest: 0.7022901 (0)\ttotal: 1.35s\tremaining: 849ms\n",
      "100:\tlearn: 0.9469697\ttest: 0.6511628\tbest: 0.7022901 (0)\ttotal: 1.36s\tremaining: 836ms\n",
      "101:\tlearn: 0.9487666\ttest: 0.6562500\tbest: 0.7022901 (0)\ttotal: 1.37s\tremaining: 822ms\n",
      "102:\tlearn: 0.9487666\ttest: 0.6562500\tbest: 0.7022901 (0)\ttotal: 1.39s\tremaining: 809ms\n",
      "103:\tlearn: 0.9487666\ttest: 0.6562500\tbest: 0.7022901 (0)\ttotal: 1.4s\tremaining: 795ms\n",
      "104:\tlearn: 0.9487666\ttest: 0.6511628\tbest: 0.7022901 (0)\ttotal: 1.41s\tremaining: 781ms\n",
      "105:\tlearn: 0.9487666\ttest: 0.6615385\tbest: 0.7022901 (0)\ttotal: 1.43s\tremaining: 767ms\n",
      "106:\tlearn: 0.9507576\ttest: 0.6615385\tbest: 0.7022901 (0)\ttotal: 1.44s\tremaining: 753ms\n",
      "107:\tlearn: 0.9507576\ttest: 0.6564885\tbest: 0.7022901 (0)\ttotal: 1.45s\tremaining: 740ms\n",
      "108:\tlearn: 0.9507576\ttest: 0.6564885\tbest: 0.7022901 (0)\ttotal: 1.47s\tremaining: 726ms\n",
      "109:\tlearn: 0.9507576\ttest: 0.6564885\tbest: 0.7022901 (0)\ttotal: 1.48s\tremaining: 712ms\n",
      "110:\tlearn: 0.9507576\ttest: 0.6461538\tbest: 0.7022901 (0)\ttotal: 1.49s\tremaining: 699ms\n",
      "111:\tlearn: 0.9507576\ttest: 0.6461538\tbest: 0.7022901 (0)\ttotal: 1.5s\tremaining: 685ms\n",
      "112:\tlearn: 0.9527410\ttest: 0.6461538\tbest: 0.7022901 (0)\ttotal: 1.52s\tremaining: 672ms\n",
      "113:\tlearn: 0.9547170\ttest: 0.6511628\tbest: 0.7022901 (0)\ttotal: 1.53s\tremaining: 658ms\n",
      "114:\tlearn: 0.9547170\ttest: 0.6511628\tbest: 0.7022901 (0)\ttotal: 1.54s\tremaining: 645ms\n",
      "115:\tlearn: 0.9547170\ttest: 0.6511628\tbest: 0.7022901 (0)\ttotal: 1.56s\tremaining: 631ms\n",
      "116:\tlearn: 0.9547170\ttest: 0.6511628\tbest: 0.7022901 (0)\ttotal: 1.57s\tremaining: 617ms\n",
      "117:\tlearn: 0.9547170\ttest: 0.6511628\tbest: 0.7022901 (0)\ttotal: 1.58s\tremaining: 604ms\n",
      "118:\tlearn: 0.9547170\ttest: 0.6615385\tbest: 0.7022901 (0)\ttotal: 1.59s\tremaining: 590ms\n",
      "119:\tlearn: 0.9547170\ttest: 0.6564885\tbest: 0.7022901 (0)\ttotal: 1.61s\tremaining: 576ms\n",
      "120:\tlearn: 0.9547170\ttest: 0.6564885\tbest: 0.7022901 (0)\ttotal: 1.62s\tremaining: 563ms\n",
      "121:\tlearn: 0.9547170\ttest: 0.6461538\tbest: 0.7022901 (0)\ttotal: 1.63s\tremaining: 549ms\n",
      "122:\tlearn: 0.9547170\ttest: 0.6461538\tbest: 0.7022901 (0)\ttotal: 1.65s\tremaining: 536ms\n",
      "123:\tlearn: 0.9547170\ttest: 0.6461538\tbest: 0.7022901 (0)\ttotal: 1.66s\tremaining: 522ms\n",
      "124:\tlearn: 0.9547170\ttest: 0.6461538\tbest: 0.7022901 (0)\ttotal: 1.67s\tremaining: 509ms\n",
      "125:\tlearn: 0.9547170\ttest: 0.6461538\tbest: 0.7022901 (0)\ttotal: 1.69s\tremaining: 496ms\n",
      "126:\tlearn: 0.9547170\ttest: 0.6511628\tbest: 0.7022901 (0)\ttotal: 1.7s\tremaining: 482ms\n",
      "127:\tlearn: 0.9547170\ttest: 0.6615385\tbest: 0.7022901 (0)\ttotal: 1.72s\tremaining: 470ms\n",
      "128:\tlearn: 0.9547170\ttest: 0.6615385\tbest: 0.7022901 (0)\ttotal: 1.74s\tremaining: 459ms\n",
      "129:\tlearn: 0.9547170\ttest: 0.6615385\tbest: 0.7022901 (0)\ttotal: 1.76s\tremaining: 446ms\n",
      "130:\tlearn: 0.9566855\ttest: 0.6615385\tbest: 0.7022901 (0)\ttotal: 1.77s\tremaining: 433ms\n",
      "131:\tlearn: 0.9566855\ttest: 0.6615385\tbest: 0.7022901 (0)\ttotal: 1.78s\tremaining: 419ms\n",
      "132:\tlearn: 0.9566855\ttest: 0.6511628\tbest: 0.7022901 (0)\ttotal: 1.8s\tremaining: 406ms\n",
      "133:\tlearn: 0.9586466\ttest: 0.6615385\tbest: 0.7022901 (0)\ttotal: 1.81s\tremaining: 392ms\n",
      "134:\tlearn: 0.9586466\ttest: 0.6615385\tbest: 0.7022901 (0)\ttotal: 1.83s\tremaining: 379ms\n",
      "135:\tlearn: 0.9606004\ttest: 0.6615385\tbest: 0.7022901 (0)\ttotal: 1.84s\tremaining: 365ms\n",
      "136:\tlearn: 0.9606004\ttest: 0.6666667\tbest: 0.7022901 (0)\ttotal: 1.85s\tremaining: 351ms\n",
      "137:\tlearn: 0.9606004\ttest: 0.6666667\tbest: 0.7022901 (0)\ttotal: 1.86s\tremaining: 338ms\n",
      "138:\tlearn: 0.9625468\ttest: 0.6666667\tbest: 0.7022901 (0)\ttotal: 1.88s\tremaining: 324ms\n",
      "139:\tlearn: 0.9643527\ttest: 0.6718750\tbest: 0.7022901 (0)\ttotal: 1.89s\tremaining: 311ms\n",
      "140:\tlearn: 0.9662921\ttest: 0.6718750\tbest: 0.7022901 (0)\ttotal: 1.9s\tremaining: 297ms\n",
      "141:\tlearn: 0.9662921\ttest: 0.6718750\tbest: 0.7022901 (0)\ttotal: 1.92s\tremaining: 283ms\n",
      "142:\tlearn: 0.9643527\ttest: 0.6718750\tbest: 0.7022901 (0)\ttotal: 1.93s\tremaining: 270ms\n",
      "143:\tlearn: 0.9643527\ttest: 0.6666667\tbest: 0.7022901 (0)\ttotal: 1.94s\tremaining: 256ms\n",
      "144:\tlearn: 0.9643527\ttest: 0.6666667\tbest: 0.7022901 (0)\ttotal: 1.96s\tremaining: 243ms\n",
      "145:\tlearn: 0.9643527\ttest: 0.6666667\tbest: 0.7022901 (0)\ttotal: 1.97s\tremaining: 229ms\n",
      "146:\tlearn: 0.9643527\ttest: 0.6666667\tbest: 0.7022901 (0)\ttotal: 1.98s\tremaining: 216ms\n",
      "147:\tlearn: 0.9644860\ttest: 0.6666667\tbest: 0.7022901 (0)\ttotal: 1.99s\tremaining: 202ms\n",
      "148:\tlearn: 0.9662921\ttest: 0.6718750\tbest: 0.7022901 (0)\ttotal: 2.01s\tremaining: 189ms\n",
      "149:\tlearn: 0.9644860\ttest: 0.6718750\tbest: 0.7022901 (0)\ttotal: 2.02s\tremaining: 175ms\n",
      "150:\tlearn: 0.9644860\ttest: 0.6666667\tbest: 0.7022901 (0)\ttotal: 2.03s\tremaining: 162ms\n",
      "151:\tlearn: 0.9682243\ttest: 0.6615385\tbest: 0.7022901 (0)\ttotal: 2.04s\tremaining: 148ms\n",
      "152:\tlearn: 0.9682243\ttest: 0.6666667\tbest: 0.7022901 (0)\ttotal: 2.06s\tremaining: 135ms\n",
      "153:\tlearn: 0.9682243\ttest: 0.6666667\tbest: 0.7022901 (0)\ttotal: 2.07s\tremaining: 121ms\n",
      "154:\tlearn: 0.9700375\ttest: 0.6666667\tbest: 0.7022901 (0)\ttotal: 2.09s\tremaining: 108ms\n",
      "155:\tlearn: 0.9700375\ttest: 0.6615385\tbest: 0.7022901 (0)\ttotal: 2.1s\tremaining: 94.2ms\n",
      "156:\tlearn: 0.9700375\ttest: 0.6615385\tbest: 0.7022901 (0)\ttotal: 2.11s\tremaining: 80.7ms\n",
      "157:\tlearn: 0.9700375\ttest: 0.6718750\tbest: 0.7022901 (0)\ttotal: 2.13s\tremaining: 67.3ms\n",
      "158:\tlearn: 0.9700375\ttest: 0.6718750\tbest: 0.7022901 (0)\ttotal: 2.14s\tremaining: 53.8ms\n",
      "159:\tlearn: 0.9700375\ttest: 0.6718750\tbest: 0.7022901 (0)\ttotal: 2.15s\tremaining: 40.3ms\n",
      "160:\tlearn: 0.9700375\ttest: 0.6666667\tbest: 0.7022901 (0)\ttotal: 2.17s\tremaining: 26.9ms\n",
      "161:\tlearn: 0.9700375\ttest: 0.6666667\tbest: 0.7022901 (0)\ttotal: 2.18s\tremaining: 13.4ms\n",
      "162:\tlearn: 0.9700375\ttest: 0.6666667\tbest: 0.7022901 (0)\ttotal: 2.19s\tremaining: 0us\n",
      "\n",
      "bestTest = 0.7022900763\n",
      "bestIteration = 0\n",
      "\n",
      "Training on fold [2/5]\n",
      "0:\tlearn: 0.7639155\ttest: 0.6969697\tbest: 0.6969697 (0)\ttotal: 10.7ms\tremaining: 1.74s\n",
      "1:\tlearn: 0.7715931\ttest: 0.6717557\tbest: 0.6969697 (0)\ttotal: 21.2ms\tremaining: 1.71s\n",
      "2:\tlearn: 0.7707129\ttest: 0.6821705\tbest: 0.6969697 (0)\ttotal: 31.2ms\tremaining: 1.66s\n",
      "3:\tlearn: 0.7730769\ttest: 0.6821705\tbest: 0.6969697 (0)\ttotal: 44.5ms\tremaining: 1.77s\n",
      "4:\tlearn: 0.7844660\ttest: 0.6829268\tbest: 0.6969697 (0)\ttotal: 57.5ms\tremaining: 1.82s\n",
      "5:\tlearn: 0.7844660\ttest: 0.6829268\tbest: 0.6969697 (0)\ttotal: 70.5ms\tremaining: 1.84s\n",
      "6:\tlearn: 0.7852998\ttest: 0.6829268\tbest: 0.6969697 (0)\ttotal: 83ms\tremaining: 1.85s\n",
      "7:\tlearn: 0.7868217\ttest: 0.6829268\tbest: 0.6969697 (0)\ttotal: 95.9ms\tremaining: 1.86s\n",
      "8:\tlearn: 0.7868217\ttest: 0.6829268\tbest: 0.6969697 (0)\ttotal: 109ms\tremaining: 1.86s\n",
      "9:\tlearn: 0.7944664\ttest: 0.6890756\tbest: 0.6969697 (0)\ttotal: 122ms\tremaining: 1.87s\n",
      "10:\tlearn: 0.8183633\ttest: 0.7008547\tbest: 0.7008547 (10)\ttotal: 135ms\tremaining: 1.87s\n",
      "11:\tlearn: 0.8198020\ttest: 0.7166667\tbest: 0.7166667 (11)\ttotal: 148ms\tremaining: 1.86s\n",
      "12:\tlearn: 0.8190855\ttest: 0.7226891\tbest: 0.7226891 (12)\ttotal: 161ms\tremaining: 1.86s\n",
      "13:\tlearn: 0.8228346\ttest: 0.7226891\tbest: 0.7226891 (12)\ttotal: 174ms\tremaining: 1.85s\n",
      "14:\tlearn: 0.8297456\ttest: 0.7272727\tbest: 0.7272727 (14)\ttotal: 187ms\tremaining: 1.84s\n",
      "15:\tlearn: 0.8443580\ttest: 0.7272727\tbest: 0.7272727 (14)\ttotal: 199ms\tremaining: 1.83s\n",
      "16:\tlearn: 0.8571429\ttest: 0.7107438\tbest: 0.7272727 (14)\ttotal: 212ms\tremaining: 1.82s\n",
      "17:\tlearn: 0.8598848\ttest: 0.7154472\tbest: 0.7272727 (14)\ttotal: 225ms\tremaining: 1.81s\n",
      "18:\tlearn: 0.8582524\ttest: 0.7096774\tbest: 0.7272727 (14)\ttotal: 238ms\tremaining: 1.81s\n",
      "19:\tlearn: 0.8571429\ttest: 0.7049180\tbest: 0.7272727 (14)\ttotal: 251ms\tremaining: 1.8s\n",
      "20:\tlearn: 0.8532819\ttest: 0.7154472\tbest: 0.7272727 (14)\ttotal: 265ms\tremaining: 1.79s\n",
      "21:\tlearn: 0.8576923\ttest: 0.7107438\tbest: 0.7272727 (14)\ttotal: 278ms\tremaining: 1.78s\n",
      "22:\tlearn: 0.8615385\ttest: 0.7040000\tbest: 0.7272727 (14)\ttotal: 290ms\tremaining: 1.77s\n",
      "23:\tlearn: 0.8615385\ttest: 0.7142857\tbest: 0.7272727 (14)\ttotal: 304ms\tremaining: 1.76s\n",
      "24:\tlearn: 0.8598848\ttest: 0.7096774\tbest: 0.7272727 (14)\ttotal: 317ms\tremaining: 1.75s\n",
      "25:\tlearn: 0.8593156\ttest: 0.7154472\tbest: 0.7272727 (14)\ttotal: 329ms\tremaining: 1.73s\n",
      "26:\tlearn: 0.8571429\ttest: 0.7154472\tbest: 0.7272727 (14)\ttotal: 343ms\tremaining: 1.73s\n",
      "27:\tlearn: 0.8609524\ttest: 0.7096774\tbest: 0.7272727 (14)\ttotal: 356ms\tremaining: 1.72s\n",
      "28:\tlearn: 0.8625954\ttest: 0.7096774\tbest: 0.7272727 (14)\ttotal: 370ms\tremaining: 1.71s\n",
      "29:\tlearn: 0.8631179\ttest: 0.7154472\tbest: 0.7272727 (14)\ttotal: 386ms\tremaining: 1.71s\n",
      "30:\tlearn: 0.8647619\ttest: 0.7040000\tbest: 0.7272727 (14)\ttotal: 400ms\tremaining: 1.7s\n",
      "31:\tlearn: 0.8690702\ttest: 0.7040000\tbest: 0.7272727 (14)\ttotal: 413ms\tremaining: 1.69s\n",
      "32:\tlearn: 0.8690702\ttest: 0.7040000\tbest: 0.7272727 (14)\ttotal: 426ms\tremaining: 1.68s\n",
      "33:\tlearn: 0.8728653\ttest: 0.7142857\tbest: 0.7272727 (14)\ttotal: 440ms\tremaining: 1.67s\n",
      "34:\tlearn: 0.8690702\ttest: 0.7142857\tbest: 0.7272727 (14)\ttotal: 453ms\tremaining: 1.66s\n",
      "35:\tlearn: 0.8680688\ttest: 0.7040000\tbest: 0.7272727 (14)\ttotal: 466ms\tremaining: 1.65s\n",
      "36:\tlearn: 0.8702290\ttest: 0.7040000\tbest: 0.7272727 (14)\ttotal: 479ms\tremaining: 1.63s\n",
      "37:\tlearn: 0.8702290\ttest: 0.7142857\tbest: 0.7272727 (14)\ttotal: 492ms\tremaining: 1.62s\n",
      "38:\tlearn: 0.8702290\ttest: 0.7301587\tbest: 0.7301587 (38)\ttotal: 506ms\tremaining: 1.61s\n",
      "39:\tlearn: 0.8740458\ttest: 0.7301587\tbest: 0.7301587 (38)\ttotal: 519ms\tremaining: 1.6s\n",
      "40:\tlearn: 0.8761905\ttest: 0.7301587\tbest: 0.7301587 (38)\ttotal: 533ms\tremaining: 1.58s\n",
      "41:\tlearn: 0.8761905\ttest: 0.7301587\tbest: 0.7301587 (38)\ttotal: 546ms\tremaining: 1.57s\n",
      "42:\tlearn: 0.8761905\ttest: 0.7360000\tbest: 0.7360000 (42)\ttotal: 559ms\tremaining: 1.56s\n",
      "43:\tlearn: 0.8783270\ttest: 0.7401575\tbest: 0.7401575 (43)\ttotal: 573ms\tremaining: 1.55s\n",
      "44:\tlearn: 0.8783270\ttest: 0.7343750\tbest: 0.7401575 (43)\ttotal: 585ms\tremaining: 1.53s\n",
      "45:\tlearn: 0.8761905\ttest: 0.7244094\tbest: 0.7401575 (43)\ttotal: 598ms\tremaining: 1.52s\n",
      "46:\tlearn: 0.8783270\ttest: 0.7301587\tbest: 0.7401575 (43)\ttotal: 611ms\tremaining: 1.51s\n",
      "47:\tlearn: 0.8761905\ttest: 0.7301587\tbest: 0.7401575 (43)\ttotal: 624ms\tremaining: 1.49s\n",
      "48:\tlearn: 0.8761905\ttest: 0.7301587\tbest: 0.7401575 (43)\ttotal: 637ms\tremaining: 1.48s\n",
      "49:\tlearn: 0.8783270\ttest: 0.7200000\tbest: 0.7401575 (43)\ttotal: 650ms\tremaining: 1.47s\n",
      "50:\tlearn: 0.8783270\ttest: 0.7301587\tbest: 0.7401575 (43)\ttotal: 664ms\tremaining: 1.46s\n",
      "51:\tlearn: 0.8761905\ttest: 0.7301587\tbest: 0.7401575 (43)\ttotal: 677ms\tremaining: 1.45s\n",
      "52:\tlearn: 0.8761905\ttest: 0.7301587\tbest: 0.7401575 (43)\ttotal: 690ms\tremaining: 1.43s\n",
      "53:\tlearn: 0.8816794\ttest: 0.7301587\tbest: 0.7401575 (43)\ttotal: 703ms\tremaining: 1.42s\n",
      "54:\tlearn: 0.8816794\ttest: 0.7301587\tbest: 0.7401575 (43)\ttotal: 716ms\tremaining: 1.41s\n",
      "55:\tlearn: 0.8816794\ttest: 0.7301587\tbest: 0.7401575 (43)\ttotal: 730ms\tremaining: 1.4s\n",
      "56:\tlearn: 0.8816794\ttest: 0.7301587\tbest: 0.7401575 (43)\ttotal: 743ms\tremaining: 1.38s\n",
      "57:\tlearn: 0.8833652\ttest: 0.7419355\tbest: 0.7419355 (57)\ttotal: 758ms\tremaining: 1.37s\n",
      "58:\tlearn: 0.8795411\ttest: 0.7360000\tbest: 0.7419355 (57)\ttotal: 771ms\tremaining: 1.36s\n",
      "59:\tlearn: 0.8816794\ttest: 0.7360000\tbest: 0.7419355 (57)\ttotal: 789ms\tremaining: 1.35s\n",
      "60:\tlearn: 0.8838095\ttest: 0.7360000\tbest: 0.7419355 (57)\ttotal: 805ms\tremaining: 1.34s\n",
      "61:\tlearn: 0.8821293\ttest: 0.7360000\tbest: 0.7419355 (57)\ttotal: 821ms\tremaining: 1.34s\n",
      "62:\tlearn: 0.8854962\ttest: 0.7360000\tbest: 0.7419355 (57)\ttotal: 837ms\tremaining: 1.33s\n",
      "63:\tlearn: 0.8876190\ttest: 0.7360000\tbest: 0.7419355 (57)\ttotal: 856ms\tremaining: 1.32s\n",
      "64:\tlearn: 0.8939394\ttest: 0.7360000\tbest: 0.7419355 (57)\ttotal: 876ms\tremaining: 1.32s\n",
      "65:\tlearn: 0.8973384\ttest: 0.7360000\tbest: 0.7419355 (57)\ttotal: 891ms\tremaining: 1.31s\n",
      "66:\tlearn: 0.8973384\ttest: 0.7360000\tbest: 0.7419355 (57)\ttotal: 905ms\tremaining: 1.3s\n",
      "67:\tlearn: 0.8973384\ttest: 0.7360000\tbest: 0.7419355 (57)\ttotal: 919ms\tremaining: 1.28s\n",
      "68:\tlearn: 0.8994307\ttest: 0.7360000\tbest: 0.7419355 (57)\ttotal: 934ms\tremaining: 1.27s\n",
      "69:\tlearn: 0.9015152\ttest: 0.7360000\tbest: 0.7419355 (57)\ttotal: 949ms\tremaining: 1.26s\n",
      "70:\tlearn: 0.9032258\ttest: 0.7360000\tbest: 0.7419355 (57)\ttotal: 962ms\tremaining: 1.25s\n",
      "71:\tlearn: 0.9032258\ttest: 0.7559055\tbest: 0.7559055 (71)\ttotal: 975ms\tremaining: 1.23s\n",
      "72:\tlearn: 0.9049430\ttest: 0.7656250\tbest: 0.7656250 (72)\ttotal: 987ms\tremaining: 1.22s\n",
      "73:\tlearn: 0.9070209\ttest: 0.7559055\tbest: 0.7656250 (72)\ttotal: 1s\tremaining: 1.2s\n",
      "74:\tlearn: 0.9104762\ttest: 0.7360000\tbest: 0.7656250 (72)\ttotal: 1.01s\tremaining: 1.19s\n",
      "75:\tlearn: 0.9104762\ttest: 0.7460317\tbest: 0.7656250 (72)\ttotal: 1.03s\tremaining: 1.18s\n",
      "76:\tlearn: 0.9125475\ttest: 0.7460317\tbest: 0.7656250 (72)\ttotal: 1.04s\tremaining: 1.16s\n",
      "77:\tlearn: 0.9125475\ttest: 0.7559055\tbest: 0.7656250 (72)\ttotal: 1.05s\tremaining: 1.15s\n",
      "78:\tlearn: 0.9125475\ttest: 0.7559055\tbest: 0.7656250 (72)\ttotal: 1.06s\tremaining: 1.13s\n",
      "79:\tlearn: 0.9160305\ttest: 0.7460317\tbest: 0.7656250 (72)\ttotal: 1.08s\tremaining: 1.12s\n",
      "80:\tlearn: 0.9142857\ttest: 0.7559055\tbest: 0.7656250 (72)\ttotal: 1.09s\tremaining: 1.1s\n",
      "81:\tlearn: 0.9142857\ttest: 0.7559055\tbest: 0.7656250 (72)\ttotal: 1.1s\tremaining: 1.09s\n",
      "82:\tlearn: 0.9142857\ttest: 0.7460317\tbest: 0.7656250 (72)\ttotal: 1.12s\tremaining: 1.07s\n",
      "83:\tlearn: 0.9142857\ttest: 0.7460317\tbest: 0.7656250 (72)\ttotal: 1.13s\tremaining: 1.06s\n",
      "84:\tlearn: 0.9163498\ttest: 0.7460317\tbest: 0.7656250 (72)\ttotal: 1.14s\tremaining: 1.05s\n",
      "85:\tlearn: 0.9142857\ttest: 0.7520000\tbest: 0.7656250 (72)\ttotal: 1.16s\tremaining: 1.04s\n",
      "86:\tlearn: 0.9184061\ttest: 0.7460317\tbest: 0.7656250 (72)\ttotal: 1.18s\tremaining: 1.03s\n",
      "87:\tlearn: 0.9201521\ttest: 0.7460317\tbest: 0.7656250 (72)\ttotal: 1.19s\tremaining: 1.02s\n",
      "88:\tlearn: 0.9280303\ttest: 0.7460317\tbest: 0.7656250 (72)\ttotal: 1.21s\tremaining: 1s\n",
      "89:\tlearn: 0.9283019\ttest: 0.7460317\tbest: 0.7656250 (72)\ttotal: 1.22s\tremaining: 989ms\n",
      "90:\tlearn: 0.9283019\ttest: 0.7460317\tbest: 0.7656250 (72)\ttotal: 1.23s\tremaining: 975ms\n",
      "91:\tlearn: 0.9283019\ttest: 0.7460317\tbest: 0.7656250 (72)\ttotal: 1.24s\tremaining: 961ms\n",
      "92:\tlearn: 0.9318182\ttest: 0.7460317\tbest: 0.7656250 (72)\ttotal: 1.26s\tremaining: 947ms\n",
      "93:\tlearn: 0.9283019\ttest: 0.7401575\tbest: 0.7656250 (72)\ttotal: 1.27s\tremaining: 935ms\n",
      "94:\tlearn: 0.9335863\ttest: 0.7401575\tbest: 0.7656250 (72)\ttotal: 1.29s\tremaining: 921ms\n",
      "95:\tlearn: 0.9335863\ttest: 0.7401575\tbest: 0.7656250 (72)\ttotal: 1.3s\tremaining: 907ms\n",
      "96:\tlearn: 0.9335863\ttest: 0.7301587\tbest: 0.7656250 (72)\ttotal: 1.31s\tremaining: 893ms\n",
      "97:\tlearn: 0.9318182\ttest: 0.7301587\tbest: 0.7656250 (72)\ttotal: 1.33s\tremaining: 880ms\n",
      "98:\tlearn: 0.9318182\ttest: 0.7244094\tbest: 0.7656250 (72)\ttotal: 1.34s\tremaining: 867ms\n",
      "99:\tlearn: 0.9335863\ttest: 0.7244094\tbest: 0.7656250 (72)\ttotal: 1.35s\tremaining: 853ms\n",
      "100:\tlearn: 0.9356061\ttest: 0.7187500\tbest: 0.7656250 (72)\ttotal: 1.37s\tremaining: 839ms\n",
      "101:\tlearn: 0.9376181\ttest: 0.7244094\tbest: 0.7656250 (72)\ttotal: 1.38s\tremaining: 826ms\n",
      "102:\tlearn: 0.9396226\ttest: 0.7244094\tbest: 0.7656250 (72)\ttotal: 1.39s\tremaining: 812ms\n",
      "103:\tlearn: 0.9396226\ttest: 0.7343750\tbest: 0.7656250 (72)\ttotal: 1.41s\tremaining: 799ms\n",
      "104:\tlearn: 0.9396226\ttest: 0.7286822\tbest: 0.7656250 (72)\ttotal: 1.42s\tremaining: 785ms\n",
      "105:\tlearn: 0.9396226\ttest: 0.7286822\tbest: 0.7656250 (72)\ttotal: 1.43s\tremaining: 771ms\n",
      "106:\tlearn: 0.9396226\ttest: 0.7343750\tbest: 0.7656250 (72)\ttotal: 1.45s\tremaining: 757ms\n",
      "107:\tlearn: 0.9396226\ttest: 0.7343750\tbest: 0.7656250 (72)\ttotal: 1.46s\tremaining: 743ms\n",
      "108:\tlearn: 0.9396226\ttest: 0.7343750\tbest: 0.7656250 (72)\ttotal: 1.47s\tremaining: 729ms\n",
      "109:\tlearn: 0.9396226\ttest: 0.7441860\tbest: 0.7656250 (72)\ttotal: 1.48s\tremaining: 715ms\n",
      "110:\tlearn: 0.9396226\ttest: 0.7441860\tbest: 0.7656250 (72)\ttotal: 1.5s\tremaining: 702ms\n",
      "111:\tlearn: 0.9396226\ttest: 0.7441860\tbest: 0.7656250 (72)\ttotal: 1.51s\tremaining: 689ms\n",
      "112:\tlearn: 0.9416196\ttest: 0.7384615\tbest: 0.7656250 (72)\ttotal: 1.53s\tremaining: 675ms\n",
      "113:\tlearn: 0.9416196\ttest: 0.7384615\tbest: 0.7656250 (72)\ttotal: 1.54s\tremaining: 662ms\n",
      "114:\tlearn: 0.9416196\ttest: 0.7384615\tbest: 0.7656250 (72)\ttotal: 1.55s\tremaining: 648ms\n",
      "115:\tlearn: 0.9436090\ttest: 0.7441860\tbest: 0.7656250 (72)\ttotal: 1.56s\tremaining: 634ms\n",
      "116:\tlearn: 0.9436090\ttest: 0.7500000\tbest: 0.7656250 (72)\ttotal: 1.58s\tremaining: 621ms\n",
      "117:\tlearn: 0.9436090\ttest: 0.7441860\tbest: 0.7656250 (72)\ttotal: 1.59s\tremaining: 607ms\n",
      "118:\tlearn: 0.9436090\ttest: 0.7401575\tbest: 0.7656250 (72)\ttotal: 1.6s\tremaining: 593ms\n",
      "119:\tlearn: 0.9475655\ttest: 0.7401575\tbest: 0.7656250 (72)\ttotal: 1.62s\tremaining: 580ms\n",
      "120:\tlearn: 0.9475655\ttest: 0.7401575\tbest: 0.7656250 (72)\ttotal: 1.63s\tremaining: 566ms\n",
      "121:\tlearn: 0.9495327\ttest: 0.7401575\tbest: 0.7656250 (72)\ttotal: 1.64s\tremaining: 552ms\n",
      "122:\tlearn: 0.9495327\ttest: 0.7401575\tbest: 0.7656250 (72)\ttotal: 1.66s\tremaining: 539ms\n",
      "123:\tlearn: 0.9495327\ttest: 0.7401575\tbest: 0.7656250 (72)\ttotal: 1.67s\tremaining: 525ms\n",
      "124:\tlearn: 0.9514925\ttest: 0.7401575\tbest: 0.7656250 (72)\ttotal: 1.68s\tremaining: 511ms\n",
      "125:\tlearn: 0.9514925\ttest: 0.7401575\tbest: 0.7656250 (72)\ttotal: 1.69s\tremaining: 498ms\n",
      "126:\tlearn: 0.9532710\ttest: 0.7401575\tbest: 0.7656250 (72)\ttotal: 1.71s\tremaining: 484ms\n",
      "127:\tlearn: 0.9513109\ttest: 0.7401575\tbest: 0.7656250 (72)\ttotal: 1.72s\tremaining: 470ms\n",
      "128:\tlearn: 0.9513109\ttest: 0.7460317\tbest: 0.7656250 (72)\ttotal: 1.73s\tremaining: 457ms\n",
      "129:\tlearn: 0.9493433\ttest: 0.7460317\tbest: 0.7656250 (72)\ttotal: 1.75s\tremaining: 443ms\n",
      "130:\tlearn: 0.9532710\ttest: 0.7460317\tbest: 0.7656250 (72)\ttotal: 1.76s\tremaining: 430ms\n",
      "131:\tlearn: 0.9532710\ttest: 0.7460317\tbest: 0.7656250 (72)\ttotal: 1.77s\tremaining: 417ms\n",
      "132:\tlearn: 0.9532710\ttest: 0.7460317\tbest: 0.7656250 (72)\ttotal: 1.79s\tremaining: 403ms\n",
      "133:\tlearn: 0.9513109\ttest: 0.7460317\tbest: 0.7656250 (72)\ttotal: 1.8s\tremaining: 390ms\n",
      "134:\tlearn: 0.9513109\ttest: 0.7401575\tbest: 0.7656250 (72)\ttotal: 1.82s\tremaining: 377ms\n",
      "135:\tlearn: 0.9513109\ttest: 0.7460317\tbest: 0.7656250 (72)\ttotal: 1.83s\tremaining: 364ms\n",
      "136:\tlearn: 0.9513109\ttest: 0.7460317\tbest: 0.7656250 (72)\ttotal: 1.84s\tremaining: 350ms\n",
      "137:\tlearn: 0.9513109\ttest: 0.7460317\tbest: 0.7656250 (72)\ttotal: 1.86s\tremaining: 337ms\n",
      "138:\tlearn: 0.9513109\ttest: 0.7401575\tbest: 0.7656250 (72)\ttotal: 1.87s\tremaining: 323ms\n",
      "139:\tlearn: 0.9513109\ttest: 0.7401575\tbest: 0.7656250 (72)\ttotal: 1.89s\tremaining: 310ms\n",
      "140:\tlearn: 0.9513109\ttest: 0.7401575\tbest: 0.7656250 (72)\ttotal: 1.9s\tremaining: 297ms\n",
      "141:\tlearn: 0.9530957\ttest: 0.7401575\tbest: 0.7656250 (72)\ttotal: 1.91s\tremaining: 283ms\n",
      "142:\tlearn: 0.9530957\ttest: 0.7401575\tbest: 0.7656250 (72)\ttotal: 1.93s\tremaining: 269ms\n",
      "143:\tlearn: 0.9530957\ttest: 0.7401575\tbest: 0.7656250 (72)\ttotal: 1.94s\tremaining: 256ms\n",
      "144:\tlearn: 0.9530957\ttest: 0.7401575\tbest: 0.7656250 (72)\ttotal: 1.95s\tremaining: 243ms\n",
      "145:\tlearn: 0.9530957\ttest: 0.7401575\tbest: 0.7656250 (72)\ttotal: 1.97s\tremaining: 229ms\n",
      "146:\tlearn: 0.9530957\ttest: 0.7401575\tbest: 0.7656250 (72)\ttotal: 1.98s\tremaining: 216ms\n",
      "147:\tlearn: 0.9530957\ttest: 0.7401575\tbest: 0.7656250 (72)\ttotal: 1.99s\tremaining: 202ms\n",
      "148:\tlearn: 0.9530957\ttest: 0.7401575\tbest: 0.7656250 (72)\ttotal: 2.01s\tremaining: 189ms\n",
      "149:\tlearn: 0.9550562\ttest: 0.7401575\tbest: 0.7656250 (72)\ttotal: 2.02s\tremaining: 175ms\n",
      "150:\tlearn: 0.9568480\ttest: 0.7401575\tbest: 0.7656250 (72)\ttotal: 2.03s\tremaining: 162ms\n",
      "151:\tlearn: 0.9588015\ttest: 0.7401575\tbest: 0.7656250 (72)\ttotal: 2.04s\tremaining: 148ms\n",
      "152:\tlearn: 0.9588015\ttest: 0.7401575\tbest: 0.7656250 (72)\ttotal: 2.06s\tremaining: 135ms\n",
      "153:\tlearn: 0.9588015\ttest: 0.7520000\tbest: 0.7656250 (72)\ttotal: 2.07s\tremaining: 121ms\n",
      "154:\tlearn: 0.9568480\ttest: 0.7520000\tbest: 0.7656250 (72)\ttotal: 2.08s\tremaining: 108ms\n",
      "155:\tlearn: 0.9588015\ttest: 0.7520000\tbest: 0.7656250 (72)\ttotal: 2.1s\tremaining: 94.1ms\n",
      "156:\tlearn: 0.9568480\ttest: 0.7520000\tbest: 0.7656250 (72)\ttotal: 2.11s\tremaining: 80.7ms\n",
      "157:\tlearn: 0.9568480\ttest: 0.7520000\tbest: 0.7656250 (72)\ttotal: 2.12s\tremaining: 67.2ms\n",
      "158:\tlearn: 0.9568480\ttest: 0.7460317\tbest: 0.7656250 (72)\ttotal: 2.14s\tremaining: 53.8ms\n",
      "159:\tlearn: 0.9588015\ttest: 0.7460317\tbest: 0.7656250 (72)\ttotal: 2.15s\tremaining: 40.3ms\n",
      "160:\tlearn: 0.9588015\ttest: 0.7360000\tbest: 0.7656250 (72)\ttotal: 2.16s\tremaining: 26.9ms\n",
      "161:\tlearn: 0.9607477\ttest: 0.7360000\tbest: 0.7656250 (72)\ttotal: 2.17s\tremaining: 13.4ms\n",
      "162:\tlearn: 0.9607477\ttest: 0.7360000\tbest: 0.7656250 (72)\ttotal: 2.19s\tremaining: 0us\n",
      "\n",
      "bestTest = 0.765625\n",
      "bestIteration = 72\n",
      "\n",
      "Training on fold [3/5]\n",
      "0:\tlearn: 0.7286822\ttest: 0.8091603\tbest: 0.8091603 (0)\ttotal: 10.4ms\tremaining: 1.68s\n",
      "1:\tlearn: 0.7407407\ttest: 0.8062016\tbest: 0.8091603 (0)\ttotal: 20.9ms\tremaining: 1.68s\n",
      "2:\tlearn: 0.7599244\ttest: 0.8030303\tbest: 0.8091603 (0)\ttotal: 30.7ms\tremaining: 1.64s\n",
      "3:\tlearn: 0.7745665\ttest: 0.8120301\tbest: 0.8120301 (3)\ttotal: 43.7ms\tremaining: 1.74s\n",
      "4:\tlearn: 0.7751938\ttest: 0.8120301\tbest: 0.8120301 (3)\ttotal: 57ms\tremaining: 1.8s\n",
      "5:\tlearn: 0.7837838\ttest: 0.8088235\tbest: 0.8120301 (3)\ttotal: 70.1ms\tremaining: 1.83s\n",
      "6:\tlearn: 0.7766990\ttest: 0.8148148\tbest: 0.8148148 (6)\ttotal: 82.5ms\tremaining: 1.84s\n",
      "7:\tlearn: 0.7837838\ttest: 0.7971014\tbest: 0.8148148 (6)\ttotal: 95.1ms\tremaining: 1.84s\n",
      "8:\tlearn: 0.7884615\ttest: 0.7971014\tbest: 0.8148148 (6)\ttotal: 108ms\tremaining: 1.85s\n",
      "9:\tlearn: 0.8023483\ttest: 0.7969925\tbest: 0.8148148 (6)\ttotal: 121ms\tremaining: 1.85s\n",
      "10:\tlearn: 0.8093385\ttest: 0.7969925\tbest: 0.8148148 (6)\ttotal: 134ms\tremaining: 1.85s\n",
      "11:\tlearn: 0.8139535\ttest: 0.7969925\tbest: 0.8148148 (6)\ttotal: 150ms\tremaining: 1.89s\n",
      "12:\tlearn: 0.8208092\ttest: 0.7969925\tbest: 0.8148148 (6)\ttotal: 165ms\tremaining: 1.9s\n",
      "13:\tlearn: 0.8210117\ttest: 0.8059701\tbest: 0.8148148 (6)\ttotal: 178ms\tremaining: 1.9s\n",
      "14:\tlearn: 0.8219178\ttest: 0.8059701\tbest: 0.8148148 (6)\ttotal: 193ms\tremaining: 1.9s\n",
      "15:\tlearn: 0.8126233\ttest: 0.8030303\tbest: 0.8148148 (6)\ttotal: 207ms\tremaining: 1.9s\n",
      "16:\tlearn: 0.8165680\ttest: 0.7969925\tbest: 0.8148148 (6)\ttotal: 220ms\tremaining: 1.89s\n",
      "17:\tlearn: 0.8274510\ttest: 0.8000000\tbest: 0.8148148 (6)\ttotal: 233ms\tremaining: 1.87s\n",
      "18:\tlearn: 0.8320313\ttest: 0.8000000\tbest: 0.8148148 (6)\ttotal: 245ms\tremaining: 1.86s\n",
      "19:\tlearn: 0.8343080\ttest: 0.8000000\tbest: 0.8148148 (6)\ttotal: 258ms\tremaining: 1.84s\n",
      "20:\tlearn: 0.8365759\ttest: 0.8000000\tbest: 0.8148148 (6)\ttotal: 271ms\tremaining: 1.83s\n",
      "21:\tlearn: 0.8388350\ttest: 0.8000000\tbest: 0.8148148 (6)\ttotal: 284ms\tremaining: 1.82s\n",
      "22:\tlearn: 0.8427184\ttest: 0.7819549\tbest: 0.8148148 (6)\ttotal: 297ms\tremaining: 1.8s\n",
      "23:\tlearn: 0.8476563\ttest: 0.7969925\tbest: 0.8148148 (6)\ttotal: 309ms\tremaining: 1.79s\n",
      "24:\tlearn: 0.8526523\ttest: 0.8000000\tbest: 0.8148148 (6)\ttotal: 323ms\tremaining: 1.78s\n",
      "25:\tlearn: 0.8599606\ttest: 0.7910448\tbest: 0.8148148 (6)\ttotal: 336ms\tremaining: 1.77s\n",
      "26:\tlearn: 0.8582677\ttest: 0.7910448\tbest: 0.8148148 (6)\ttotal: 349ms\tremaining: 1.76s\n",
      "27:\tlearn: 0.8588235\ttest: 0.8000000\tbest: 0.8148148 (6)\ttotal: 363ms\tremaining: 1.75s\n",
      "28:\tlearn: 0.8605108\ttest: 0.8000000\tbest: 0.8148148 (6)\ttotal: 375ms\tremaining: 1.73s\n",
      "29:\tlearn: 0.8688845\ttest: 0.7851852\tbest: 0.8148148 (6)\ttotal: 389ms\tremaining: 1.73s\n",
      "30:\tlearn: 0.8693957\ttest: 0.7910448\tbest: 0.8148148 (6)\ttotal: 402ms\tremaining: 1.71s\n",
      "31:\tlearn: 0.8699029\ttest: 0.7969925\tbest: 0.8148148 (6)\ttotal: 416ms\tremaining: 1.7s\n",
      "32:\tlearn: 0.8720930\ttest: 0.7969925\tbest: 0.8148148 (6)\ttotal: 430ms\tremaining: 1.69s\n",
      "33:\tlearn: 0.8720930\ttest: 0.7969925\tbest: 0.8148148 (6)\ttotal: 442ms\tremaining: 1.68s\n",
      "34:\tlearn: 0.8699029\ttest: 0.7969925\tbest: 0.8148148 (6)\ttotal: 455ms\tremaining: 1.66s\n",
      "35:\tlearn: 0.8742747\ttest: 0.7910448\tbest: 0.8148148 (6)\ttotal: 468ms\tremaining: 1.65s\n",
      "36:\tlearn: 0.8803089\ttest: 0.7910448\tbest: 0.8148148 (6)\ttotal: 481ms\tremaining: 1.64s\n",
      "37:\tlearn: 0.8841699\ttest: 0.7969925\tbest: 0.8148148 (6)\ttotal: 494ms\tremaining: 1.62s\n",
      "38:\tlearn: 0.8841699\ttest: 0.7878788\tbest: 0.8148148 (6)\ttotal: 507ms\tremaining: 1.61s\n",
      "39:\tlearn: 0.8820116\ttest: 0.7969925\tbest: 0.8148148 (6)\ttotal: 522ms\tremaining: 1.6s\n",
      "40:\tlearn: 0.8820116\ttest: 0.7969925\tbest: 0.8148148 (6)\ttotal: 536ms\tremaining: 1.6s\n",
      "41:\tlearn: 0.8863198\ttest: 0.7969925\tbest: 0.8148148 (6)\ttotal: 550ms\tremaining: 1.58s\n",
      "42:\tlearn: 0.8858801\ttest: 0.7969925\tbest: 0.8148148 (6)\ttotal: 563ms\tremaining: 1.57s\n",
      "43:\tlearn: 0.8880309\ttest: 0.7910448\tbest: 0.8148148 (6)\ttotal: 577ms\tremaining: 1.56s\n",
      "44:\tlearn: 0.8880309\ttest: 0.7910448\tbest: 0.8148148 (6)\ttotal: 591ms\tremaining: 1.55s\n",
      "45:\tlearn: 0.8897485\ttest: 0.7727273\tbest: 0.8148148 (6)\ttotal: 605ms\tremaining: 1.54s\n",
      "46:\tlearn: 0.8897485\ttest: 0.7969925\tbest: 0.8148148 (6)\ttotal: 618ms\tremaining: 1.52s\n",
      "47:\tlearn: 0.8914729\ttest: 0.7878788\tbest: 0.8148148 (6)\ttotal: 632ms\tremaining: 1.51s\n",
      "48:\tlearn: 0.8914729\ttest: 0.8030303\tbest: 0.8148148 (6)\ttotal: 646ms\tremaining: 1.5s\n",
      "49:\tlearn: 0.8914729\ttest: 0.7938931\tbest: 0.8148148 (6)\ttotal: 659ms\tremaining: 1.49s\n",
      "50:\tlearn: 0.8914729\ttest: 0.7878788\tbest: 0.8148148 (6)\ttotal: 672ms\tremaining: 1.48s\n",
      "51:\tlearn: 0.8936170\ttest: 0.7969925\tbest: 0.8148148 (6)\ttotal: 688ms\tremaining: 1.47s\n",
      "52:\tlearn: 0.8957529\ttest: 0.7969925\tbest: 0.8148148 (6)\ttotal: 705ms\tremaining: 1.46s\n",
      "53:\tlearn: 0.8957529\ttest: 0.7969925\tbest: 0.8148148 (6)\ttotal: 720ms\tremaining: 1.45s\n",
      "54:\tlearn: 0.8970874\ttest: 0.8030303\tbest: 0.8148148 (6)\ttotal: 734ms\tremaining: 1.44s\n",
      "55:\tlearn: 0.9009709\ttest: 0.7969925\tbest: 0.8148148 (6)\ttotal: 747ms\tremaining: 1.43s\n",
      "56:\tlearn: 0.9009709\ttest: 0.7969925\tbest: 0.8148148 (6)\ttotal: 759ms\tremaining: 1.41s\n",
      "57:\tlearn: 0.9009709\ttest: 0.8120301\tbest: 0.8148148 (6)\ttotal: 772ms\tremaining: 1.4s\n",
      "58:\tlearn: 0.8957529\ttest: 0.8030303\tbest: 0.8148148 (6)\ttotal: 785ms\tremaining: 1.38s\n",
      "59:\tlearn: 0.8992248\ttest: 0.8120301\tbest: 0.8148148 (6)\ttotal: 798ms\tremaining: 1.37s\n",
      "60:\tlearn: 0.8996139\ttest: 0.8208955\tbest: 0.8208955 (60)\ttotal: 813ms\tremaining: 1.36s\n",
      "61:\tlearn: 0.9073359\ttest: 0.8000000\tbest: 0.8208955 (60)\ttotal: 826ms\tremaining: 1.35s\n",
      "62:\tlearn: 0.9055877\ttest: 0.8000000\tbest: 0.8208955 (60)\ttotal: 839ms\tremaining: 1.33s\n",
      "63:\tlearn: 0.9076923\ttest: 0.8208955\tbest: 0.8208955 (60)\ttotal: 851ms\tremaining: 1.32s\n",
      "64:\tlearn: 0.9076923\ttest: 0.8208955\tbest: 0.8208955 (60)\ttotal: 864ms\tremaining: 1.3s\n",
      "65:\tlearn: 0.9097889\ttest: 0.8208955\tbest: 0.8208955 (60)\ttotal: 878ms\tremaining: 1.29s\n",
      "66:\tlearn: 0.9097889\ttest: 0.8208955\tbest: 0.8208955 (60)\ttotal: 891ms\tremaining: 1.28s\n",
      "67:\tlearn: 0.9097889\ttest: 0.8148148\tbest: 0.8208955 (60)\ttotal: 905ms\tremaining: 1.26s\n",
      "68:\tlearn: 0.9097889\ttest: 0.8148148\tbest: 0.8208955 (60)\ttotal: 918ms\tremaining: 1.25s\n",
      "69:\tlearn: 0.9097889\ttest: 0.8148148\tbest: 0.8208955 (60)\ttotal: 931ms\tremaining: 1.24s\n",
      "70:\tlearn: 0.9118774\ttest: 0.8148148\tbest: 0.8208955 (60)\ttotal: 944ms\tremaining: 1.22s\n",
      "71:\tlearn: 0.9118774\ttest: 0.8059701\tbest: 0.8208955 (60)\ttotal: 957ms\tremaining: 1.21s\n",
      "72:\tlearn: 0.9094412\ttest: 0.7969925\tbest: 0.8208955 (60)\ttotal: 970ms\tremaining: 1.2s\n",
      "73:\tlearn: 0.9115385\ttest: 0.7969925\tbest: 0.8208955 (60)\ttotal: 983ms\tremaining: 1.18s\n",
      "74:\tlearn: 0.9115385\ttest: 0.7878788\tbest: 0.8208955 (60)\ttotal: 995ms\tremaining: 1.17s\n",
      "75:\tlearn: 0.9136276\ttest: 0.7878788\tbest: 0.8208955 (60)\ttotal: 1.01s\tremaining: 1.15s\n",
      "76:\tlearn: 0.9136276\ttest: 0.7878788\tbest: 0.8208955 (60)\ttotal: 1.02s\tremaining: 1.14s\n",
      "77:\tlearn: 0.9174664\ttest: 0.7878788\tbest: 0.8208955 (60)\ttotal: 1.03s\tremaining: 1.13s\n",
      "78:\tlearn: 0.9174664\ttest: 0.7878788\tbest: 0.8208955 (60)\ttotal: 1.05s\tremaining: 1.11s\n",
      "79:\tlearn: 0.9195402\ttest: 0.7878788\tbest: 0.8208955 (60)\ttotal: 1.06s\tremaining: 1.1s\n",
      "80:\tlearn: 0.9195402\ttest: 0.7878788\tbest: 0.8208955 (60)\ttotal: 1.07s\tremaining: 1.09s\n",
      "81:\tlearn: 0.9195402\ttest: 0.7786260\tbest: 0.8208955 (60)\ttotal: 1.08s\tremaining: 1.07s\n",
      "82:\tlearn: 0.9201521\ttest: 0.7786260\tbest: 0.8208955 (60)\ttotal: 1.1s\tremaining: 1.06s\n",
      "83:\tlearn: 0.9242424\ttest: 0.7786260\tbest: 0.8208955 (60)\ttotal: 1.11s\tremaining: 1.04s\n",
      "84:\tlearn: 0.9262760\ttest: 0.7786260\tbest: 0.8208955 (60)\ttotal: 1.12s\tremaining: 1.03s\n",
      "85:\tlearn: 0.9245283\ttest: 0.7786260\tbest: 0.8208955 (60)\ttotal: 1.14s\tremaining: 1.02s\n",
      "86:\tlearn: 0.9283019\ttest: 0.7786260\tbest: 0.8208955 (60)\ttotal: 1.15s\tremaining: 1s\n",
      "87:\tlearn: 0.9283019\ttest: 0.7878788\tbest: 0.8208955 (60)\ttotal: 1.16s\tremaining: 992ms\n",
      "88:\tlearn: 0.9303202\ttest: 0.7878788\tbest: 0.8208955 (60)\ttotal: 1.18s\tremaining: 979ms\n",
      "89:\tlearn: 0.9303202\ttest: 0.7786260\tbest: 0.8208955 (60)\ttotal: 1.19s\tremaining: 966ms\n",
      "90:\tlearn: 0.9303202\ttest: 0.7786260\tbest: 0.8208955 (60)\ttotal: 1.2s\tremaining: 953ms\n",
      "91:\tlearn: 0.9303202\ttest: 0.7786260\tbest: 0.8208955 (60)\ttotal: 1.22s\tremaining: 939ms\n",
      "92:\tlearn: 0.9303202\ttest: 0.7786260\tbest: 0.8208955 (60)\ttotal: 1.23s\tremaining: 926ms\n",
      "93:\tlearn: 0.9303202\ttest: 0.7786260\tbest: 0.8208955 (60)\ttotal: 1.24s\tremaining: 913ms\n",
      "94:\tlearn: 0.9303202\ttest: 0.7786260\tbest: 0.8208955 (60)\ttotal: 1.26s\tremaining: 900ms\n",
      "95:\tlearn: 0.9303202\ttest: 0.7786260\tbest: 0.8208955 (60)\ttotal: 1.27s\tremaining: 886ms\n",
      "96:\tlearn: 0.9323308\ttest: 0.7786260\tbest: 0.8208955 (60)\ttotal: 1.28s\tremaining: 873ms\n",
      "97:\tlearn: 0.9323308\ttest: 0.7786260\tbest: 0.8208955 (60)\ttotal: 1.29s\tremaining: 859ms\n",
      "98:\tlearn: 0.9363296\ttest: 0.7786260\tbest: 0.8208955 (60)\ttotal: 1.31s\tremaining: 846ms\n",
      "99:\tlearn: 0.9380863\ttest: 0.7786260\tbest: 0.8208955 (60)\ttotal: 1.32s\tremaining: 833ms\n",
      "100:\tlearn: 0.9380863\ttest: 0.7786260\tbest: 0.8208955 (60)\ttotal: 1.33s\tremaining: 820ms\n",
      "101:\tlearn: 0.9380863\ttest: 0.7846154\tbest: 0.8208955 (60)\ttotal: 1.35s\tremaining: 806ms\n",
      "102:\tlearn: 0.9380863\ttest: 0.7938931\tbest: 0.8208955 (60)\ttotal: 1.36s\tremaining: 794ms\n",
      "103:\tlearn: 0.9380863\ttest: 0.7938931\tbest: 0.8208955 (60)\ttotal: 1.38s\tremaining: 781ms\n",
      "104:\tlearn: 0.9398496\ttest: 0.7938931\tbest: 0.8208955 (60)\ttotal: 1.39s\tremaining: 768ms\n",
      "105:\tlearn: 0.9398496\ttest: 0.8000000\tbest: 0.8208955 (60)\ttotal: 1.4s\tremaining: 755ms\n",
      "106:\tlearn: 0.9416196\ttest: 0.8000000\tbest: 0.8208955 (60)\ttotal: 1.42s\tremaining: 742ms\n",
      "107:\tlearn: 0.9416196\ttest: 0.8000000\tbest: 0.8208955 (60)\ttotal: 1.43s\tremaining: 729ms\n",
      "108:\tlearn: 0.9416196\ttest: 0.8000000\tbest: 0.8208955 (60)\ttotal: 1.45s\tremaining: 716ms\n",
      "109:\tlearn: 0.9416196\ttest: 0.8000000\tbest: 0.8208955 (60)\ttotal: 1.46s\tremaining: 704ms\n",
      "110:\tlearn: 0.9398496\ttest: 0.8000000\tbest: 0.8208955 (60)\ttotal: 1.47s\tremaining: 691ms\n",
      "111:\tlearn: 0.9398496\ttest: 0.8000000\tbest: 0.8208955 (60)\ttotal: 1.49s\tremaining: 677ms\n",
      "112:\tlearn: 0.9398496\ttest: 0.8000000\tbest: 0.8208955 (60)\ttotal: 1.5s\tremaining: 664ms\n",
      "113:\tlearn: 0.9398496\ttest: 0.7938931\tbest: 0.8208955 (60)\ttotal: 1.51s\tremaining: 651ms\n",
      "114:\tlearn: 0.9398496\ttest: 0.8000000\tbest: 0.8208955 (60)\ttotal: 1.53s\tremaining: 638ms\n",
      "115:\tlearn: 0.9398496\ttest: 0.8000000\tbest: 0.8208955 (60)\ttotal: 1.54s\tremaining: 624ms\n",
      "116:\tlearn: 0.9398496\ttest: 0.8000000\tbest: 0.8208955 (60)\ttotal: 1.55s\tremaining: 611ms\n",
      "117:\tlearn: 0.9398496\ttest: 0.8000000\tbest: 0.8208955 (60)\ttotal: 1.57s\tremaining: 598ms\n",
      "118:\tlearn: 0.9398496\ttest: 0.8000000\tbest: 0.8208955 (60)\ttotal: 1.58s\tremaining: 584ms\n",
      "119:\tlearn: 0.9418386\ttest: 0.8000000\tbest: 0.8208955 (60)\ttotal: 1.59s\tremaining: 571ms\n",
      "120:\tlearn: 0.9418386\ttest: 0.8000000\tbest: 0.8208955 (60)\ttotal: 1.6s\tremaining: 557ms\n",
      "121:\tlearn: 0.9418386\ttest: 0.8000000\tbest: 0.8208955 (60)\ttotal: 1.62s\tremaining: 544ms\n",
      "122:\tlearn: 0.9418386\ttest: 0.8000000\tbest: 0.8208955 (60)\ttotal: 1.63s\tremaining: 531ms\n",
      "123:\tlearn: 0.9418386\ttest: 0.8000000\tbest: 0.8208955 (60)\ttotal: 1.64s\tremaining: 517ms\n",
      "124:\tlearn: 0.9455910\ttest: 0.8000000\tbest: 0.8208955 (60)\ttotal: 1.66s\tremaining: 504ms\n",
      "125:\tlearn: 0.9455910\ttest: 0.8000000\tbest: 0.8208955 (60)\ttotal: 1.67s\tremaining: 491ms\n",
      "126:\tlearn: 0.9455910\ttest: 0.8000000\tbest: 0.8208955 (60)\ttotal: 1.68s\tremaining: 478ms\n",
      "127:\tlearn: 0.9455910\ttest: 0.8000000\tbest: 0.8208955 (60)\ttotal: 1.71s\tremaining: 467ms\n",
      "128:\tlearn: 0.9475655\ttest: 0.8000000\tbest: 0.8208955 (60)\ttotal: 1.72s\tremaining: 453ms\n",
      "129:\tlearn: 0.9455910\ttest: 0.8000000\tbest: 0.8208955 (60)\ttotal: 1.73s\tremaining: 440ms\n",
      "130:\tlearn: 0.9475655\ttest: 0.7906977\tbest: 0.8208955 (60)\ttotal: 1.75s\tremaining: 426ms\n",
      "131:\tlearn: 0.9475655\ttest: 0.7906977\tbest: 0.8208955 (60)\ttotal: 1.76s\tremaining: 413ms\n",
      "132:\tlearn: 0.9475655\ttest: 0.7906977\tbest: 0.8208955 (60)\ttotal: 1.77s\tremaining: 400ms\n",
      "133:\tlearn: 0.9475655\ttest: 0.7906977\tbest: 0.8208955 (60)\ttotal: 1.78s\tremaining: 386ms\n",
      "134:\tlearn: 0.9475655\ttest: 0.7906977\tbest: 0.8208955 (60)\ttotal: 1.8s\tremaining: 373ms\n",
      "135:\tlearn: 0.9475655\ttest: 0.7906977\tbest: 0.8208955 (60)\ttotal: 1.81s\tremaining: 359ms\n",
      "136:\tlearn: 0.9475655\ttest: 0.7906977\tbest: 0.8208955 (60)\ttotal: 1.82s\tremaining: 346ms\n",
      "137:\tlearn: 0.9475655\ttest: 0.8000000\tbest: 0.8208955 (60)\ttotal: 1.84s\tremaining: 333ms\n",
      "138:\tlearn: 0.9495327\ttest: 0.7938931\tbest: 0.8208955 (60)\ttotal: 1.85s\tremaining: 319ms\n",
      "139:\tlearn: 0.9493433\ttest: 0.7938931\tbest: 0.8208955 (60)\ttotal: 1.86s\tremaining: 306ms\n",
      "140:\tlearn: 0.9475655\ttest: 0.7938931\tbest: 0.8208955 (60)\ttotal: 1.88s\tremaining: 293ms\n",
      "141:\tlearn: 0.9475655\ttest: 0.7938931\tbest: 0.8208955 (60)\ttotal: 1.89s\tremaining: 280ms\n",
      "142:\tlearn: 0.9455910\ttest: 0.7938931\tbest: 0.8208955 (60)\ttotal: 1.9s\tremaining: 266ms\n",
      "143:\tlearn: 0.9475655\ttest: 0.7938931\tbest: 0.8208955 (60)\ttotal: 1.92s\tremaining: 253ms\n",
      "144:\tlearn: 0.9511278\ttest: 0.7938931\tbest: 0.8208955 (60)\ttotal: 1.93s\tremaining: 240ms\n",
      "145:\tlearn: 0.9511278\ttest: 0.7938931\tbest: 0.8208955 (60)\ttotal: 1.94s\tremaining: 226ms\n",
      "146:\tlearn: 0.9511278\ttest: 0.7938931\tbest: 0.8208955 (60)\ttotal: 1.96s\tremaining: 213ms\n",
      "147:\tlearn: 0.9532710\ttest: 0.7938931\tbest: 0.8208955 (60)\ttotal: 1.97s\tremaining: 200ms\n",
      "148:\tlearn: 0.9532710\ttest: 0.7938931\tbest: 0.8208955 (60)\ttotal: 1.98s\tremaining: 186ms\n",
      "149:\tlearn: 0.9532710\ttest: 0.7938931\tbest: 0.8208955 (60)\ttotal: 2s\tremaining: 173ms\n",
      "150:\tlearn: 0.9532710\ttest: 0.7938931\tbest: 0.8208955 (60)\ttotal: 2.01s\tremaining: 160ms\n",
      "151:\tlearn: 0.9513109\ttest: 0.7938931\tbest: 0.8208955 (60)\ttotal: 2.02s\tremaining: 146ms\n",
      "152:\tlearn: 0.9532710\ttest: 0.8030303\tbest: 0.8208955 (60)\ttotal: 2.04s\tremaining: 133ms\n",
      "153:\tlearn: 0.9532710\ttest: 0.8030303\tbest: 0.8208955 (60)\ttotal: 2.05s\tremaining: 120ms\n",
      "154:\tlearn: 0.9532710\ttest: 0.8030303\tbest: 0.8208955 (60)\ttotal: 2.06s\tremaining: 106ms\n",
      "155:\tlearn: 0.9532710\ttest: 0.8030303\tbest: 0.8208955 (60)\ttotal: 2.07s\tremaining: 93ms\n",
      "156:\tlearn: 0.9532710\ttest: 0.8030303\tbest: 0.8208955 (60)\ttotal: 2.09s\tremaining: 79.7ms\n",
      "157:\tlearn: 0.9552239\ttest: 0.8030303\tbest: 0.8208955 (60)\ttotal: 2.1s\tremaining: 66.4ms\n",
      "158:\tlearn: 0.9552239\ttest: 0.8030303\tbest: 0.8208955 (60)\ttotal: 2.11s\tremaining: 53.2ms\n",
      "159:\tlearn: 0.9552239\ttest: 0.7938931\tbest: 0.8208955 (60)\ttotal: 2.13s\tremaining: 39.9ms\n",
      "160:\tlearn: 0.9552239\ttest: 0.7938931\tbest: 0.8208955 (60)\ttotal: 2.14s\tremaining: 26.6ms\n",
      "161:\tlearn: 0.9552239\ttest: 0.7938931\tbest: 0.8208955 (60)\ttotal: 2.15s\tremaining: 13.3ms\n",
      "162:\tlearn: 0.9571695\ttest: 0.7938931\tbest: 0.8208955 (60)\ttotal: 2.17s\tremaining: 0us\n",
      "\n",
      "bestTest = 0.8208955224\n",
      "bestIteration = 60\n",
      "\n",
      "Training on fold [4/5]\n",
      "0:\tlearn: 0.7490494\ttest: 0.7343750\tbest: 0.7343750 (0)\ttotal: 10.9ms\tremaining: 1.76s\n",
      "1:\tlearn: 0.7620890\ttest: 0.7401575\tbest: 0.7401575 (1)\ttotal: 21.1ms\tremaining: 1.7s\n",
      "2:\tlearn: 0.7641326\ttest: 0.7401575\tbest: 0.7401575 (1)\ttotal: 33.9ms\tremaining: 1.81s\n",
      "3:\tlearn: 0.7656250\ttest: 0.7401575\tbest: 0.7401575 (1)\ttotal: 46.8ms\tremaining: 1.86s\n",
      "4:\tlearn: 0.7710372\ttest: 0.7401575\tbest: 0.7401575 (1)\ttotal: 59.6ms\tremaining: 1.88s\n",
      "5:\tlearn: 0.7734375\ttest: 0.7401575\tbest: 0.7401575 (1)\ttotal: 72.8ms\tremaining: 1.91s\n",
      "6:\tlearn: 0.7890625\ttest: 0.7401575\tbest: 0.7401575 (1)\ttotal: 85.6ms\tremaining: 1.91s\n",
      "7:\tlearn: 0.7976190\ttest: 0.7540984\tbest: 0.7540984 (7)\ttotal: 98.1ms\tremaining: 1.9s\n",
      "8:\tlearn: 0.7953216\ttest: 0.7401575\tbest: 0.7540984 (7)\ttotal: 113ms\tremaining: 1.94s\n",
      "9:\tlearn: 0.7976190\ttest: 0.7360000\tbest: 0.7540984 (7)\ttotal: 127ms\tremaining: 1.94s\n",
      "10:\tlearn: 0.8023715\ttest: 0.7301587\tbest: 0.7540984 (7)\ttotal: 150ms\tremaining: 2.07s\n",
      "11:\tlearn: 0.8070866\ttest: 0.7244094\tbest: 0.7540984 (7)\ttotal: 166ms\tremaining: 2.09s\n",
      "12:\tlearn: 0.8233010\ttest: 0.7244094\tbest: 0.7540984 (7)\ttotal: 179ms\tremaining: 2.06s\n",
      "13:\tlearn: 0.8281250\ttest: 0.7301587\tbest: 0.7540984 (7)\ttotal: 192ms\tremaining: 2.04s\n",
      "14:\tlearn: 0.8493151\ttest: 0.7244094\tbest: 0.7540984 (7)\ttotal: 205ms\tremaining: 2.02s\n",
      "15:\tlearn: 0.8515625\ttest: 0.7244094\tbest: 0.7540984 (7)\ttotal: 218ms\tremaining: 2s\n",
      "16:\tlearn: 0.8498024\ttest: 0.7187500\tbest: 0.7540984 (7)\ttotal: 231ms\tremaining: 1.98s\n",
      "17:\tlearn: 0.8508946\ttest: 0.7244094\tbest: 0.7540984 (7)\ttotal: 243ms\tremaining: 1.96s\n",
      "18:\tlearn: 0.8475248\ttest: 0.7301587\tbest: 0.7540984 (7)\ttotal: 257ms\tremaining: 1.94s\n",
      "19:\tlearn: 0.8543307\ttest: 0.7301587\tbest: 0.7540984 (7)\ttotal: 270ms\tremaining: 1.93s\n",
      "20:\tlearn: 0.8593750\ttest: 0.7258065\tbest: 0.7540984 (7)\ttotal: 283ms\tremaining: 1.91s\n",
      "21:\tlearn: 0.8615984\ttest: 0.7258065\tbest: 0.7540984 (7)\ttotal: 296ms\tremaining: 1.9s\n",
      "22:\tlearn: 0.8677043\ttest: 0.7258065\tbest: 0.7540984 (7)\ttotal: 309ms\tremaining: 1.88s\n",
      "23:\tlearn: 0.8720930\ttest: 0.7258065\tbest: 0.7540984 (7)\ttotal: 322ms\tremaining: 1.87s\n",
      "24:\tlearn: 0.8764479\ttest: 0.7086614\tbest: 0.7540984 (7)\ttotal: 336ms\tremaining: 1.86s\n",
      "25:\tlearn: 0.8781431\ttest: 0.7187500\tbest: 0.7540984 (7)\ttotal: 349ms\tremaining: 1.84s\n",
      "26:\tlearn: 0.8837209\ttest: 0.7187500\tbest: 0.7540984 (7)\ttotal: 363ms\tremaining: 1.83s\n",
      "27:\tlearn: 0.8815534\ttest: 0.7187500\tbest: 0.7540984 (7)\ttotal: 377ms\tremaining: 1.82s\n",
      "28:\tlearn: 0.8841699\ttest: 0.7131783\tbest: 0.7540984 (7)\ttotal: 392ms\tremaining: 1.81s\n",
      "29:\tlearn: 0.8829175\ttest: 0.6929134\tbest: 0.7540984 (7)\ttotal: 406ms\tremaining: 1.8s\n",
      "30:\tlearn: 0.8850575\ttest: 0.6929134\tbest: 0.7540984 (7)\ttotal: 420ms\tremaining: 1.79s\n",
      "31:\tlearn: 0.8871893\ttest: 0.6929134\tbest: 0.7540984 (7)\ttotal: 433ms\tremaining: 1.77s\n",
      "32:\tlearn: 0.8871893\ttest: 0.7086614\tbest: 0.7540984 (7)\ttotal: 447ms\tremaining: 1.76s\n",
      "33:\tlearn: 0.8931298\ttest: 0.7086614\tbest: 0.7540984 (7)\ttotal: 460ms\tremaining: 1.75s\n",
      "34:\tlearn: 0.8905950\ttest: 0.7286822\tbest: 0.7540984 (7)\ttotal: 474ms\tremaining: 1.74s\n",
      "35:\tlearn: 0.8948375\ttest: 0.7286822\tbest: 0.7540984 (7)\ttotal: 488ms\tremaining: 1.72s\n",
      "36:\tlearn: 0.8923077\ttest: 0.7384615\tbest: 0.7540984 (7)\ttotal: 502ms\tremaining: 1.71s\n",
      "37:\tlearn: 0.8923077\ttest: 0.7286822\tbest: 0.7540984 (7)\ttotal: 515ms\tremaining: 1.69s\n",
      "38:\tlearn: 0.8905950\ttest: 0.7441860\tbest: 0.7540984 (7)\ttotal: 528ms\tremaining: 1.68s\n",
      "39:\tlearn: 0.8905950\ttest: 0.7441860\tbest: 0.7540984 (7)\ttotal: 541ms\tremaining: 1.66s\n",
      "40:\tlearn: 0.8961538\ttest: 0.7244094\tbest: 0.7540984 (7)\ttotal: 555ms\tremaining: 1.65s\n",
      "41:\tlearn: 0.8923077\ttest: 0.7343750\tbest: 0.7540984 (7)\ttotal: 568ms\tremaining: 1.64s\n",
      "42:\tlearn: 0.8901734\ttest: 0.7040000\tbest: 0.7540984 (7)\ttotal: 581ms\tremaining: 1.62s\n",
      "43:\tlearn: 0.8901734\ttest: 0.7040000\tbest: 0.7540984 (7)\ttotal: 594ms\tremaining: 1.61s\n",
      "44:\tlearn: 0.8961538\ttest: 0.7040000\tbest: 0.7540984 (7)\ttotal: 607ms\tremaining: 1.59s\n",
      "45:\tlearn: 0.8940270\ttest: 0.7040000\tbest: 0.7540984 (7)\ttotal: 621ms\tremaining: 1.58s\n",
      "46:\tlearn: 0.9003831\ttest: 0.7343750\tbest: 0.7540984 (7)\ttotal: 635ms\tremaining: 1.57s\n",
      "47:\tlearn: 0.9003831\ttest: 0.7343750\tbest: 0.7540984 (7)\ttotal: 648ms\tremaining: 1.55s\n",
      "48:\tlearn: 0.9038462\ttest: 0.7244094\tbest: 0.7540984 (7)\ttotal: 661ms\tremaining: 1.54s\n",
      "49:\tlearn: 0.9021113\ttest: 0.7244094\tbest: 0.7540984 (7)\ttotal: 674ms\tremaining: 1.52s\n",
      "50:\tlearn: 0.9045802\ttest: 0.7244094\tbest: 0.7540984 (7)\ttotal: 687ms\tremaining: 1.51s\n",
      "51:\tlearn: 0.9042146\ttest: 0.7343750\tbest: 0.7540984 (7)\ttotal: 700ms\tremaining: 1.5s\n",
      "52:\tlearn: 0.9042146\ttest: 0.7343750\tbest: 0.7540984 (7)\ttotal: 713ms\tremaining: 1.48s\n",
      "53:\tlearn: 0.9042146\ttest: 0.7343750\tbest: 0.7540984 (7)\ttotal: 726ms\tremaining: 1.47s\n",
      "54:\tlearn: 0.9080460\ttest: 0.7040000\tbest: 0.7540984 (7)\ttotal: 739ms\tremaining: 1.45s\n",
      "55:\tlearn: 0.9080460\ttest: 0.7040000\tbest: 0.7540984 (7)\ttotal: 752ms\tremaining: 1.44s\n",
      "56:\tlearn: 0.9080460\ttest: 0.7040000\tbest: 0.7540984 (7)\ttotal: 766ms\tremaining: 1.42s\n",
      "57:\tlearn: 0.9059501\ttest: 0.7040000\tbest: 0.7540984 (7)\ttotal: 778ms\tremaining: 1.41s\n",
      "58:\tlearn: 0.9055877\ttest: 0.7096774\tbest: 0.7540984 (7)\ttotal: 792ms\tremaining: 1.4s\n",
      "59:\tlearn: 0.9055877\ttest: 0.7154472\tbest: 0.7540984 (7)\ttotal: 805ms\tremaining: 1.38s\n",
      "60:\tlearn: 0.9076923\ttest: 0.7096774\tbest: 0.7540984 (7)\ttotal: 818ms\tremaining: 1.37s\n",
      "61:\tlearn: 0.9115385\ttest: 0.7154472\tbest: 0.7540984 (7)\ttotal: 830ms\tremaining: 1.35s\n",
      "62:\tlearn: 0.9115385\ttest: 0.7154472\tbest: 0.7540984 (7)\ttotal: 843ms\tremaining: 1.34s\n",
      "63:\tlearn: 0.9136276\ttest: 0.7096774\tbest: 0.7540984 (7)\ttotal: 857ms\tremaining: 1.33s\n",
      "64:\tlearn: 0.9136276\ttest: 0.7154472\tbest: 0.7540984 (7)\ttotal: 871ms\tremaining: 1.31s\n",
      "65:\tlearn: 0.9174664\ttest: 0.7258065\tbest: 0.7540984 (7)\ttotal: 883ms\tremaining: 1.3s\n",
      "66:\tlearn: 0.9177820\ttest: 0.7258065\tbest: 0.7540984 (7)\ttotal: 896ms\tremaining: 1.28s\n",
      "67:\tlearn: 0.9239544\ttest: 0.7154472\tbest: 0.7540984 (7)\ttotal: 908ms\tremaining: 1.27s\n",
      "68:\tlearn: 0.9219048\ttest: 0.7096774\tbest: 0.7540984 (7)\ttotal: 921ms\tremaining: 1.25s\n",
      "69:\tlearn: 0.9198473\ttest: 0.7213115\tbest: 0.7540984 (7)\ttotal: 934ms\tremaining: 1.24s\n",
      "70:\tlearn: 0.9239544\ttest: 0.7154472\tbest: 0.7540984 (7)\ttotal: 948ms\tremaining: 1.23s\n",
      "71:\tlearn: 0.9259962\ttest: 0.7272727\tbest: 0.7540984 (7)\ttotal: 961ms\tremaining: 1.21s\n",
      "72:\tlearn: 0.9239544\ttest: 0.7213115\tbest: 0.7540984 (7)\ttotal: 973ms\tremaining: 1.2s\n",
      "73:\tlearn: 0.9259962\ttest: 0.7107438\tbest: 0.7540984 (7)\ttotal: 987ms\tremaining: 1.19s\n",
      "74:\tlearn: 0.9259962\ttest: 0.7213115\tbest: 0.7540984 (7)\ttotal: 1s\tremaining: 1.18s\n",
      "75:\tlearn: 0.9280303\ttest: 0.7166667\tbest: 0.7540984 (7)\ttotal: 1.02s\tremaining: 1.17s\n",
      "76:\tlearn: 0.9259962\ttest: 0.7166667\tbest: 0.7540984 (7)\ttotal: 1.03s\tremaining: 1.15s\n",
      "77:\tlearn: 0.9303202\ttest: 0.7272727\tbest: 0.7540984 (7)\ttotal: 1.04s\tremaining: 1.14s\n",
      "78:\tlearn: 0.9303202\ttest: 0.7377049\tbest: 0.7540984 (7)\ttotal: 1.06s\tremaining: 1.13s\n",
      "79:\tlearn: 0.9323308\ttest: 0.7377049\tbest: 0.7540984 (7)\ttotal: 1.07s\tremaining: 1.11s\n",
      "80:\tlearn: 0.9363296\ttest: 0.7377049\tbest: 0.7540984 (7)\ttotal: 1.08s\tremaining: 1.1s\n",
      "81:\tlearn: 0.9343340\ttest: 0.7377049\tbest: 0.7540984 (7)\ttotal: 1.1s\tremaining: 1.08s\n",
      "82:\tlearn: 0.9360902\ttest: 0.7272727\tbest: 0.7540984 (7)\ttotal: 1.11s\tremaining: 1.07s\n",
      "83:\tlearn: 0.9380863\ttest: 0.7213115\tbest: 0.7540984 (7)\ttotal: 1.12s\tremaining: 1.06s\n",
      "84:\tlearn: 0.9380863\ttest: 0.7213115\tbest: 0.7540984 (7)\ttotal: 1.14s\tremaining: 1.04s\n",
      "85:\tlearn: 0.9360902\ttest: 0.7107438\tbest: 0.7540984 (7)\ttotal: 1.15s\tremaining: 1.03s\n",
      "86:\tlearn: 0.9340866\ttest: 0.7107438\tbest: 0.7540984 (7)\ttotal: 1.16s\tremaining: 1.02s\n",
      "87:\tlearn: 0.9360902\ttest: 0.7107438\tbest: 0.7540984 (7)\ttotal: 1.18s\tremaining: 1s\n",
      "88:\tlearn: 0.9360902\ttest: 0.7049180\tbest: 0.7540984 (7)\ttotal: 1.19s\tremaining: 990ms\n",
      "89:\tlearn: 0.9360902\ttest: 0.6991870\tbest: 0.7540984 (7)\ttotal: 1.2s\tremaining: 976ms\n",
      "90:\tlearn: 0.9380863\ttest: 0.6991870\tbest: 0.7540984 (7)\ttotal: 1.22s\tremaining: 964ms\n",
      "91:\tlearn: 0.9400749\ttest: 0.6991870\tbest: 0.7540984 (7)\ttotal: 1.23s\tremaining: 951ms\n",
      "92:\tlearn: 0.9418386\ttest: 0.6991870\tbest: 0.7540984 (7)\ttotal: 1.25s\tremaining: 939ms\n",
      "93:\tlearn: 0.9418386\ttest: 0.7049180\tbest: 0.7540984 (7)\ttotal: 1.26s\tremaining: 926ms\n",
      "94:\tlearn: 0.9418386\ttest: 0.6991870\tbest: 0.7540984 (7)\ttotal: 1.27s\tremaining: 912ms\n",
      "95:\tlearn: 0.9418386\ttest: 0.6935484\tbest: 0.7540984 (7)\ttotal: 1.29s\tremaining: 899ms\n",
      "96:\tlearn: 0.9418386\ttest: 0.6991870\tbest: 0.7540984 (7)\ttotal: 1.3s\tremaining: 885ms\n",
      "97:\tlearn: 0.9418386\ttest: 0.6880000\tbest: 0.7540984 (7)\ttotal: 1.31s\tremaining: 872ms\n",
      "98:\tlearn: 0.9416196\ttest: 0.6991870\tbest: 0.7540984 (7)\ttotal: 1.33s\tremaining: 858ms\n",
      "99:\tlearn: 0.9416196\ttest: 0.6935484\tbest: 0.7540984 (7)\ttotal: 1.34s\tremaining: 845ms\n",
      "100:\tlearn: 0.9453861\ttest: 0.6935484\tbest: 0.7540984 (7)\ttotal: 1.35s\tremaining: 831ms\n",
      "101:\tlearn: 0.9453861\ttest: 0.6880000\tbest: 0.7540984 (7)\ttotal: 1.37s\tremaining: 818ms\n",
      "102:\tlearn: 0.9493433\ttest: 0.6825397\tbest: 0.7540984 (7)\ttotal: 1.38s\tremaining: 804ms\n",
      "103:\tlearn: 0.9495327\ttest: 0.6825397\tbest: 0.7540984 (7)\ttotal: 1.39s\tremaining: 791ms\n",
      "104:\tlearn: 0.9495327\ttest: 0.6825397\tbest: 0.7540984 (7)\ttotal: 1.41s\tremaining: 777ms\n",
      "105:\tlearn: 0.9495327\ttest: 0.6825397\tbest: 0.7540984 (7)\ttotal: 1.42s\tremaining: 763ms\n",
      "106:\tlearn: 0.9495327\ttest: 0.6825397\tbest: 0.7540984 (7)\ttotal: 1.43s\tremaining: 749ms\n",
      "107:\tlearn: 0.9513109\ttest: 0.6880000\tbest: 0.7540984 (7)\ttotal: 1.44s\tremaining: 736ms\n",
      "108:\tlearn: 0.9513109\ttest: 0.6880000\tbest: 0.7540984 (7)\ttotal: 1.46s\tremaining: 722ms\n",
      "109:\tlearn: 0.9513109\ttest: 0.6991870\tbest: 0.7540984 (7)\ttotal: 1.47s\tremaining: 709ms\n",
      "110:\tlearn: 0.9532710\ttest: 0.6991870\tbest: 0.7540984 (7)\ttotal: 1.49s\tremaining: 696ms\n",
      "111:\tlearn: 0.9532710\ttest: 0.6991870\tbest: 0.7540984 (7)\ttotal: 1.5s\tremaining: 682ms\n",
      "112:\tlearn: 0.9532710\ttest: 0.6991870\tbest: 0.7540984 (7)\ttotal: 1.51s\tremaining: 668ms\n",
      "113:\tlearn: 0.9532710\ttest: 0.6991870\tbest: 0.7540984 (7)\ttotal: 1.52s\tremaining: 655ms\n",
      "114:\tlearn: 0.9532710\ttest: 0.6935484\tbest: 0.7540984 (7)\ttotal: 1.54s\tremaining: 641ms\n",
      "115:\tlearn: 0.9532710\ttest: 0.6991870\tbest: 0.7540984 (7)\ttotal: 1.55s\tremaining: 628ms\n",
      "116:\tlearn: 0.9552239\ttest: 0.6880000\tbest: 0.7540984 (7)\ttotal: 1.56s\tremaining: 614ms\n",
      "117:\tlearn: 0.9532710\ttest: 0.6935484\tbest: 0.7540984 (7)\ttotal: 1.58s\tremaining: 601ms\n",
      "118:\tlearn: 0.9532710\ttest: 0.6935484\tbest: 0.7540984 (7)\ttotal: 1.59s\tremaining: 588ms\n",
      "119:\tlearn: 0.9532710\ttest: 0.6935484\tbest: 0.7540984 (7)\ttotal: 1.6s\tremaining: 575ms\n",
      "120:\tlearn: 0.9532710\ttest: 0.6935484\tbest: 0.7540984 (7)\ttotal: 1.62s\tremaining: 562ms\n",
      "121:\tlearn: 0.9532710\ttest: 0.6935484\tbest: 0.7540984 (7)\ttotal: 1.63s\tremaining: 549ms\n",
      "122:\tlearn: 0.9532710\ttest: 0.6935484\tbest: 0.7540984 (7)\ttotal: 1.65s\tremaining: 535ms\n",
      "123:\tlearn: 0.9552239\ttest: 0.6935484\tbest: 0.7540984 (7)\ttotal: 1.66s\tremaining: 522ms\n",
      "124:\tlearn: 0.9552239\ttest: 0.6935484\tbest: 0.7540984 (7)\ttotal: 1.67s\tremaining: 509ms\n",
      "125:\tlearn: 0.9552239\ttest: 0.6991870\tbest: 0.7540984 (7)\ttotal: 1.69s\tremaining: 496ms\n",
      "126:\tlearn: 0.9552239\ttest: 0.6991870\tbest: 0.7540984 (7)\ttotal: 1.7s\tremaining: 483ms\n",
      "127:\tlearn: 0.9552239\ttest: 0.6991870\tbest: 0.7540984 (7)\ttotal: 1.72s\tremaining: 469ms\n",
      "128:\tlearn: 0.9552239\ttest: 0.6991870\tbest: 0.7540984 (7)\ttotal: 1.73s\tremaining: 456ms\n",
      "129:\tlearn: 0.9552239\ttest: 0.6991870\tbest: 0.7540984 (7)\ttotal: 1.74s\tremaining: 442ms\n",
      "130:\tlearn: 0.9571695\ttest: 0.6991870\tbest: 0.7540984 (7)\ttotal: 1.76s\tremaining: 429ms\n",
      "131:\tlearn: 0.9571695\ttest: 0.6991870\tbest: 0.7540984 (7)\ttotal: 1.77s\tremaining: 416ms\n",
      "132:\tlearn: 0.9571695\ttest: 0.6991870\tbest: 0.7540984 (7)\ttotal: 1.78s\tremaining: 403ms\n",
      "133:\tlearn: 0.9591078\ttest: 0.6991870\tbest: 0.7540984 (7)\ttotal: 1.8s\tremaining: 389ms\n",
      "134:\tlearn: 0.9591078\ttest: 0.6935484\tbest: 0.7540984 (7)\ttotal: 1.81s\tremaining: 376ms\n",
      "135:\tlearn: 0.9552239\ttest: 0.6935484\tbest: 0.7540984 (7)\ttotal: 1.82s\tremaining: 362ms\n",
      "136:\tlearn: 0.9571695\ttest: 0.6935484\tbest: 0.7540984 (7)\ttotal: 1.84s\tremaining: 349ms\n",
      "137:\tlearn: 0.9571695\ttest: 0.6935484\tbest: 0.7540984 (7)\ttotal: 1.85s\tremaining: 335ms\n",
      "138:\tlearn: 0.9571695\ttest: 0.6991870\tbest: 0.7540984 (7)\ttotal: 1.86s\tremaining: 322ms\n",
      "139:\tlearn: 0.9552239\ttest: 0.6991870\tbest: 0.7540984 (7)\ttotal: 1.88s\tremaining: 308ms\n",
      "140:\tlearn: 0.9571695\ttest: 0.6935484\tbest: 0.7540984 (7)\ttotal: 1.89s\tremaining: 295ms\n",
      "141:\tlearn: 0.9571695\ttest: 0.6935484\tbest: 0.7540984 (7)\ttotal: 1.9s\tremaining: 281ms\n",
      "142:\tlearn: 0.9571695\ttest: 0.7040000\tbest: 0.7540984 (7)\ttotal: 1.92s\tremaining: 268ms\n",
      "143:\tlearn: 0.9591078\ttest: 0.7096774\tbest: 0.7540984 (7)\ttotal: 1.93s\tremaining: 254ms\n",
      "144:\tlearn: 0.9571695\ttest: 0.7096774\tbest: 0.7540984 (7)\ttotal: 1.94s\tremaining: 241ms\n",
      "145:\tlearn: 0.9571695\ttest: 0.7096774\tbest: 0.7540984 (7)\ttotal: 1.95s\tremaining: 228ms\n",
      "146:\tlearn: 0.9571695\ttest: 0.7096774\tbest: 0.7540984 (7)\ttotal: 1.97s\tremaining: 214ms\n",
      "147:\tlearn: 0.9571695\ttest: 0.7096774\tbest: 0.7540984 (7)\ttotal: 1.98s\tremaining: 201ms\n",
      "148:\tlearn: 0.9591078\ttest: 0.7154472\tbest: 0.7540984 (7)\ttotal: 1.99s\tremaining: 187ms\n",
      "149:\tlearn: 0.9610390\ttest: 0.7154472\tbest: 0.7540984 (7)\ttotal: 2.01s\tremaining: 174ms\n",
      "150:\tlearn: 0.9628253\ttest: 0.7154472\tbest: 0.7540984 (7)\ttotal: 2.02s\tremaining: 161ms\n",
      "151:\tlearn: 0.9628253\ttest: 0.7154472\tbest: 0.7540984 (7)\ttotal: 2.03s\tremaining: 147ms\n",
      "152:\tlearn: 0.9628253\ttest: 0.7154472\tbest: 0.7540984 (7)\ttotal: 2.05s\tremaining: 134ms\n",
      "153:\tlearn: 0.9628253\ttest: 0.7154472\tbest: 0.7540984 (7)\ttotal: 2.06s\tremaining: 120ms\n",
      "154:\tlearn: 0.9628253\ttest: 0.7154472\tbest: 0.7540984 (7)\ttotal: 2.07s\tremaining: 107ms\n",
      "155:\tlearn: 0.9628253\ttest: 0.7154472\tbest: 0.7540984 (7)\ttotal: 2.08s\tremaining: 93.6ms\n",
      "156:\tlearn: 0.9628253\ttest: 0.7154472\tbest: 0.7540984 (7)\ttotal: 2.1s\tremaining: 80.2ms\n",
      "157:\tlearn: 0.9628253\ttest: 0.7154472\tbest: 0.7540984 (7)\ttotal: 2.11s\tremaining: 66.8ms\n",
      "158:\tlearn: 0.9628253\ttest: 0.7154472\tbest: 0.7540984 (7)\ttotal: 2.12s\tremaining: 53.4ms\n",
      "159:\tlearn: 0.9628253\ttest: 0.7258065\tbest: 0.7540984 (7)\ttotal: 2.14s\tremaining: 40.1ms\n",
      "160:\tlearn: 0.9628253\ttest: 0.7258065\tbest: 0.7540984 (7)\ttotal: 2.15s\tremaining: 26.7ms\n",
      "161:\tlearn: 0.9666667\ttest: 0.7258065\tbest: 0.7540984 (7)\ttotal: 2.16s\tremaining: 13.4ms\n",
      "162:\tlearn: 0.9666667\ttest: 0.7258065\tbest: 0.7540984 (7)\ttotal: 2.18s\tremaining: 0us\n",
      "\n",
      "bestTest = 0.7540983607\n",
      "bestIteration = 7\n",
      "\n"
     ]
    }
   ],
   "source": [
    "params[\"eval_metric\"] = \"F1\"\n",
    "params[\"loss_function\"] = \"Logloss\"\n",
    "\n",
    "model = CatBoostClassifier(\n",
    "    **params,\n",
    "    verbose=True\n",
    ")\n",
    "\n",
    "data = Pool(X_train, y_train, cat_features=categorical_indices)\n",
    "\n",
    "cv_results = cv(\n",
    "    params=params,\n",
    "    pool=data,\n",
    "    fold_count=5,\n",
    "    partition_random_seed=42,\n",
    "    shuffle=True,\n",
    ")\n",
    "\n",
    "cv_results.to_csv(outfolder / \"cv_results_v2.csv\", index=False)"
   ]
  },
  {
   "cell_type": "markdown",
   "id": "9c2f4247-6cbf-4528-ba59-bf4f375dad64",
   "metadata": {
    "editable": false,
    "slideshow": {
     "slide_type": "slide"
    },
    "tags": []
   },
   "source": [
    "And get the performance plots:"
   ]
  },
  {
   "cell_type": "code",
   "execution_count": 12,
   "id": "d9ccf0db-b9f1-4d33-a3a2-8136c6df261d",
   "metadata": {
    "editable": true,
    "slideshow": {
     "slide_type": "subslide"
    },
    "tags": []
   },
   "outputs": [
    {
     "data": {
      "application/vnd.plotly.v1+json": {
       "config": {
        "plotlyServerURL": "https://plot.ly"
       },
       "data": [
        {
         "line": {
          "color": "blue"
         },
         "mode": "lines",
         "name": "Mean F1 Score",
         "type": "scatter",
         "x": {
          "bdata": "AAABAAIAAwAEAAUABgAHAAgACQAKAAsADAANAA4ADwAQABEAEgATABQAFQAWABcAGAAZABoAGwAcAB0AHgAfACAAIQAiACMAJAAlACYAJwAoACkAKgArACwALQAuAC8AMAAxADIAMwA0ADUANgA3ADgAOQA6ADsAPAA9AD4APwBAAEEAQgBDAEQARQBGAEcASABJAEoASwBMAE0ATgBPAFAAUQBSAFMAVABVAFYAVwBYAFkAWgBbAFwAXQBeAF8AYABhAGIAYwBkAGUAZgBnAGgAaQBqAGsAbABtAG4AbwBwAHEAcgBzAHQAdQB2AHcAeAB5AHoAewB8AH0AfgB/AIAAgQCCAIMAhACFAIYAhwCIAIkAigCLAIwAjQCOAI8AkACRAJIAkwCUAJUAlgCXAJgAmQCaAJsAnACdAJ4AnwCgAKEAogA=",
          "dtype": "i2"
         },
         "y": {
          "bdata": "Y7l2fMjB5z8Z4WC8iqTnP+1szMgCwuc/UbH4rye/5z/XTx+bVK/nPx80TuXjqec/gQHgOra95z+Kd1zvh7fnP0PpiEyvluc/vRib0MSZ5z/wmxtPf6PnP8LOsfGn3+c/8d/u7IXp5z/8Nfbdp/HnP7FtQ/BU+Oc/QAgGc//15z/V2IQz2ZnnP8SYXYqqxuc/inUo9qHG5z+1WZ08TMfnP9PCOahZ4uc/o+BwxPbp5z+Ej9LGp5LnP9tqRQaBxuc/DapGlG6d5z/aNYVoj9LnP9o1hWiP0uc/jpzFf8fX5z/KflQ468XnP1JFcNtBw+c/3ENfQxq65z/PQng/lMznP8hl0OHDzuc/7ui3NOMF6D/a5pjawRXoPwQGdxAp++c/eIAZ1C4L6D/a5pjawRXoP4RNObF0OOg/FtqXQGNH6D+0y0vAXBjoP/LQNJuwKOg/MJ+c6cb55z8il2OLTv/nP4v/SjLV9ec/4LBubH7H5z/d8/1gjRvoPzBiJR1N7Oc/J5JD+B0V6D8mzYa7OLbnP07T/Pabsuc/7lGCeG7h5z8LR2NPwPDnP0NaZMfzAeg/I6bIBhTa5z9+Dbm93cDnP34Nub3dwOc/U57pjiHk5z9wWJ5Q8+znP14BgkHU9ec/iJ7e/vPn5z+nqIyKc9nnP6eojIpz2ec/BUOXwTvy5z+G+qU5J/PnPx8TPsOoDOg/l4q1OiAE6D9x7qTKMOnnP+82llJF6Oc/NfvX/1T75z9x7qTKMOnnP5KNLQ2wDug/tUt/ZasO6D9i8RFYbu3nP9mzkisKyuc/6Bj2pwbY5z/NJm/r5OjnPzI8k4SU+ec/xkL+04n55z+zOQC9fvrnPxpoSQEc++c/iEOLpPry5z+YDxC1tdHnP++mRklhuOc/76ZGSWG45z/NGFcjK6DnP900895jluc/sw2jrU+b5z+t1HcsxJHnP9z+WJF9gec/7ip372mZ5z/cGWbeWIjnP9wZZt5YiOc/qkLQEMd/5z+2H/xaMIfnP72tH2XUc+c/PBhMPldu5z8tgvkv9WLnP5ZhS8+0Yec/GAQdITpJ5z+9b2xi9D/nPw0CuNhIUuc/tnzl/YlY5z/1gc7Y3WjnP11n9V40V+c/o/7uU3OB5z/gk9cSx4rnP2szNFSclec/azM0VJyV5z/OOWiLA7jnP3GBEtsUp+c/cYES2xSn5z94ZbPSs53nP9L201Hnm+c/6M1yuauc5z/quWXCSa/nPyJNyyR8puc/4unRwQym5z/64v3scrDnPyoA1NYsqOc/qwsbAOWY5z/NR34mPpfnP81HfiY+l+c/AtqWzkmm5z8C2pbOSabnP9YXEid7oOc/hOJ9tru35z83RaqVu8jnPyTIb0gs4ec/JMhvSCzh5z+wOtWa7tHnP7A61Zru0ec//deou+7A5z+wOtWa7tHnPwvpxsERv+c/pmpBmrHI5z9inhaHGNHnP9UrsTRW4Oc/VDEZcO685z/cuaH4dsXnP9PpDfg5vOc/0+kN+Dm85z/u0HGxWc3nP2UxLHEezuc/ZTEscR7O5z/i0V8bUdjnP2UxLHEezuc/ZTEscR7O5z/2+Uv6GuDnP/b5S/oa4Oc/bnHDcZLX5z+1Pe6EK8/nP5OIRdqK5uc/H+4j9/H55z9w89fa7+rnP2a6TgqL8ec/tr8C7oji5z+odqx/egLoP7iSSDuz+Oc/pAvW07P65z/JSsasu+HnP8lKxqy74ec/yUrGrLvh5z8=",
          "dtype": "f8"
         }
        },
        {
         "fill": "toself",
         "fillcolor": "rgba(0, 0, 255, 0.2)",
         "line": {
          "color": "rgba(255, 255, 255, 0)"
         },
         "showlegend": false,
         "type": "scatter",
         "x": {
          "bdata": "AAABAAIAAwAEAAUABgAHAAgACQAKAAsADAANAA4ADwAQABEAEgATABQAFQAWABcAGAAZABoAGwAcAB0AHgAfACAAIQAiACMAJAAlACYAJwAoACkAKgArACwALQAuAC8AMAAxADIAMwA0ADUANgA3ADgAOQA6ADsAPAA9AD4APwBAAEEAQgBDAEQARQBGAEcASABJAEoASwBMAE0ATgBPAFAAUQBSAFMAVABVAFYAVwBYAFkAWgBbAFwAXQBeAF8AYABhAGIAYwBkAGUAZgBnAGgAaQBqAGsAbABtAG4AbwBwAHEAcgBzAHQAdQB2AHcAeAB5AHoAewB8AH0AfgB/AIAAgQCCAIMAhACFAIYAhwCIAIkAigCLAIwAjQCOAI8AkACRAJIAkwCUAJUAlgCXAJgAmQCaAJsAnACdAJ4AnwCgAKEAogCiAKEAoACfAJ4AnQCcAJsAmgCZAJgAlwCWAJUAlACTAJIAkQCQAI8AjgCNAIwAiwCKAIkAiACHAIYAhQCEAIMAggCBAIAAfwB+AH0AfAB7AHoAeQB4AHcAdgB1AHQAcwByAHEAcABvAG4AbQBsAGsAagBpAGgAZwBmAGUAZABjAGIAYQBgAF8AXgBdAFwAWwBaAFkAWABXAFYAVQBUAFMAUgBRAFAATwBOAE0ATABLAEoASQBIAEcARgBFAEQAQwBCAEEAQAA/AD4APQA8ADsAOgA5ADgANwA2ADUANAAzADIAMQAwAC8ALgAtACwAKwAqACkAKAAnACYAJQAkACMAIgAhACAAHwAeAB0AHAAbABoAGQAYABcAFgAVABQAEwASABEAEAAPAA4ADQAMAAsACgAJAAgABwAGAAUABAADAAIAAQAAAA==",
          "dtype": "i2"
         },
         "y": {
          "bdata": "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",
          "dtype": "f8"
         }
        }
       ],
       "layout": {
        "template": {
         "data": {
          "bar": [
           {
            "error_x": {
             "color": "#2a3f5f"
            },
            "error_y": {
             "color": "#2a3f5f"
            },
            "marker": {
             "line": {
              "color": "white",
              "width": 0.5
             },
             "pattern": {
              "fillmode": "overlay",
              "size": 10,
              "solidity": 0.2
             }
            },
            "type": "bar"
           }
          ],
          "barpolar": [
           {
            "marker": {
             "line": {
              "color": "white",
              "width": 0.5
             },
             "pattern": {
              "fillmode": "overlay",
              "size": 10,
              "solidity": 0.2
             }
            },
            "type": "barpolar"
           }
          ],
          "carpet": [
           {
            "aaxis": {
             "endlinecolor": "#2a3f5f",
             "gridcolor": "#C8D4E3",
             "linecolor": "#C8D4E3",
             "minorgridcolor": "#C8D4E3",
             "startlinecolor": "#2a3f5f"
            },
            "baxis": {
             "endlinecolor": "#2a3f5f",
             "gridcolor": "#C8D4E3",
             "linecolor": "#C8D4E3",
             "minorgridcolor": "#C8D4E3",
             "startlinecolor": "#2a3f5f"
            },
            "type": "carpet"
           }
          ],
          "choropleth": [
           {
            "colorbar": {
             "outlinewidth": 0,
             "ticks": ""
            },
            "type": "choropleth"
           }
          ],
          "contour": [
           {
            "colorbar": {
             "outlinewidth": 0,
             "ticks": ""
            },
            "colorscale": [
             [
              0,
              "#0d0887"
             ],
             [
              0.1111111111111111,
              "#46039f"
             ],
             [
              0.2222222222222222,
              "#7201a8"
             ],
             [
              0.3333333333333333,
              "#9c179e"
             ],
             [
              0.4444444444444444,
              "#bd3786"
             ],
             [
              0.5555555555555556,
              "#d8576b"
             ],
             [
              0.6666666666666666,
              "#ed7953"
             ],
             [
              0.7777777777777778,
              "#fb9f3a"
             ],
             [
              0.8888888888888888,
              "#fdca26"
             ],
             [
              1,
              "#f0f921"
             ]
            ],
            "type": "contour"
           }
          ],
          "contourcarpet": [
           {
            "colorbar": {
             "outlinewidth": 0,
             "ticks": ""
            },
            "type": "contourcarpet"
           }
          ],
          "heatmap": [
           {
            "colorbar": {
             "outlinewidth": 0,
             "ticks": ""
            },
            "colorscale": [
             [
              0,
              "#0d0887"
             ],
             [
              0.1111111111111111,
              "#46039f"
             ],
             [
              0.2222222222222222,
              "#7201a8"
             ],
             [
              0.3333333333333333,
              "#9c179e"
             ],
             [
              0.4444444444444444,
              "#bd3786"
             ],
             [
              0.5555555555555556,
              "#d8576b"
             ],
             [
              0.6666666666666666,
              "#ed7953"
             ],
             [
              0.7777777777777778,
              "#fb9f3a"
             ],
             [
              0.8888888888888888,
              "#fdca26"
             ],
             [
              1,
              "#f0f921"
             ]
            ],
            "type": "heatmap"
           }
          ],
          "histogram": [
           {
            "marker": {
             "pattern": {
              "fillmode": "overlay",
              "size": 10,
              "solidity": 0.2
             }
            },
            "type": "histogram"
           }
          ],
          "histogram2d": [
           {
            "colorbar": {
             "outlinewidth": 0,
             "ticks": ""
            },
            "colorscale": [
             [
              0,
              "#0d0887"
             ],
             [
              0.1111111111111111,
              "#46039f"
             ],
             [
              0.2222222222222222,
              "#7201a8"
             ],
             [
              0.3333333333333333,
              "#9c179e"
             ],
             [
              0.4444444444444444,
              "#bd3786"
             ],
             [
              0.5555555555555556,
              "#d8576b"
             ],
             [
              0.6666666666666666,
              "#ed7953"
             ],
             [
              0.7777777777777778,
              "#fb9f3a"
             ],
             [
              0.8888888888888888,
              "#fdca26"
             ],
             [
              1,
              "#f0f921"
             ]
            ],
            "type": "histogram2d"
           }
          ],
          "histogram2dcontour": [
           {
            "colorbar": {
             "outlinewidth": 0,
             "ticks": ""
            },
            "colorscale": [
             [
              0,
              "#0d0887"
             ],
             [
              0.1111111111111111,
              "#46039f"
             ],
             [
              0.2222222222222222,
              "#7201a8"
             ],
             [
              0.3333333333333333,
              "#9c179e"
             ],
             [
              0.4444444444444444,
              "#bd3786"
             ],
             [
              0.5555555555555556,
              "#d8576b"
             ],
             [
              0.6666666666666666,
              "#ed7953"
             ],
             [
              0.7777777777777778,
              "#fb9f3a"
             ],
             [
              0.8888888888888888,
              "#fdca26"
             ],
             [
              1,
              "#f0f921"
             ]
            ],
            "type": "histogram2dcontour"
           }
          ],
          "mesh3d": [
           {
            "colorbar": {
             "outlinewidth": 0,
             "ticks": ""
            },
            "type": "mesh3d"
           }
          ],
          "parcoords": [
           {
            "line": {
             "colorbar": {
              "outlinewidth": 0,
              "ticks": ""
             }
            },
            "type": "parcoords"
           }
          ],
          "pie": [
           {
            "automargin": true,
            "type": "pie"
           }
          ],
          "scatter": [
           {
            "fillpattern": {
             "fillmode": "overlay",
             "size": 10,
             "solidity": 0.2
            },
            "type": "scatter"
           }
          ],
          "scatter3d": [
           {
            "line": {
             "colorbar": {
              "outlinewidth": 0,
              "ticks": ""
             }
            },
            "marker": {
             "colorbar": {
              "outlinewidth": 0,
              "ticks": ""
             }
            },
            "type": "scatter3d"
           }
          ],
          "scattercarpet": [
           {
            "marker": {
             "colorbar": {
              "outlinewidth": 0,
              "ticks": ""
             }
            },
            "type": "scattercarpet"
           }
          ],
          "scattergeo": [
           {
            "marker": {
             "colorbar": {
              "outlinewidth": 0,
              "ticks": ""
             }
            },
            "type": "scattergeo"
           }
          ],
          "scattergl": [
           {
            "marker": {
             "colorbar": {
              "outlinewidth": 0,
              "ticks": ""
             }
            },
            "type": "scattergl"
           }
          ],
          "scattermap": [
           {
            "marker": {
             "colorbar": {
              "outlinewidth": 0,
              "ticks": ""
             }
            },
            "type": "scattermap"
           }
          ],
          "scattermapbox": [
           {
            "marker": {
             "colorbar": {
              "outlinewidth": 0,
              "ticks": ""
             }
            },
            "type": "scattermapbox"
           }
          ],
          "scatterpolar": [
           {
            "marker": {
             "colorbar": {
              "outlinewidth": 0,
              "ticks": ""
             }
            },
            "type": "scatterpolar"
           }
          ],
          "scatterpolargl": [
           {
            "marker": {
             "colorbar": {
              "outlinewidth": 0,
              "ticks": ""
             }
            },
            "type": "scatterpolargl"
           }
          ],
          "scatterternary": [
           {
            "marker": {
             "colorbar": {
              "outlinewidth": 0,
              "ticks": ""
             }
            },
            "type": "scatterternary"
           }
          ],
          "surface": [
           {
            "colorbar": {
             "outlinewidth": 0,
             "ticks": ""
            },
            "colorscale": [
             [
              0,
              "#0d0887"
             ],
             [
              0.1111111111111111,
              "#46039f"
             ],
             [
              0.2222222222222222,
              "#7201a8"
             ],
             [
              0.3333333333333333,
              "#9c179e"
             ],
             [
              0.4444444444444444,
              "#bd3786"
             ],
             [
              0.5555555555555556,
              "#d8576b"
             ],
             [
              0.6666666666666666,
              "#ed7953"
             ],
             [
              0.7777777777777778,
              "#fb9f3a"
             ],
             [
              0.8888888888888888,
              "#fdca26"
             ],
             [
              1,
              "#f0f921"
             ]
            ],
            "type": "surface"
           }
          ],
          "table": [
           {
            "cells": {
             "fill": {
              "color": "#EBF0F8"
             },
             "line": {
              "color": "white"
             }
            },
            "header": {
             "fill": {
              "color": "#C8D4E3"
             },
             "line": {
              "color": "white"
             }
            },
            "type": "table"
           }
          ]
         },
         "layout": {
          "annotationdefaults": {
           "arrowcolor": "#2a3f5f",
           "arrowhead": 0,
           "arrowwidth": 1
          },
          "autotypenumbers": "strict",
          "coloraxis": {
           "colorbar": {
            "outlinewidth": 0,
            "ticks": ""
           }
          },
          "colorscale": {
           "diverging": [
            [
             0,
             "#8e0152"
            ],
            [
             0.1,
             "#c51b7d"
            ],
            [
             0.2,
             "#de77ae"
            ],
            [
             0.3,
             "#f1b6da"
            ],
            [
             0.4,
             "#fde0ef"
            ],
            [
             0.5,
             "#f7f7f7"
            ],
            [
             0.6,
             "#e6f5d0"
            ],
            [
             0.7,
             "#b8e186"
            ],
            [
             0.8,
             "#7fbc41"
            ],
            [
             0.9,
             "#4d9221"
            ],
            [
             1,
             "#276419"
            ]
           ],
           "sequential": [
            [
             0,
             "#0d0887"
            ],
            [
             0.1111111111111111,
             "#46039f"
            ],
            [
             0.2222222222222222,
             "#7201a8"
            ],
            [
             0.3333333333333333,
             "#9c179e"
            ],
            [
             0.4444444444444444,
             "#bd3786"
            ],
            [
             0.5555555555555556,
             "#d8576b"
            ],
            [
             0.6666666666666666,
             "#ed7953"
            ],
            [
             0.7777777777777778,
             "#fb9f3a"
            ],
            [
             0.8888888888888888,
             "#fdca26"
            ],
            [
             1,
             "#f0f921"
            ]
           ],
           "sequentialminus": [
            [
             0,
             "#0d0887"
            ],
            [
             0.1111111111111111,
             "#46039f"
            ],
            [
             0.2222222222222222,
             "#7201a8"
            ],
            [
             0.3333333333333333,
             "#9c179e"
            ],
            [
             0.4444444444444444,
             "#bd3786"
            ],
            [
             0.5555555555555556,
             "#d8576b"
            ],
            [
             0.6666666666666666,
             "#ed7953"
            ],
            [
             0.7777777777777778,
             "#fb9f3a"
            ],
            [
             0.8888888888888888,
             "#fdca26"
            ],
            [
             1,
             "#f0f921"
            ]
           ]
          },
          "colorway": [
           "#636efa",
           "#EF553B",
           "#00cc96",
           "#ab63fa",
           "#FFA15A",
           "#19d3f3",
           "#FF6692",
           "#B6E880",
           "#FF97FF",
           "#FECB52"
          ],
          "font": {
           "color": "#2a3f5f"
          },
          "geo": {
           "bgcolor": "white",
           "lakecolor": "white",
           "landcolor": "white",
           "showlakes": true,
           "showland": true,
           "subunitcolor": "#C8D4E3"
          },
          "hoverlabel": {
           "align": "left"
          },
          "hovermode": "closest",
          "mapbox": {
           "style": "light"
          },
          "paper_bgcolor": "white",
          "plot_bgcolor": "white",
          "polar": {
           "angularaxis": {
            "gridcolor": "#EBF0F8",
            "linecolor": "#EBF0F8",
            "ticks": ""
           },
           "bgcolor": "white",
           "radialaxis": {
            "gridcolor": "#EBF0F8",
            "linecolor": "#EBF0F8",
            "ticks": ""
           }
          },
          "scene": {
           "xaxis": {
            "backgroundcolor": "white",
            "gridcolor": "#DFE8F3",
            "gridwidth": 2,
            "linecolor": "#EBF0F8",
            "showbackground": true,
            "ticks": "",
            "zerolinecolor": "#EBF0F8"
           },
           "yaxis": {
            "backgroundcolor": "white",
            "gridcolor": "#DFE8F3",
            "gridwidth": 2,
            "linecolor": "#EBF0F8",
            "showbackground": true,
            "ticks": "",
            "zerolinecolor": "#EBF0F8"
           },
           "zaxis": {
            "backgroundcolor": "white",
            "gridcolor": "#DFE8F3",
            "gridwidth": 2,
            "linecolor": "#EBF0F8",
            "showbackground": true,
            "ticks": "",
            "zerolinecolor": "#EBF0F8"
           }
          },
          "shapedefaults": {
           "line": {
            "color": "#2a3f5f"
           }
          },
          "ternary": {
           "aaxis": {
            "gridcolor": "#DFE8F3",
            "linecolor": "#A2B1C6",
            "ticks": ""
           },
           "baxis": {
            "gridcolor": "#DFE8F3",
            "linecolor": "#A2B1C6",
            "ticks": ""
           },
           "bgcolor": "white",
           "caxis": {
            "gridcolor": "#DFE8F3",
            "linecolor": "#A2B1C6",
            "ticks": ""
           }
          },
          "title": {
           "x": 0.05
          },
          "xaxis": {
           "automargin": true,
           "gridcolor": "#EBF0F8",
           "linecolor": "#EBF0F8",
           "ticks": "",
           "title": {
            "standoff": 15
           },
           "zerolinecolor": "#EBF0F8",
           "zerolinewidth": 2
          },
          "yaxis": {
           "automargin": true,
           "gridcolor": "#EBF0F8",
           "linecolor": "#EBF0F8",
           "ticks": "",
           "title": {
            "standoff": 15
           },
           "zerolinecolor": "#EBF0F8",
           "zerolinewidth": 2
          }
         }
        },
        "title": {
         "text": "Cross-Validation (N=5) Mean F1 score with Error Bands"
        },
        "xaxis": {
         "title": {
          "text": "Training Steps"
         }
        },
        "yaxis": {
         "range": [
          0.5,
          1
         ],
         "title": {
          "text": "Performance Score"
         }
        }
       }
      }
     },
     "metadata": {},
     "output_type": "display_data"
    }
   ],
   "source": [
    "import plotly.graph_objects as go\n",
    "\n",
    "# Create figure\n",
    "fig = go.Figure()\n",
    "\n",
    "# Add mean performance line\n",
    "fig.add_trace(\n",
    "    go.Scatter(\n",
    "        x=cv_results[\"iterations\"], y=cv_results[\"test-F1-mean\"], mode=\"lines\", name=\"Mean F1 Score\", line=dict(color=\"blue\")\n",
    "    )\n",
    ")\n",
    "\n",
    "# Add shaded error region\n",
    "fig.add_trace(\n",
    "    go.Scatter(\n",
    "        x=pd.concat([cv_results[\"iterations\"], cv_results[\"iterations\"][::-1]]),\n",
    "        y=pd.concat([cv_results[\"test-F1-mean\"]+cv_results[\"test-F1-std\"], \n",
    "                     cv_results[\"test-F1-mean\"]-cv_results[\"test-F1-std\"]]),\n",
    "        fill=\"toself\", \n",
    "        fillcolor=\"rgba(0, 0, 255, 0.2)\",\n",
    "        line=dict(color=\"rgba(255, 255, 255, 0)\"),\n",
    "        showlegend=False\n",
    "    )\n",
    ")\n",
    "\n",
    "# Customize layout\n",
    "fig.update_layout(\n",
    "    title=\"Cross-Validation (N=5) Mean F1 score with Error Bands\",\n",
    "    xaxis_title=\"Training Steps\",\n",
    "    yaxis_title=\"Performance Score\",\n",
    "    template=\"plotly_white\",\n",
    "    yaxis=dict(range=[0.5, 1])\n",
    ")\n",
    "\n",
    "fig.show()\n",
    "\n",
    "fig.write_image(outfolder / \"test_f1_v2.png\")"
   ]
  },
  {
   "cell_type": "code",
   "execution_count": 13,
   "id": "a20450e7-7e20-4a96-b855-d10b14fcb10b",
   "metadata": {
    "editable": true,
    "slideshow": {
     "slide_type": "subslide"
    },
    "tags": []
   },
   "outputs": [
    {
     "data": {
      "application/vnd.plotly.v1+json": {
       "config": {
        "plotlyServerURL": "https://plot.ly"
       },
       "data": [
        {
         "line": {
          "color": "blue"
         },
         "mode": "lines",
         "name": "Mean logloss",
         "type": "scatter",
         "x": {
          "bdata": "AAABAAIAAwAEAAUABgAHAAgACQAKAAsADAANAA4ADwAQABEAEgATABQAFQAWABcAGAAZABoAGwAcAB0AHgAfACAAIQAiACMAJAAlACYAJwAoACkAKgArACwALQAuAC8AMAAxADIAMwA0ADUANgA3ADgAOQA6ADsAPAA9AD4APwBAAEEAQgBDAEQARQBGAEcASABJAEoASwBMAE0ATgBPAFAAUQBSAFMAVABVAFYAVwBYAFkAWgBbAFwAXQBeAF8AYABhAGIAYwBkAGUAZgBnAGgAaQBqAGsAbABtAG4AbwBwAHEAcgBzAHQAdQB2AHcAeAB5AHoAewB8AH0AfgB/AIAAgQCCAIMAhACFAIYAhwCIAIkAigCLAIwAjQCOAI8AkACRAJIAkwCUAJUAlgCXAJgAmQCaAJsAnACdAJ4AnwCgAKEAogA=",
          "dtype": "i2"
         },
         "y": {
          "bdata": "ekfauiDM4j8lHFdPWf7gPxt6KQZXqN8/EKlkn97R3T9W2VoXec3cP8p1djGum9w/hrfOM/Ua3D+41En9pzXcPzXXgnE/DNw/Mn+hWdIE3D/uGgyNwu7bPz0OMccS+ds/lnz2Urjo2z8zmRL5ptbbP4MTJZngvds/izksHECl2z9GNTjPh+HbP8vfBzsz7ds/Tdc1P/Hf2z9NGWwck9bbPxDIKTHU59s//Zn6QUTd2z9zL4WXnNTbPwqXAsW25Ns/U5khWYAC3D+iRuirTAHcP9M5MIXA/9s/APSZjGAW3D8QFvRYvSncP4IPA0QEUdw/OtSr6gll3D9zo+O/113cP9XISlqOcNw/CIX6fFN03D9dTCkXdG3cP+o6kc94YNw/W0wzqbFg3D86yV5hbEvcPziKYVbbNtw/dnkm7xw43D/NzfYQhBvcPz42BLzqEtw/5i89JPHz2z+qkmQGN/XbP0ZfX8MaEdw/3SMPghwd3D9Vbu3lYCrcPy7Jp8ozG9w/JWsKxVcg3D9NfgWdDE3cP4NO00EOS9w/WJ96hU1D3D9weWmPFEjcP2M0umoVO9w/naxj+FpQ3D92Zp2Z3GvcPyWgkinld9w/amzFl8l03D/lqEM31pfcPx5xFCTmmtw/KvKZvn/13D8urSFLHfTcP7BnY7OQ+Nw/22quHwLq3D+C5qLHiNPcPxifLq6n59w/pb7ylRru3D+dbB8f4PjcP8gnwKaK3Nw/64GbH17T3D+eDhwcW93cPwNB8M2A2dw/+CAQ0sXi3D/WoN6YoNrcP+XRG/rk4tw/M1HlbN3d3D9uANWDb8jcP2NjdCEM0tw/6BVeTRwG3T+DTOegISbdP8Y825seHN0/ShoBuIwf3T8Nbx/OfRzdPw55XUpdON0/WnIQ9ZEo3T+Awvx4CkXdP9NW/4PPPd0/AOZY33I93T9eLAW8zEvdP2Noa0/2XN0/tQ9cLk9c3T9juF+TKWLdP93vtVFUf90/EBCOFVOX3T94lgu9yaTdP5MPxMbTt90/rZd2rgXG3T9QsjFNx77dP4KHkvUTw90/UF0bQoq73T/u1Nc1VMndP/KkPsrgvd0/taWOA0nE3T/+sE6v2NvdP3pRVZCW4N0/4FF+T4jp3T/+Ev8/DvHdP528+d8ELt4/JYG/qgYp3j9IV2MAWyDeP47XjKIEFN4/JW6v0F8h3j9AvCiQMybePzq7iGc+Pd4/uqztBHxO3j+QYuC8T1LeP0BQ5hnAX94/xfc8wWJk3j+D1+fkuUDeP523TNxWTN4/4D3jktuK3j9tGlbm6qTeP6pDLbKNtN4/5TUJ0xW93j/4EHv80cLeP617eFpty94/BcpYDdTd3j/Yt3uIjebeP9byf7VB4N4/PpeQjBnj3j+tJMjHjAHfPxMUl/1jBN8/UjnhgGIW3z9zNZHP7RbfPyV5HMarDt8/diwFLbYa3z9rwX1E7UzfP2ZOgewlTN8/3c7CL2Jl3z9LBl7RXIDfPzb0a5Z7a98/3llXSYpe3z82rVLPyF3fP+r2QDEeg98/jn2JkoCP3z/YR80dZ5nfP171Chrnqt8/Rkpo9/yv3z86D9H6McXfP+ZHbsNfv98//R9JSc/P3z8drsT7VLrfP92JA6mmtN8/CNkooAOf3z9w431leKDfP11ByBEymt8/wEVrcn6i3z+9mKMDG8DfP+YpAA8M0d8/U8CMvzvN3z/D14INwtrfP7BuBJnx0N8/xq6JXpnR3z8=",
          "dtype": "f8"
         }
        },
        {
         "fill": "toself",
         "fillcolor": "rgba(0, 0, 255, 0.2)",
         "line": {
          "color": "rgba(255, 255, 255, 0)"
         },
         "showlegend": false,
         "type": "scatter",
         "x": {
          "bdata": "AAABAAIAAwAEAAUABgAHAAgACQAKAAsADAANAA4ADwAQABEAEgATABQAFQAWABcAGAAZABoAGwAcAB0AHgAfACAAIQAiACMAJAAlACYAJwAoACkAKgArACwALQAuAC8AMAAxADIAMwA0ADUANgA3ADgAOQA6ADsAPAA9AD4APwBAAEEAQgBDAEQARQBGAEcASABJAEoASwBMAE0ATgBPAFAAUQBSAFMAVABVAFYAVwBYAFkAWgBbAFwAXQBeAF8AYABhAGIAYwBkAGUAZgBnAGgAaQBqAGsAbABtAG4AbwBwAHEAcgBzAHQAdQB2AHcAeAB5AHoAewB8AH0AfgB/AIAAgQCCAIMAhACFAIYAhwCIAIkAigCLAIwAjQCOAI8AkACRAJIAkwCUAJUAlgCXAJgAmQCaAJsAnACdAJ4AnwCgAKEAogCiAKEAoACfAJ4AnQCcAJsAmgCZAJgAlwCWAJUAlACTAJIAkQCQAI8AjgCNAIwAiwCKAIkAiACHAIYAhQCEAIMAggCBAIAAfwB+AH0AfAB7AHoAeQB4AHcAdgB1AHQAcwByAHEAcABvAG4AbQBsAGsAagBpAGgAZwBmAGUAZABjAGIAYQBgAF8AXgBdAFwAWwBaAFkAWABXAFYAVQBUAFMAUgBRAFAATwBOAE0ATABLAEoASQBIAEcARgBFAEQAQwBCAEEAQAA/AD4APQA8ADsAOgA5ADgANwA2ADUANAAzADIAMQAwAC8ALgAtACwAKwAqACkAKAAnACYAJQAkACMAIgAhACAAHwAeAB0AHAAbABoAGQAYABcAFgAVABQAEwASABEAEAAPAA4ADQAMAAsACgAJAAgABwAGAAUABAADAAIAAQAAAA==",
          "dtype": "i2"
         },
         "y": {
          "bdata": "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",
          "dtype": "f8"
         }
        }
       ],
       "layout": {
        "template": {
         "data": {
          "bar": [
           {
            "error_x": {
             "color": "#2a3f5f"
            },
            "error_y": {
             "color": "#2a3f5f"
            },
            "marker": {
             "line": {
              "color": "white",
              "width": 0.5
             },
             "pattern": {
              "fillmode": "overlay",
              "size": 10,
              "solidity": 0.2
             }
            },
            "type": "bar"
           }
          ],
          "barpolar": [
           {
            "marker": {
             "line": {
              "color": "white",
              "width": 0.5
             },
             "pattern": {
              "fillmode": "overlay",
              "size": 10,
              "solidity": 0.2
             }
            },
            "type": "barpolar"
           }
          ],
          "carpet": [
           {
            "aaxis": {
             "endlinecolor": "#2a3f5f",
             "gridcolor": "#C8D4E3",
             "linecolor": "#C8D4E3",
             "minorgridcolor": "#C8D4E3",
             "startlinecolor": "#2a3f5f"
            },
            "baxis": {
             "endlinecolor": "#2a3f5f",
             "gridcolor": "#C8D4E3",
             "linecolor": "#C8D4E3",
             "minorgridcolor": "#C8D4E3",
             "startlinecolor": "#2a3f5f"
            },
            "type": "carpet"
           }
          ],
          "choropleth": [
           {
            "colorbar": {
             "outlinewidth": 0,
             "ticks": ""
            },
            "type": "choropleth"
           }
          ],
          "contour": [
           {
            "colorbar": {
             "outlinewidth": 0,
             "ticks": ""
            },
            "colorscale": [
             [
              0,
              "#0d0887"
             ],
             [
              0.1111111111111111,
              "#46039f"
             ],
             [
              0.2222222222222222,
              "#7201a8"
             ],
             [
              0.3333333333333333,
              "#9c179e"
             ],
             [
              0.4444444444444444,
              "#bd3786"
             ],
             [
              0.5555555555555556,
              "#d8576b"
             ],
             [
              0.6666666666666666,
              "#ed7953"
             ],
             [
              0.7777777777777778,
              "#fb9f3a"
             ],
             [
              0.8888888888888888,
              "#fdca26"
             ],
             [
              1,
              "#f0f921"
             ]
            ],
            "type": "contour"
           }
          ],
          "contourcarpet": [
           {
            "colorbar": {
             "outlinewidth": 0,
             "ticks": ""
            },
            "type": "contourcarpet"
           }
          ],
          "heatmap": [
           {
            "colorbar": {
             "outlinewidth": 0,
             "ticks": ""
            },
            "colorscale": [
             [
              0,
              "#0d0887"
             ],
             [
              0.1111111111111111,
              "#46039f"
             ],
             [
              0.2222222222222222,
              "#7201a8"
             ],
             [
              0.3333333333333333,
              "#9c179e"
             ],
             [
              0.4444444444444444,
              "#bd3786"
             ],
             [
              0.5555555555555556,
              "#d8576b"
             ],
             [
              0.6666666666666666,
              "#ed7953"
             ],
             [
              0.7777777777777778,
              "#fb9f3a"
             ],
             [
              0.8888888888888888,
              "#fdca26"
             ],
             [
              1,
              "#f0f921"
             ]
            ],
            "type": "heatmap"
           }
          ],
          "histogram": [
           {
            "marker": {
             "pattern": {
              "fillmode": "overlay",
              "size": 10,
              "solidity": 0.2
             }
            },
            "type": "histogram"
           }
          ],
          "histogram2d": [
           {
            "colorbar": {
             "outlinewidth": 0,
             "ticks": ""
            },
            "colorscale": [
             [
              0,
              "#0d0887"
             ],
             [
              0.1111111111111111,
              "#46039f"
             ],
             [
              0.2222222222222222,
              "#7201a8"
             ],
             [
              0.3333333333333333,
              "#9c179e"
             ],
             [
              0.4444444444444444,
              "#bd3786"
             ],
             [
              0.5555555555555556,
              "#d8576b"
             ],
             [
              0.6666666666666666,
              "#ed7953"
             ],
             [
              0.7777777777777778,
              "#fb9f3a"
             ],
             [
              0.8888888888888888,
              "#fdca26"
             ],
             [
              1,
              "#f0f921"
             ]
            ],
            "type": "histogram2d"
           }
          ],
          "histogram2dcontour": [
           {
            "colorbar": {
             "outlinewidth": 0,
             "ticks": ""
            },
            "colorscale": [
             [
              0,
              "#0d0887"
             ],
             [
              0.1111111111111111,
              "#46039f"
             ],
             [
              0.2222222222222222,
              "#7201a8"
             ],
             [
              0.3333333333333333,
              "#9c179e"
             ],
             [
              0.4444444444444444,
              "#bd3786"
             ],
             [
              0.5555555555555556,
              "#d8576b"
             ],
             [
              0.6666666666666666,
              "#ed7953"
             ],
             [
              0.7777777777777778,
              "#fb9f3a"
             ],
             [
              0.8888888888888888,
              "#fdca26"
             ],
             [
              1,
              "#f0f921"
             ]
            ],
            "type": "histogram2dcontour"
           }
          ],
          "mesh3d": [
           {
            "colorbar": {
             "outlinewidth": 0,
             "ticks": ""
            },
            "type": "mesh3d"
           }
          ],
          "parcoords": [
           {
            "line": {
             "colorbar": {
              "outlinewidth": 0,
              "ticks": ""
             }
            },
            "type": "parcoords"
           }
          ],
          "pie": [
           {
            "automargin": true,
            "type": "pie"
           }
          ],
          "scatter": [
           {
            "fillpattern": {
             "fillmode": "overlay",
             "size": 10,
             "solidity": 0.2
            },
            "type": "scatter"
           }
          ],
          "scatter3d": [
           {
            "line": {
             "colorbar": {
              "outlinewidth": 0,
              "ticks": ""
             }
            },
            "marker": {
             "colorbar": {
              "outlinewidth": 0,
              "ticks": ""
             }
            },
            "type": "scatter3d"
           }
          ],
          "scattercarpet": [
           {
            "marker": {
             "colorbar": {
              "outlinewidth": 0,
              "ticks": ""
             }
            },
            "type": "scattercarpet"
           }
          ],
          "scattergeo": [
           {
            "marker": {
             "colorbar": {
              "outlinewidth": 0,
              "ticks": ""
             }
            },
            "type": "scattergeo"
           }
          ],
          "scattergl": [
           {
            "marker": {
             "colorbar": {
              "outlinewidth": 0,
              "ticks": ""
             }
            },
            "type": "scattergl"
           }
          ],
          "scattermap": [
           {
            "marker": {
             "colorbar": {
              "outlinewidth": 0,
              "ticks": ""
             }
            },
            "type": "scattermap"
           }
          ],
          "scattermapbox": [
           {
            "marker": {
             "colorbar": {
              "outlinewidth": 0,
              "ticks": ""
             }
            },
            "type": "scattermapbox"
           }
          ],
          "scatterpolar": [
           {
            "marker": {
             "colorbar": {
              "outlinewidth": 0,
              "ticks": ""
             }
            },
            "type": "scatterpolar"
           }
          ],
          "scatterpolargl": [
           {
            "marker": {
             "colorbar": {
              "outlinewidth": 0,
              "ticks": ""
             }
            },
            "type": "scatterpolargl"
           }
          ],
          "scatterternary": [
           {
            "marker": {
             "colorbar": {
              "outlinewidth": 0,
              "ticks": ""
             }
            },
            "type": "scatterternary"
           }
          ],
          "surface": [
           {
            "colorbar": {
             "outlinewidth": 0,
             "ticks": ""
            },
            "colorscale": [
             [
              0,
              "#0d0887"
             ],
             [
              0.1111111111111111,
              "#46039f"
             ],
             [
              0.2222222222222222,
              "#7201a8"
             ],
             [
              0.3333333333333333,
              "#9c179e"
             ],
             [
              0.4444444444444444,
              "#bd3786"
             ],
             [
              0.5555555555555556,
              "#d8576b"
             ],
             [
              0.6666666666666666,
              "#ed7953"
             ],
             [
              0.7777777777777778,
              "#fb9f3a"
             ],
             [
              0.8888888888888888,
              "#fdca26"
             ],
             [
              1,
              "#f0f921"
             ]
            ],
            "type": "surface"
           }
          ],
          "table": [
           {
            "cells": {
             "fill": {
              "color": "#EBF0F8"
             },
             "line": {
              "color": "white"
             }
            },
            "header": {
             "fill": {
              "color": "#C8D4E3"
             },
             "line": {
              "color": "white"
             }
            },
            "type": "table"
           }
          ]
         },
         "layout": {
          "annotationdefaults": {
           "arrowcolor": "#2a3f5f",
           "arrowhead": 0,
           "arrowwidth": 1
          },
          "autotypenumbers": "strict",
          "coloraxis": {
           "colorbar": {
            "outlinewidth": 0,
            "ticks": ""
           }
          },
          "colorscale": {
           "diverging": [
            [
             0,
             "#8e0152"
            ],
            [
             0.1,
             "#c51b7d"
            ],
            [
             0.2,
             "#de77ae"
            ],
            [
             0.3,
             "#f1b6da"
            ],
            [
             0.4,
             "#fde0ef"
            ],
            [
             0.5,
             "#f7f7f7"
            ],
            [
             0.6,
             "#e6f5d0"
            ],
            [
             0.7,
             "#b8e186"
            ],
            [
             0.8,
             "#7fbc41"
            ],
            [
             0.9,
             "#4d9221"
            ],
            [
             1,
             "#276419"
            ]
           ],
           "sequential": [
            [
             0,
             "#0d0887"
            ],
            [
             0.1111111111111111,
             "#46039f"
            ],
            [
             0.2222222222222222,
             "#7201a8"
            ],
            [
             0.3333333333333333,
             "#9c179e"
            ],
            [
             0.4444444444444444,
             "#bd3786"
            ],
            [
             0.5555555555555556,
             "#d8576b"
            ],
            [
             0.6666666666666666,
             "#ed7953"
            ],
            [
             0.7777777777777778,
             "#fb9f3a"
            ],
            [
             0.8888888888888888,
             "#fdca26"
            ],
            [
             1,
             "#f0f921"
            ]
           ],
           "sequentialminus": [
            [
             0,
             "#0d0887"
            ],
            [
             0.1111111111111111,
             "#46039f"
            ],
            [
             0.2222222222222222,
             "#7201a8"
            ],
            [
             0.3333333333333333,
             "#9c179e"
            ],
            [
             0.4444444444444444,
             "#bd3786"
            ],
            [
             0.5555555555555556,
             "#d8576b"
            ],
            [
             0.6666666666666666,
             "#ed7953"
            ],
            [
             0.7777777777777778,
             "#fb9f3a"
            ],
            [
             0.8888888888888888,
             "#fdca26"
            ],
            [
             1,
             "#f0f921"
            ]
           ]
          },
          "colorway": [
           "#636efa",
           "#EF553B",
           "#00cc96",
           "#ab63fa",
           "#FFA15A",
           "#19d3f3",
           "#FF6692",
           "#B6E880",
           "#FF97FF",
           "#FECB52"
          ],
          "font": {
           "color": "#2a3f5f"
          },
          "geo": {
           "bgcolor": "white",
           "lakecolor": "white",
           "landcolor": "white",
           "showlakes": true,
           "showland": true,
           "subunitcolor": "#C8D4E3"
          },
          "hoverlabel": {
           "align": "left"
          },
          "hovermode": "closest",
          "mapbox": {
           "style": "light"
          },
          "paper_bgcolor": "white",
          "plot_bgcolor": "white",
          "polar": {
           "angularaxis": {
            "gridcolor": "#EBF0F8",
            "linecolor": "#EBF0F8",
            "ticks": ""
           },
           "bgcolor": "white",
           "radialaxis": {
            "gridcolor": "#EBF0F8",
            "linecolor": "#EBF0F8",
            "ticks": ""
           }
          },
          "scene": {
           "xaxis": {
            "backgroundcolor": "white",
            "gridcolor": "#DFE8F3",
            "gridwidth": 2,
            "linecolor": "#EBF0F8",
            "showbackground": true,
            "ticks": "",
            "zerolinecolor": "#EBF0F8"
           },
           "yaxis": {
            "backgroundcolor": "white",
            "gridcolor": "#DFE8F3",
            "gridwidth": 2,
            "linecolor": "#EBF0F8",
            "showbackground": true,
            "ticks": "",
            "zerolinecolor": "#EBF0F8"
           },
           "zaxis": {
            "backgroundcolor": "white",
            "gridcolor": "#DFE8F3",
            "gridwidth": 2,
            "linecolor": "#EBF0F8",
            "showbackground": true,
            "ticks": "",
            "zerolinecolor": "#EBF0F8"
           }
          },
          "shapedefaults": {
           "line": {
            "color": "#2a3f5f"
           }
          },
          "ternary": {
           "aaxis": {
            "gridcolor": "#DFE8F3",
            "linecolor": "#A2B1C6",
            "ticks": ""
           },
           "baxis": {
            "gridcolor": "#DFE8F3",
            "linecolor": "#A2B1C6",
            "ticks": ""
           },
           "bgcolor": "white",
           "caxis": {
            "gridcolor": "#DFE8F3",
            "linecolor": "#A2B1C6",
            "ticks": ""
           }
          },
          "title": {
           "x": 0.05
          },
          "xaxis": {
           "automargin": true,
           "gridcolor": "#EBF0F8",
           "linecolor": "#EBF0F8",
           "ticks": "",
           "title": {
            "standoff": 15
           },
           "zerolinecolor": "#EBF0F8",
           "zerolinewidth": 2
          },
          "yaxis": {
           "automargin": true,
           "gridcolor": "#EBF0F8",
           "linecolor": "#EBF0F8",
           "ticks": "",
           "title": {
            "standoff": 15
           },
           "zerolinecolor": "#EBF0F8",
           "zerolinewidth": 2
          }
         }
        },
        "title": {
         "text": "Cross-Validation (N=5) Mean Logloss with Error Bands"
        },
        "xaxis": {
         "title": {
          "text": "Training Steps"
         }
        },
        "yaxis": {
         "title": {
          "text": "Logloss"
         }
        }
       }
      }
     },
     "metadata": {},
     "output_type": "display_data"
    }
   ],
   "source": [
    "import plotly.graph_objects as go\n",
    "\n",
    "# Create figure\n",
    "fig = go.Figure()\n",
    "\n",
    "# Add mean performance line\n",
    "fig.add_trace(\n",
    "    go.Scatter(\n",
    "        x=cv_results[\"iterations\"], y=cv_results[\"test-Logloss-mean\"], mode=\"lines\", name=\"Mean logloss\", line=dict(color=\"blue\")\n",
    "    )\n",
    ")\n",
    "\n",
    "# Add shaded error region\n",
    "fig.add_trace(\n",
    "    go.Scatter(\n",
    "        x=pd.concat([cv_results[\"iterations\"], cv_results[\"iterations\"][::-1]]),\n",
    "        y=pd.concat([cv_results[\"test-Logloss-mean\"]+cv_results[\"test-Logloss-std\"], \n",
    "                     cv_results[\"test-Logloss-mean\"]-cv_results[\"test-Logloss-std\"]]),\n",
    "        fill=\"toself\", \n",
    "        fillcolor=\"rgba(0, 0, 255, 0.2)\",\n",
    "        line=dict(color=\"rgba(255, 255, 255, 0)\"),\n",
    "        showlegend=False\n",
    "    )\n",
    ")\n",
    "\n",
    "# Customize layout\n",
    "fig.update_layout(\n",
    "    title=\"Cross-Validation (N=5) Mean Logloss with Error Bands\",\n",
    "    xaxis_title=\"Training Steps\",\n",
    "    yaxis_title=\"Logloss\",\n",
    "    template=\"plotly_white\"\n",
    ")\n",
    "\n",
    "fig.show()\n",
    "\n",
    "fig.write_image(outfolder / \"test_logloss_v2.png\")"
   ]
  },
  {
   "cell_type": "markdown",
   "id": "660b208e-b2b8-4bd2-ae70-6f75b550d65d",
   "metadata": {
    "editable": false,
    "slideshow": {
     "slide_type": "slide"
    },
    "tags": []
   },
   "source": [
    "Fit model on full dataset:"
   ]
  },
  {
   "cell_type": "code",
   "execution_count": 14,
   "id": "a8059c1d-ee28-4580-9d5d-9a9c4eb91a4b",
   "metadata": {
    "editable": true,
    "scrolled": true,
    "slideshow": {
     "slide_type": "subslide"
    },
    "tags": []
   },
   "outputs": [
    {
     "data": {
      "application/vnd.jupyter.widget-view+json": {
       "model_id": "8928147e03e647dfb2fa357b2ea56bbb",
       "version_major": 2,
       "version_minor": 0
      },
      "text/plain": [
       "MetricVisualizer(layout=Layout(align_self='stretch', height='500px'))"
      ]
     },
     "metadata": {},
     "output_type": "display_data"
    },
    {
     "name": "stdout",
     "output_type": "stream",
     "text": [
      "0:\tlearn: 0.7321429\ttotal: 14ms\tremaining: 2.27s\n",
      "50:\tlearn: 0.8535826\ttotal: 709ms\tremaining: 1.56s\n",
      "100:\tlearn: 0.8813559\ttotal: 1.45s\tremaining: 889ms\n",
      "150:\tlearn: 0.9115854\ttotal: 2.19s\tremaining: 174ms\n",
      "162:\tlearn: 0.9160305\ttotal: 2.36s\tremaining: 0us\n"
     ]
    },
    {
     "data": {
      "text/plain": [
       "['results\\\\model_params_v2.pkl']"
      ]
     },
     "execution_count": 14,
     "metadata": {},
     "output_type": "execute_result"
    }
   ],
   "source": [
    "model.fit(\n",
    "    X_train,\n",
    "    y_train,\n",
    "    verbose_eval=50,\n",
    "    early_stopping_rounds=50,\n",
    "    cat_features=categorical_indices,\n",
    "    use_best_model=False,\n",
    "    plot=True\n",
    ")\n",
    "\n",
    "model.save_model(outfolder / 'catboost_model_titanic_v2.cbm')\n",
    "joblib.dump(params, outfolder / 'model_params_v2.pkl')"
   ]
  },
  {
   "cell_type": "markdown",
   "id": "11d6658f-ac2b-4a8f-a872-b66bbcf4b19b",
   "metadata": {
    "editable": false,
    "slideshow": {
     "slide_type": "slide"
    },
    "tags": []
   },
   "source": [
    "And now to copy paste the train preprocessing code to preprocess the test set, and run a prediction:"
   ]
  },
  {
   "cell_type": "code",
   "execution_count": 15,
   "id": "ea7b6f53-6b16-453f-b0b8-336f0b8ceee1",
   "metadata": {
    "editable": true,
    "slideshow": {
     "slide_type": "subslide"
    },
    "tags": []
   },
   "outputs": [
    {
     "data": {
      "text/plain": [
       "array(['Mr', 'Mrs', 'Miss', 'Master', 'Ms', 'Col', 'Rev', 'Dr', 'Dona'],\n",
       "      dtype=object)"
      ]
     },
     "execution_count": 15,
     "metadata": {},
     "output_type": "execute_result"
    }
   ],
   "source": [
    "df_test = pd.read_csv(download_folder / \"test.csv\")\n",
    "df_test = df_test.drop(columns=[\"Ticket\"])\n",
    "df_test_id = df_test.pop(\"PassengerId\")\n",
    "df_test = df_test.fillna({\"Embarked\": \"N\", \"Age\": X_train[\"Age\"].mean()})\n",
    "\n",
    "pattern = r'([A-Za-z]+)(\\d+)'\n",
    "matches = df_test['Cabin'].str.extractall(pattern)\n",
    "matches.reset_index(inplace=True)\n",
    "result = matches.pivot(index='level_0', columns='match', values=[0, 1])\n",
    "result.columns = [f\"{col[0]}_{col[1]}\" for col in result.columns]\n",
    "df_test = df_test.join(result[[\"0_0\", \"1_0\"]])\n",
    "df_test[\"1_0\"] = df_test[\"1_0\"].astype(float)\n",
    "df_test = df_test.fillna({\"0_0\": \"N\", \"1_0\": X_train[\"CabinNumber\"].mean()})\n",
    "df_test[\"1_0\"] = df_test[\"1_0\"].astype(int)\n",
    "df_test = df_test.rename(columns={\"0_0\": \"Deck\", \"1_0\": \"CabinNumber\"})\n",
    "\n",
    "df_test[\"Title\"] = df_test[\"Name\"].apply(extract_title)\n",
    "\n",
    "df_test.drop(columns=[\"Cabin\", \"Name\"], axis=1, inplace=True)\n",
    "df_test[\"Title\"].unique()"
   ]
  },
  {
   "cell_type": "code",
   "execution_count": 16,
   "id": "e74f9e3e-c213-4aa7-a896-85e40ab68615",
   "metadata": {
    "editable": true,
    "slideshow": {
     "slide_type": "subslide"
    },
    "tags": []
   },
   "outputs": [],
   "source": [
    "preds = model.predict(df_test[X_train.columns])"
   ]
  },
  {
   "cell_type": "markdown",
   "id": "fca71205-8486-4e32-9875-efdd5c627a94",
   "metadata": {
    "editable": false,
    "slideshow": {
     "slide_type": "slide"
    },
    "tags": []
   },
   "source": [
    "Get the shapley overview plot showing the importance of the new features as well:"
   ]
  },
  {
   "cell_type": "code",
   "execution_count": 17,
   "id": "e42c6466-ce53-4a6f-a230-ee7599adfa45",
   "metadata": {
    "editable": true,
    "slideshow": {
     "slide_type": "subslide"
    },
    "tags": []
   },
   "outputs": [
    {
     "data": {
      "image/png": "[encoded data removed]",
      "text/plain": [
       "<Figure size 800x550 with 2 Axes>"
      ]
     },
     "metadata": {},
     "output_type": "display_data"
    }
   ],
   "source": [
    "import shap\n",
    "import matplotlib.pyplot as plt\n",
    "explainer = shap.TreeExplainer(model)\n",
    "shap_values = explainer.shap_values(df_test[X_train.columns])\n",
    "\n",
    "shap.summary_plot(shap_values, df_test, show=False)\n",
    "plt.savefig(outfolder / \"test_shap_overall_v2.png\")"
   ]
  },
  {
   "cell_type": "markdown",
   "id": "d3053685-a2c1-42fc-9dd7-b19b3166b5ae",
   "metadata": {
    "editable": false,
    "slideshow": {
     "slide_type": "slide"
    },
    "tags": []
   },
   "source": [
    "And finally let's get the score on the test set:"
   ]
  },
  {
   "cell_type": "code",
   "execution_count": 18,
   "id": "2a66930d-3abd-4b45-8c44-47892205fd28",
   "metadata": {
    "editable": true,
    "slideshow": {
     "slide_type": "subslide"
    },
    "tags": []
   },
   "outputs": [],
   "source": [
    "df_test[\"PassengerId\"] = df_test_id\n",
    "df_test[\"Survived\"] = preds\n",
    "\n",
    "df_test[[\"PassengerId\", \"Survived\"]].to_csv(outfolder / \"predictions_v2.csv\", index=False)"
   ]
  },
  {
   "cell_type": "markdown",
   "id": "611f00de-4968-4bde-9151-c11dbbdc27d0",
   "metadata": {
    "editable": true,
    "slideshow": {
     "slide_type": "subslide"
    },
    "tags": []
   },
   "source": [
    "And submitting again to kaggle we get a slight improvement but with the client happier that we used all the data at least:\n",
    "  \n",
    "![screenshot of kaggle submission page v2 with prediction performance of 0.76555](results/kaggle_result_v2.png \"Kaggle Result\")"
   ]
  }
 ],
 "metadata": {
  "kernelspec": {
   "display_name": ".venv",
   "language": "python",
   "name": "python3"
  },
  "language_info": {
   "codemirror_mode": {
    "name": "ipython",
    "version": 3
   },
   "file_extension": ".py",
   "mimetype": "text/x-python",
   "name": "python",
   "nbconvert_exporter": "python",
   "pygments_lexer": "ipython3",
   "version": "3.11.9"
  }
 },
 "nbformat": 4,
 "nbformat_minor": 5
}
